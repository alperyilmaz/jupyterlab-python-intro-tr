{
 "cells": [
  {
   "cell_type": "markdown",
   "metadata": {},
   "source": [
    "# Importing functions\n",
    "\n",
    "You can import functions from existing libraries with `import` command. Just `import` will import the namespace so that you can use functions in `lib.function()` fashion.\n",
    "\n",
    "You can import specific functions from libraries by `from lib import function` after which `function()` will be available in your environment.\n",
    "\n",
    "Let's do word and character count by using the `Counter` function from `collections` library."
   ]
  },
  {
   "cell_type": "code",
   "execution_count": null,
   "metadata": {
    "tags": []
   },
   "outputs": [],
   "source": [
    "from collections import Counter\n",
    "\n",
    "f=open(\"data/jane-austen-emma.txt\")\n",
    "\n",
    "Counter(f.read().lower())"
   ]
  },
  {
   "cell_type": "code",
   "execution_count": null,
   "metadata": {},
   "outputs": [],
   "source": [
    "f=open(\"data/jane-austen-emma.txt\")\n",
    "\n",
    "word_count = Counter(f.read().lower().split())\n",
    "\n",
    "list(word_count.items())[0:10]"
   ]
  },
  {
   "cell_type": "markdown",
   "metadata": {},
   "source": [
    "<div class=\"alert alert-block alert-warning\">\n",
    "    <i class=\"fas fa-fw fa-exclamation-circle mr-3 align-self-center\"></i>\n",
    "    <b>Note:</b> The libraries such as <em>random, sys and time</em> are included in base Python installation. However, there are many Python libraries are available for specific purposes. Those libraries are needed to installed if you want to use them. The libraries used in this lecture were installed in this Binder session. <br> But, remember, in your local installation, you need to install the library that you plan to use.<br>\n",
    "</div>"
   ]
  },
  {
   "cell_type": "markdown",
   "metadata": {},
   "source": [
    "## Lambda function\n",
    "\n",
    "A lambda function is a small anonymous function. The expression \n",
    "`add_one = lambda x: x + 1` is equivalent to \n",
    "\n",
    "```python\n",
    "def add_one(x):\n",
    "    return x + 1\n",
    "```\n"
   ]
  },
  {
   "cell_type": "code",
   "execution_count": null,
   "metadata": {},
   "outputs": [],
   "source": [
    "x = lambda a : a + 10\n",
    "print(x(5)) "
   ]
  },
  {
   "cell_type": "code",
   "execution_count": null,
   "metadata": {
    "tags": []
   },
   "outputs": [],
   "source": [
    "sorted(word_count.items(), key=lambda x: x[1], reverse=True)"
   ]
  },
  {
   "cell_type": "markdown",
   "metadata": {},
   "source": [
    "## `Map`, `filter` and `reduce`\n",
    "\n",
    "Please go over info at https://www.guru99.com/python-lambda-function.html"
   ]
  },
  {
   "cell_type": "markdown",
   "metadata": {},
   "source": [
    "# Plotting with matplotlib\n",
    "\n",
    "Documentation of matplotlib for version 3.x is located [here](https://matplotlib.org/3.0.2/index.html)\n",
    "\n",
    "Run the cell below to check the version of the matplotlib used in this notebook."
   ]
  },
  {
   "cell_type": "code",
   "execution_count": null,
   "metadata": {},
   "outputs": [],
   "source": [
    "%load_ext watermark\n",
    "%watermark  -p matplotlib"
   ]
  },
  {
   "cell_type": "markdown",
   "metadata": {},
   "source": [
    "We alse need to run the following cell once so that the output of plotting function is displayed within notebook environment."
   ]
  },
  {
   "cell_type": "code",
   "execution_count": null,
   "metadata": {},
   "outputs": [],
   "source": [
    "%matplotlib inline"
   ]
  },
  {
   "cell_type": "markdown",
   "metadata": {},
   "source": [
    "Here's the anatomy of a figure (taken from matplotlib documentation). As you can see, a figure is composed of many components, thus we need access to almost all of components to generate a correct, aesthetic and reproducible figure."
   ]
  },
  {
   "cell_type": "markdown",
   "metadata": {},
   "source": [
    "![anatomy](https://matplotlib.org/_images/anatomy.png)"
   ]
  },
  {
   "cell_type": "markdown",
   "metadata": {},
   "source": [
    "Let's start drawing a plot. We need to import the matplotlib and its pyplot module. This needs to be done once per session but you might notice it has been called many times. Also, for practical reasons, the pyplot object will be called `plt` and this is just a norm, you can name it anything you like.\n",
    "\n",
    "> `Matplotlib` is the whole package; `matplotlib.pyplot` is a module in matplotlib\n",
    "\n",
    "import matplotlib.pyplot as plt\n",
    "plt.plot([1.6, 2.7])"
   ]
  },
  {
   "cell_type": "markdown",
   "metadata": {},
   "source": [
    "Looks like `plot` function accepts a list (or array) and plots it. The list is accepted as y values and x values are automatically assigned 0 and 1.\n",
    "\n",
    "But, we can provide two lists as `x` and `y` values."
   ]
  },
  {
   "cell_type": "code",
   "execution_count": null,
   "metadata": {},
   "outputs": [],
   "source": [
    "import matplotlib.pyplot as plt\n",
    "plt.plot([1.6, 2.7, 3.5],[10,5,15])"
   ]
  },
  {
   "cell_type": "markdown",
   "metadata": {},
   "source": [
    "Notice that `plot` function is printing the object itself and notebook is showing the image. For clearer output let's use `show()` function.\n",
    "\n",
    "> In other environments, you **need* to use `show` function to see the resulting plot."
   ]
  },
  {
   "cell_type": "code",
   "execution_count": null,
   "metadata": {},
   "outputs": [],
   "source": [
    "plt.plot([1.6, 2.7],[10,5])\n",
    "plt.show()"
   ]
  },
  {
   "cell_type": "code",
   "execution_count": null,
   "metadata": {},
   "outputs": [],
   "source": [
    "x = [1,2,3,4]\n",
    "y = [10,20,25,27]\n",
    "plt.plot(x,y)\n",
    "plt.show()"
   ]
  },
  {
   "cell_type": "markdown",
   "metadata": {},
   "source": [
    "As we mentioned earlier, a figure has many components and we have access to them. Let's change color and width of the line."
   ]
  },
  {
   "cell_type": "code",
   "execution_count": null,
   "metadata": {},
   "outputs": [],
   "source": [
    "plt.plot(x, y, color='red', linewidth=5)\n",
    "plt.show()"
   ]
  },
  {
   "cell_type": "markdown",
   "metadata": {},
   "source": [
    "Now, let's overlay separate layers of drawings. As you can see the default type of drawing is line. Scatter plot takes (x,y) values and draws point at given coordinates."
   ]
  },
  {
   "cell_type": "code",
   "execution_count": null,
   "metadata": {},
   "outputs": [],
   "source": [
    "plt.plot(x, y, color='red', linewidth=5)\n",
    "plt.scatter([0.7,2.5,4], [5,25,30], c='green')\n",
    "plt.show()"
   ]
  },
  {
   "cell_type": "markdown",
   "metadata": {},
   "source": [
    "We can adjust color or type of the plot. Additionally, we can modify figure components such as `xlim`, `legend`, `title`, `xlabel` and `ylabel`."
   ]
  },
  {
   "cell_type": "code",
   "execution_count": null,
   "metadata": {},
   "outputs": [],
   "source": [
    "plt.plot(x, y, color='red', linewidth=5, label=\"line\")\n",
    "plt.scatter([0.7,2.5,4], [5,25,30], c='green', label=\"dots\")\n",
    "plt.legend(loc=\"lower center\", title=\"Legend\", ncol=1)\n",
    "plt.show()"
   ]
  },
  {
   "cell_type": "code",
   "execution_count": null,
   "metadata": {},
   "outputs": [],
   "source": [
    "plt.plot(x, y, color='red', linewidth=5, label=\"line\")\n",
    "plt.scatter([0.7,2.5,4], [5,25,30], c='green', label=\"dots\")\n",
    "plt.legend()\n",
    "plt.xlim(0,6)\n",
    "plt.show()"
   ]
  },
  {
   "cell_type": "code",
   "execution_count": null,
   "metadata": {},
   "outputs": [],
   "source": [
    "plt.plot(x, y, color='red', linewidth=5, label=\"line\")\n",
    "plt.scatter([0.7,2.5,4], [5,25,30], c='green', label=\"dots\")\n",
    "plt.legend()\n",
    "plt.xlim(0,6)\n",
    "plt.title(\"Sample Figure\")\n",
    "plt.xlabel(\"Measurement No\")\n",
    "plt.ylabel(\"Some units\")\n",
    "plt.show()"
   ]
  },
  {
   "cell_type": "markdown",
   "metadata": {},
   "source": [
    "Many of the functions have numerous arguments to adjust. If you don't define any argument then defaults will be used. For example, we didn't provide any details to `legend()` function but it still worked. Let's see what we can change in `legend()` function from the [manual](https://matplotlib.org/api/_as_gen/matplotlib.pyplot.legend.html) and adjust some parameters."
   ]
  },
  {
   "cell_type": "code",
   "execution_count": null,
   "metadata": {},
   "outputs": [],
   "source": [
    "plt.plot(x, y, color='red', linewidth=5, label=\"red line\")\n",
    "plt.scatter([0.7,2.5,4], [5,25,30], c='green', label=\"green dots\")\n",
    "plt.legend(loc=\"lower center\", ncol=2, fontsize='small')\n",
    "plt.xlim(0,6)\n",
    "plt.title(\"Sample Figure\")\n",
    "plt.xlabel(\"Measurement No\")\n",
    "plt.ylabel(\"Some units\")\n",
    "plt.show()"
   ]
  },
  {
   "cell_type": "code",
   "execution_count": null,
   "metadata": {},
   "outputs": [],
   "source": [
    "# modified from https://matplotlib.org/tutorials/introductory/usage.html#sphx-glr-tutorials-introductory-usage-py\n",
    "\n",
    "#x_array = np.linspace(0, 2, 100)\n",
    "#plt.plot(x_array, x_array, label='linear')\n",
    "#plt.plot(x_array, x_array**2, label='quadratic')\n",
    "#plt.plot(x_array, x_array**3, label='cubic')\n",
    "\n",
    "x2=[x * 0.01 for x in range(0, 200)]\n",
    "plt.plot(x2,x2, label='linear')\n",
    "plt.plot(x2,[x**2 for x in x2], label='quadratic', lw=3)\n",
    "plt.plot(x2,[x**3 for x in x2], label='cubic')\n",
    "\n",
    "plt.xlabel('x label')\n",
    "plt.ylabel('y label')\n",
    "plt.title(\"Simple Plot\")\n",
    "plt.legend()\n",
    "plt.show()"
   ]
  },
  {
   "cell_type": "markdown",
   "metadata": {},
   "source": [
    "## Subplots"
   ]
  },
  {
   "cell_type": "code",
   "execution_count": null,
   "metadata": {},
   "outputs": [],
   "source": [
    "plt.subplot(121)  # 1 row 2 columns and this is first plot\n",
    "plt.plot(x, y, color='red', linewidth=5, label=\"line\")\n",
    "plt.title(\"Sample Figure1\")\n",
    "plt.subplot(122)  # following commands are applied to second plot\n",
    "plt.scatter([0.7,2.5,4], [5,25,30], c='green', label=\"dots\")\n",
    "plt.legend()\n",
    "plt.xlim(0,6)\n",
    "plt.title(\"Sample Figure2\")\n",
    "plt.xlabel(\"Measurement No\")\n",
    "plt.ylabel(\"Some units\")\n",
    "plt.show()"
   ]
  },
  {
   "cell_type": "code",
   "execution_count": null,
   "metadata": {},
   "outputs": [],
   "source": [
    "import matplotlib.pyplot as plt\n",
    "\n",
    "# Initialize the plot\n",
    "fig = plt.figure(figsize=(8,4))\n",
    "ax1 = fig.add_subplot(131)\n",
    "ax2 = fig.add_subplot(132)\n",
    "ax3 = fig.add_subplot(133)\n",
    "\n",
    "# Plot the data\n",
    "ax1.bar([1,2,3],[3,4,5])\n",
    "ax2.barh([0.5,1,2.5],[0,1,2])\n",
    "ax2.axhline(0.45)\n",
    "ax1.axvline(0.65)\n",
    "ax3.scatter(x,y)\n",
    "ax3.set_xlim(0,4)\n",
    "ax3.yaxis.tick_right()\n",
    "ax3.set_title('$x^2$ and $y$')\n",
    "\n",
    "fig.suptitle(\"Title for whole figure\")\n",
    "plt.show()  # or plt.savefig('images/foo.png')"
   ]
  },
  {
   "cell_type": "markdown",
   "metadata": {},
   "source": [
    "## subplot2grid\n",
    "\n",
    "`subplot2grid()` is a helper function that is similar to `subplot()` but uses 0-based indexing and let subplot to **occupy multiple cells**."
   ]
  },
  {
   "cell_type": "code",
   "execution_count": null,
   "metadata": {},
   "outputs": [],
   "source": [
    "plt.figure(figsize=(8,4))\n",
    "ax1 = plt.subplot2grid((3, 3), (0, 0), colspan=3)\n",
    "ax2 = plt.subplot2grid((3, 3), (1, 0), colspan=2)\n",
    "ax3 = plt.subplot2grid((3, 3), (1, 2), rowspan=2)\n",
    "ax4 = plt.subplot2grid((3, 3), (2, 0))\n",
    "ax5 = plt.subplot2grid((3, 3), (2, 1))\n",
    "plt.show()"
   ]
  },
  {
   "cell_type": "code",
   "execution_count": null,
   "metadata": {},
   "outputs": [],
   "source": [
    "# modified from https://realpython.com/python-matplotlib-guide/\n",
    "# from io import BytesIO\n",
    "# import tarfile\n",
    "# from urllib.request import urlopen\n",
    "# url = 'http://www.dcc.fc.up.pt/~ltorgo/Regression/cal_housing.tgz'\n",
    "# b = BytesIO(urlopen(url).read())\n",
    "# fpath = 'CaliforniaHousing/cal_housing.data'\n",
    "# with tarfile.open(mode='r', fileobj=b) as archive:\n",
    "#     housing = np.loadtxt(archive.extractfile(fpath), delimiter=',')\n",
    "import numpy as np\n",
    "housing = np.loadtxt(\"data/cal_housing.data\", delimiter=',')\n",
    "y = housing[:, -1]\n",
    "pop, age = housing[:, [4, 7]].T\n",
    "\n",
    "def add_titlebox(ax, text):\n",
    "    ax.text(.55, .8, text,\n",
    "        horizontalalignment='center',\n",
    "        transform=ax.transAxes,\n",
    "        bbox=dict(facecolor='white', alpha=0.6),\n",
    "        fontsize=12.5)\n",
    "    return ax\n",
    "\n",
    "gridsize = (3, 2)\n",
    "fig = plt.figure(figsize=(12, 8))\n",
    "ax1 = plt.subplot2grid(gridsize, (0, 0), colspan=2, rowspan=2)\n",
    "ax2 = plt.subplot2grid(gridsize, (2, 0))\n",
    "ax3 = plt.subplot2grid(gridsize, (2, 1))\n",
    "\n",
    "ax1.set_title('Home value as a function of home age & area population',\n",
    "              fontsize=14)\n",
    "sctr = ax1.scatter(x=age, y=pop, c=y, cmap='RdYlGn')\n",
    "plt.colorbar(sctr, ax=ax1, format='$%d')\n",
    "ax1.set_yscale('log')\n",
    "ax2.hist(age, bins='auto')\n",
    "ax3.hist(pop, bins='auto', log=True)\n",
    "\n",
    "add_titlebox(ax2, 'Histogram: home age')\n",
    "add_titlebox(ax3, 'Histogram: area population (log scl.)')\n",
    "plt.show()"
   ]
  },
  {
   "cell_type": "markdown",
   "metadata": {},
   "source": [
    "## Chaos game\n",
    "\n",
    "Definition of the game: Assume we have 3 vertices A,B and C forming a triangular area. Pick a random point within triangle and then iterate over these steps:\n",
    "* pick a random vertex\n",
    "* move the point halfway between current position and selected vertex's location\n",
    "\n",
    "If we do this many times what type of plot do you expect? Let's find out by the help of plot function."
   ]
  },
  {
   "cell_type": "code",
   "execution_count": null,
   "metadata": {},
   "outputs": [],
   "source": [
    "import random\n",
    "from IPython.display import clear_output\n",
    "import matplotlib.pyplot as plt\n",
    "\n",
    "def move_point(point,vertex):\n",
    "    x=(point[0]+vertex[0])/2\n",
    "    y=(point[1]+vertex[1])/2\n",
    "    return (x,y)\n",
    "\n",
    "# vertex={'A':(0.5,1), 'B':(0,0), 'C':(1,0)}\n",
    "vertex=[(0.5,0.86),(0,0),(1,0)]\n",
    "x=[]\n",
    "y=[]\n",
    "\n",
    "point=[0.5,0.5]\n",
    "x.append(point[0])\n",
    "y.append(point[1])\n",
    "\n",
    "for i in range(10000):\n",
    "    random_index = random.randrange(0, 3)\n",
    "    point=move_point(point,vertex[random_index])\n",
    "    x.append(point[0])\n",
    "    y.append(point[1])\n",
    "    \n",
    "plt.figure(figsize=(12,12))\n",
    "plt.scatter(x,y,s=1)\n",
    "plt.scatter(*zip(*vertex), c='black')\n",
    "plt.show()"
   ]
  },
  {
   "cell_type": "markdown",
   "metadata": {},
   "source": [
    "### Chaos game - square\n",
    "\n",
    "Let's see what type of pattern we get for 4 vertices."
   ]
  },
  {
   "cell_type": "code",
   "execution_count": null,
   "metadata": {},
   "outputs": [],
   "source": [
    "import random\n",
    "import matplotlib.pyplot as plt\n",
    "\n",
    "def move_point(point,vertex):\n",
    "    x=(point[0]+vertex[0])/2\n",
    "    y=(point[1]+vertex[1])/2\n",
    "    return (x,y)\n",
    "\n",
    "# vertex={'A':(0.5,1), 'B':(0,0), 'C':(1,0)}\n",
    "vertex=[(0,0),(1,0),(0,1),(1,1)]\n",
    "x=[]\n",
    "y=[]\n",
    "\n",
    "point=[0.5,0.5]\n",
    "for i in range(10000):\n",
    "    random_index = random.randrange(0, 4)\n",
    "    point=move_point(point,vertex[random_index])\n",
    "    x.append(point[0])\n",
    "    y.append(point[1])\n",
    "    \n",
    "plt.figure(figsize=(12,12))\n",
    "plt.scatter(x,y,s=1)\n",
    "plt.show()"
   ]
  },
  {
   "cell_type": "markdown",
   "metadata": {},
   "source": [
    "### Generic approach\n",
    "\n",
    "When we introduced the concept, the point was said to move halfway. But the amount of movement can be different than half. So let's rewrite the code so that the point moves a certain ratio `r`. \n",
    "\n",
    "Then, let's see what type of pattern we get for a ratio other than half (the example below uses ratio of **0.4**)"
   ]
  },
  {
   "cell_type": "code",
   "execution_count": null,
   "metadata": {},
   "outputs": [],
   "source": [
    "import random\n",
    "import matplotlib.pyplot as plt\n",
    "\n",
    "def move_point_gen(point,vertex,r):\n",
    "    x=point[0]+(vertex[0]-point[0])*(1-r)\n",
    "    y=point[1]+(vertex[1]-point[1])*(1-r)\n",
    "    return (x,y)\n",
    "\n",
    "# vertex={'A':(0.5,1), 'B':(0,0), 'C':(1,0)}\n",
    "vertex=[(0,0),(1,0),(0,1),(1,1)]\n",
    "x=[]\n",
    "y=[]\n",
    "\n",
    "point=[0.5,0.5]\n",
    "for i in range(10000):\n",
    "    random_index = random.randrange(0, 4)\n",
    "    point=move_point_gen(point,vertex[random_index],0.4)\n",
    "    x.append(point[0])\n",
    "    y.append(point[1])\n",
    "    \n",
    "plt.figure(figsize=(12,12))\n",
    "plt.scatter(x,y,s=1)\n",
    "plt.show()"
   ]
  },
  {
   "cell_type": "markdown",
   "metadata": {},
   "source": [
    "Please check if results match with [Wolfram website](http://mathworld.wolfram.com/ChaosGame.html)."
   ]
  },
  {
   "cell_type": "markdown",
   "metadata": {},
   "source": [
    "## plot word/char count\n"
   ]
  },
  {
   "cell_type": "code",
   "execution_count": null,
   "metadata": {},
   "outputs": [],
   "source": [
    "dict1 = {'a': 10, 'b': 2, 'c': 5, 'd': 4}\n",
    "chars= list(dict1.keys())\n",
    "counts = [dict1[x] for x in chars]"
   ]
  },
  {
   "cell_type": "code",
   "execution_count": null,
   "metadata": {},
   "outputs": [],
   "source": [
    "print(chars, counts)"
   ]
  },
  {
   "cell_type": "code",
   "execution_count": null,
   "metadata": {},
   "outputs": [],
   "source": [
    "import matplotlib.pyplot as plt\n",
    "plt.plot(chars,counts)"
   ]
  },
  {
   "cell_type": "code",
   "execution_count": null,
   "metadata": {},
   "outputs": [],
   "source": [
    "plt.bar(chars,counts)"
   ]
  },
  {
   "cell_type": "code",
   "execution_count": null,
   "metadata": {},
   "outputs": [],
   "source": [
    "plt.bar(*zip(*dict1.items()))"
   ]
  },
  {
   "cell_type": "code",
   "execution_count": null,
   "metadata": {},
   "outputs": [],
   "source": [
    "f=open(\"data/jane-austen-emma.txt\")\n",
    "word_count = Counter(f.read().lower().split())\n",
    "word_sorted = sorted(word_count.items(), key=lambda x: x[1], reverse=True)"
   ]
  },
  {
   "cell_type": "code",
   "execution_count": null,
   "metadata": {},
   "outputs": [],
   "source": [
    "plt.barh(*(zip(*word_sorted[:10])))"
   ]
  },
  {
   "cell_type": "markdown",
   "metadata": {},
   "source": [
    "Let's go over Matplotlib [gallery](https://matplotlib.org/stable/gallery/index.html) and try anouther typo of plot.\n",
    "\n",
    "Pie chart needs two separate lists, one contains the counts and another one for labels."
   ]
  },
  {
   "cell_type": "code",
   "execution_count": null,
   "metadata": {},
   "outputs": [],
   "source": [
    "counts=[i[1] for i in word_sorted][:10]\n",
    "labels=[i[0] for i in word_sorted][:10]\n"
   ]
  },
  {
   "cell_type": "code",
   "execution_count": null,
   "metadata": {},
   "outputs": [],
   "source": [
    "plt.pie(counts, labels=labels, autopct='%1.1f%%', shadow=True, startangle=90)\n",
    "plt.show()"
   ]
  },
  {
   "cell_type": "markdown",
   "metadata": {},
   "source": [
    "## Misc\n",
    "\n",
    "There's a practical way to plot data if you have tuples of data points. The `*` operator is used for unpacking. Please search online for explanation and more examples. And `zip` is used to combine two (or more) list element-wise.\n"
   ]
  },
  {
   "cell_type": "code",
   "execution_count": null,
   "metadata": {},
   "outputs": [],
   "source": [
    "import matplotlib.pyplot as plt\n",
    "data = [(1,510), (2, 100), (3, 25), (3.8, 2)]\n",
    "m, n = zip(*data)\n",
    "plt.plot(m,n)\n",
    "plt.show()"
   ]
  },
  {
   "cell_type": "code",
   "execution_count": null,
   "metadata": {},
   "outputs": [],
   "source": [
    "data"
   ]
  },
  {
   "cell_type": "code",
   "execution_count": null,
   "metadata": {},
   "outputs": [],
   "source": [
    "list(zip(*data))"
   ]
  },
  {
   "cell_type": "code",
   "execution_count": null,
   "metadata": {},
   "outputs": [],
   "source": [
    "p,q = zip(*data)"
   ]
  },
  {
   "cell_type": "code",
   "execution_count": null,
   "metadata": {},
   "outputs": [],
   "source": [
    "print(q)"
   ]
  },
  {
   "cell_type": "markdown",
   "metadata": {},
   "source": [
    "Without unpack or zip.."
   ]
  },
  {
   "cell_type": "code",
   "execution_count": null,
   "metadata": {},
   "outputs": [],
   "source": [
    "data"
   ]
  },
  {
   "cell_type": "code",
   "execution_count": null,
   "metadata": {},
   "outputs": [],
   "source": [
    "x_values = [n[0] for n in data]\n",
    "x_values"
   ]
  },
  {
   "cell_type": "code",
   "execution_count": null,
   "metadata": {},
   "outputs": [],
   "source": [
    "y_values = [ n[1] for n in data]\n",
    "y_values"
   ]
  }
 ],
 "metadata": {
  "kernelspec": {
   "display_name": "Python 3",
   "language": "python",
   "name": "python3"
  },
  "language_info": {
   "codemirror_mode": {
    "name": "ipython",
    "version": 3
   },
   "file_extension": ".py",
   "mimetype": "text/x-python",
   "name": "python",
   "nbconvert_exporter": "python",
   "pygments_lexer": "ipython3",
   "version": "3.7.10"
  }
 },
 "nbformat": 4,
 "nbformat_minor": 4
}

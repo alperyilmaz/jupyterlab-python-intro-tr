{
 "cells": [
  {
   "cell_type": "markdown",
   "metadata": {},
   "source": [
    "# User input"
   ]
  },
  {
   "cell_type": "markdown",
   "metadata": {},
   "source": [
    "The code can have input from console (user) or from filesystem (file) and use it within the code.\n",
    "\n",
    "Let's first see how to get input from user/console.\n",
    "\n",
    "The function for getting input from user is `input()`"
   ]
  },
  {
   "cell_type": "code",
   "execution_count": null,
   "metadata": {},
   "outputs": [],
   "source": [
    "my_input = input(\"Write something: \")"
   ]
  },
  {
   "cell_type": "code",
   "execution_count": null,
   "metadata": {},
   "outputs": [],
   "source": [
    "print(my_input)"
   ]
  },
  {
   "cell_type": "markdown",
   "metadata": {},
   "source": [
    "Let's ask user which Fibonacci number should be calculated. (*Please refer to 06b-recursion.ipynb file for Fibonacci function*)"
   ]
  },
  {
   "cell_type": "code",
   "execution_count": null,
   "metadata": {},
   "outputs": [],
   "source": [
    "def fibonacci(number):\n",
    "    if number <2 :\n",
    "        return number\n",
    "    else:\n",
    "        return fibonacci(number - 1) + fibonacci(number - 2)"
   ]
  },
  {
   "cell_type": "code",
   "execution_count": null,
   "metadata": {},
   "outputs": [],
   "source": [
    "f_input = input(\"Please enter value to calculate nth Fibonacci number\")\n",
    "#type(f_input)\n",
    "print(fibonacci(f_input))"
   ]
  },
  {
   "cell_type": "markdown",
   "metadata": {},
   "source": [
    "Uh oh! What just happened?\n",
    "\n",
    "`input()` function assigns the value as string and our function uses integer value. Let's try again:"
   ]
  },
  {
   "cell_type": "code",
   "execution_count": null,
   "metadata": {},
   "outputs": [],
   "source": [
    "f_input = input(\"Please enter value to calculate nth Fibonacci number\")\n",
    "print(fibonacci(int(f_input)))"
   ]
  },
  {
   "cell_type": "markdown",
   "metadata": {},
   "source": [
    "Being able to get input from user allows us dynamically computing results tailored for the user.\n",
    "\n",
    "We can process list of numbers or do word count for a text input by user\n",
    "\n",
    "### Example 1\n",
    "\n",
    "Take squares of odd numbers in a list provided by user (comma separated)"
   ]
  },
  {
   "cell_type": "code",
   "execution_count": null,
   "metadata": {},
   "outputs": [],
   "source": [
    "values = input()\n",
    "\n",
    "# numbers = values.split(\",\")\n",
    "# for number in numbers:\n",
    "#    if int(number) % 2 != 0:\n",
    "#        print(int(number) ** 2)\n",
    "\n",
    "# is equivalent to\n",
    "\n",
    "numbers = [int(x)**2 for x in values.split(\",\") if int(x)%2!=0]\n",
    "print(numbers)\n",
    "\n",
    "# input: 1,2,9,8,7,6,5\n",
    "# will print [1, 81, 49, 25]"
   ]
  },
  {
   "cell_type": "markdown",
   "metadata": {},
   "source": [
    "### Example 2\n",
    "\n",
    "Get a sentence from user and do word count."
   ]
  },
  {
   "cell_type": "code",
   "execution_count": null,
   "metadata": {},
   "outputs": [],
   "source": [
    "freq = {}   # frequency of words in text\n",
    "line = input(\"Please type a sentence: \")\n",
    "for word in line.split():\n",
    "    #word=word.lower()\n",
    "    freq[word] = freq.get(word,0)+1\n",
    "words = list(freq.keys())\n",
    "for w in words:\n",
    "    print(\"%s: %d\" % (w,freq[w]))\n",
    "# try the sentence: to be or not to be\n",
    "# what about The is the article in the English language"
   ]
  },
  {
   "cell_type": "markdown",
   "metadata": {},
   "source": [
    "### Example 3 Number guessing game"
   ]
  },
  {
   "cell_type": "markdown",
   "metadata": {},
   "source": [
    "This game illustrates an interesting use of `while` loop. We continuously get input from the user and inform about the result."
   ]
  },
  {
   "cell_type": "code",
   "execution_count": null,
   "metadata": {},
   "outputs": [],
   "source": [
    "import random\n",
    "\n",
    "random_number = random.randrange(1, 10)\n",
    "\n",
    "while True:\n",
    "    guess = int(input(\"What could it be? > \"))  # ask as long as answer is not correct\n",
    "    if guess == random_number:\n",
    "        print(\"CONGRATS YOU GOT IT\")\n",
    "        break\n",
    "    elif guess > random_number:\n",
    "        print(\"TOO HIGH\")\n",
    "    elif guess < random_number:\n",
    "        print(\"TOO LOW\")\n",
    "    else:\n",
    "        print(\"Try something else\")"
   ]
  },
  {
   "cell_type": "markdown",
   "metadata": {},
   "source": [
    "# While loop\n",
    "\n",
    "If you know number of iterations then `for` loop can be used. However, if you don't know how many iterations are needed or if you want your loop to finish when a certain criteria is met then you should use `while` loop.\n",
    "\n",
    "this is the template for `while` loop\n",
    "\n",
    "```python\n",
    "while test expression:\n",
    "    # do smt\n",
    "```\n",
    "\n",
    "The important point here is that, **you need to increment or update any index/variable within the loop** so that eventually the test expression is *False*. \n",
    "\n",
    "For example, the loop below will run until i is smaller than 6."
   ]
  },
  {
   "cell_type": "code",
   "execution_count": null,
   "metadata": {},
   "outputs": [],
   "source": [
    "i = 1\n",
    "while i < 6:\n",
    "  print(i)\n",
    "  i += 1"
   ]
  },
  {
   "cell_type": "markdown",
   "metadata": {},
   "source": [
    "<div class=\"alert alert-block alert-warning\">\n",
    "    <i class=\"fas fa-fw fa-question-circle mr-3 align-self-center\"></i>\n",
    "    <b>Question:</b> What happens if you forget to increase the value of i? <br>\n",
    "</div>"
   ]
  },
  {
   "cell_type": "markdown",
   "metadata": {},
   "source": [
    "## Better control of loops: `break` and `continue` \n",
    "\n",
    "In a `while` loop (or `for` loop as well) if you wish skip a certain iteration you can use `continue` statement and if you wish the terminate the iteration/loop process then you can use `break` statement.\n",
    "\n",
    "In the example below, we go over numbers and then we skip (*i.e.* `continue`) even numbers and we terminate the loop (*i.e.* `break`) when we reach 10. **Notice that the actual loop itself is an infinite loop.**"
   ]
  },
  {
   "cell_type": "code",
   "execution_count": null,
   "metadata": {},
   "outputs": [],
   "source": [
    "num=0\n",
    "\n",
    "while True:             # <---\n",
    "    num += 1            #    |\n",
    "                        #    |\n",
    "    if num % 2 == 0:    #    |\n",
    "        continue        # ----\n",
    "\n",
    "    if num >= 10:    # what happens at == ?\n",
    "        break\n",
    "    print(num)\n"
   ]
  },
  {
   "cell_type": "markdown",
   "metadata": {
    "tags": []
   },
   "source": [
    "## Exercise\n",
    "\n",
    "1. If you change the location of `num += 1` what would be the result, same or different?\n",
    "\n",
    "```python\n",
    "num=1\n",
    "\n",
    "while True:\n",
    "    if num % 2 == 0: \n",
    "        continue\n",
    "    if num >= 10:\n",
    "        break\n",
    "    print(num)\n",
    "    num += 1    ## <- carried here\n",
    "```\n",
    "\n",
    "2. The code below inputs a number from user and prints square of it. What will happen if user inputs a floating number to the input? How can we fix this problem?\n",
    "\n",
    "```python\n",
    "result = int(input(\"Write a number to be squared: \")) \n",
    "print(result**2)\n",
    "```\n",
    "\n",
    "3. Make necesary modifications at \"Example 3 Number guessing game\" so that it asks user \"Do you want to continue?\" and starts over if user inputs \"Yes\", quits if user selects \"No\".\n"
   ]
  },
  {
   "cell_type": "markdown",
   "metadata": {},
   "source": [
    "# File input and output\n"
   ]
  },
  {
   "cell_type": "markdown",
   "metadata": {},
   "source": [
    "## File input\n",
    "\n",
    "The `open()` function is used to open files. When you open a file, you assign handle or placeholder for that filename to a variable which can be referred to when file related functions or methods needed. For example, to read a line from a file, you open the file, assign a variable with handle and then call read line method on that handle.\n",
    "\n",
    "`f.read(size)` reads some quantity of data and returns it as a string where size is an optional numeric argument. When size is omitted or negative, the entire contents of the file will be read and returned."
   ]
  },
  {
   "cell_type": "code",
   "execution_count": null,
   "metadata": {},
   "outputs": [],
   "source": [
    "f=open(\"data/jane-austen-emma.txt\")\n",
    "# file.read() function will print whole book\n",
    "f.readline()"
   ]
  },
  {
   "cell_type": "markdown",
   "metadata": {},
   "source": [
    "As noted above, `read()` method will retrieve the contents of the whole file at once. For large files, that might be problematic. Thus `readline()` method can be used to retrieve single line. We printed the first line of the file."
   ]
  },
  {
   "cell_type": "code",
   "execution_count": null,
   "metadata": {},
   "outputs": [],
   "source": [
    "f.readline()"
   ]
  },
  {
   "cell_type": "markdown",
   "metadata": {},
   "source": [
    "Did you notice that second call to `readline()` printed second line in the file? `readline()` retrieves the line that is next in line. The file object tracks a position in the file and `readline()` call will push the object position to next line in the file.\n",
    "\n",
    "One way to access all the content of a file is to loop over the lines and that is the most memory efficient approach. Because, at each iteration, single line is retrieved and processed. In the example below, a large file is read line by line, instead of printing contents (and filling up the screen) we are counting number of lines."
   ]
  },
  {
   "cell_type": "code",
   "execution_count": null,
   "metadata": {},
   "outputs": [],
   "source": [
    "# first approach\n",
    "f=open(\"data/jane-austen-emma.txt\")\n",
    "count=0\n",
    "for line in f:\n",
    "    # print line\n",
    "    count += 1\n",
    "print(count)\n",
    "f.close()"
   ]
  },
  {
   "cell_type": "markdown",
   "metadata": {},
   "source": [
    "Second approach is to use `readlines()` method which will retrieve each line from the file and assign it to a list. The advantage is that, you can access any line via index (even after file is closed). However, there's a disadvantage in this approach, if the file is big, then the list will take up too much space in the memory."
   ]
  },
  {
   "cell_type": "code",
   "execution_count": null,
   "metadata": {},
   "outputs": [],
   "source": [
    "# second approach\n",
    "f=open(\"data/jane-austen-emma.txt\")\n",
    "lines = f.readlines()\n",
    "print(len(lines))\n",
    "f.close()"
   ]
  },
  {
   "cell_type": "markdown",
   "metadata": {},
   "source": [
    "When you're done with a file, call `f.close()` to close it and free up any system resources taken up by the open file.\n",
    "\n",
    "As mentioned above, with `readlines()` you can keep the contents of a file in a list which is accessible via index (or slice) even after the file is closed."
   ]
  },
  {
   "cell_type": "code",
   "execution_count": null,
   "metadata": {},
   "outputs": [],
   "source": [
    "lines[0:9]"
   ]
  },
  {
   "cell_type": "code",
   "execution_count": null,
   "metadata": {},
   "outputs": [],
   "source": [
    "lines[-10:]"
   ]
  },
  {
   "cell_type": "markdown",
   "metadata": {},
   "source": [
    "Let's do a word count using the list of lines. In order to get more accurate results we should count lowercase of words."
   ]
  },
  {
   "cell_type": "code",
   "execution_count": null,
   "metadata": {},
   "outputs": [],
   "source": [
    "freq = {}\n",
    "for line in lines: \n",
    "    for word in line.split():\n",
    "        word = word.lower()\n",
    "        freq[word] = freq.get(word,0)+1"
   ]
  },
  {
   "cell_type": "markdown",
   "metadata": {},
   "source": [
    "Let's view 10 words and their counts"
   ]
  },
  {
   "cell_type": "code",
   "execution_count": null,
   "metadata": {},
   "outputs": [],
   "source": [
    "words = list(freq.keys())[0:9]\n",
    "for w in words:\n",
    "    print(\"%s: %d\" % (w,freq[w]))"
   ]
  },
  {
   "cell_type": "markdown",
   "metadata": {},
   "source": [
    "### `line` versus `lines`"
   ]
  },
  {
   "cell_type": "markdown",
   "metadata": {},
   "source": [
    "There's a big difference between \n",
    "* lists\n",
    "* generators/iterators\n",
    "\n",
    "In lists, there's direct access to elements with indexes. However this comes with a cost. The list will take up space in memory.\n",
    "\n",
    "In generators, usually there's no direct access, the elements are generated on demand. Thus, they don't use memory space to store all elements.\n",
    "\n",
    "Let's see the size of `lines` list in memory\n"
   ]
  },
  {
   "cell_type": "code",
   "execution_count": null,
   "metadata": {},
   "outputs": [],
   "source": [
    "import sys\n",
    "sys.getsizeof(lines)"
   ]
  },
  {
   "cell_type": "markdown",
   "metadata": {},
   "source": [
    "We can count without using any memory by `line` generator:"
   ]
  },
  {
   "cell_type": "code",
   "execution_count": null,
   "metadata": {},
   "outputs": [],
   "source": [
    "\n",
    "f=open(\"data/jane-austen-emma.txt\")\n",
    "another_dict = {}\n",
    "for line in f: \n",
    "    for word in line.split():\n",
    "        another_dict[word.lower()] = another_dict.get(word.lower(),0)+1\n",
    "f.close()\n",
    "\n",
    "list(another_dict.items())[0:9]\n"
   ]
  },
  {
   "cell_type": "markdown",
   "metadata": {},
   "source": [
    "How many lines, words and unique words are there?"
   ]
  },
  {
   "cell_type": "code",
   "execution_count": null,
   "metadata": {},
   "outputs": [],
   "source": [
    "uniq_words = len(freq.keys())\n",
    "total_words = sum([len(line.split()) for line in lines])\n"
   ]
  },
  {
   "cell_type": "code",
   "execution_count": null,
   "metadata": {},
   "outputs": [],
   "source": [
    "template= \"In the novel, there are %d lines \\\n",
    "and total of %d words are used. Number of \\\n",
    "unique words is %d\"\n",
    "\n",
    "print(template % (len(lines),total_words,uniq_words))"
   ]
  },
  {
   "cell_type": "markdown",
   "metadata": {},
   "source": [
    "## Output to files\n",
    "\n",
    "Open file for writing. \n",
    "\n",
    "> Be aware, `w` mode will overwrite existing file!"
   ]
  },
  {
   "cell_type": "code",
   "execution_count": null,
   "metadata": {},
   "outputs": [],
   "source": [
    "f = open('data/test.txt', 'w')"
   ]
  },
  {
   "cell_type": "markdown",
   "metadata": {},
   "source": [
    "A file named `test.txt` has been opened under `data` folder. `f` is the file object. There are various ways to access and write to file."
   ]
  },
  {
   "cell_type": "code",
   "execution_count": null,
   "metadata": {},
   "outputs": [],
   "source": [
    "f.write(\"Hello world\")"
   ]
  },
  {
   "cell_type": "markdown",
   "metadata": {},
   "source": [
    "Let's check and see the contents of the file.\n",
    "\n",
    "Why is it empty?"
   ]
  },
  {
   "cell_type": "code",
   "execution_count": null,
   "metadata": {},
   "outputs": [],
   "source": [
    "f.close()"
   ]
  },
  {
   "cell_type": "markdown",
   "metadata": {},
   "source": [
    "> We discussed this last week. The contents to files are not written/saved imediately to file on disk."
   ]
  },
  {
   "cell_type": "markdown",
   "metadata": {},
   "source": [
    "You can also write to a file by `print` function, with `file=` argument within."
   ]
  },
  {
   "cell_type": "code",
   "execution_count": null,
   "metadata": {},
   "outputs": [],
   "source": [
    "f = open('data/test2.txt', 'w')\n",
    "print(\"Second hello..\", file=f)\n",
    "print(\"to the screen\")\n",
    "print(\"to the file\", file=f)\n",
    "f.close()"
   ]
  },
  {
   "cell_type": "code",
   "execution_count": null,
   "metadata": {},
   "outputs": [],
   "source": [
    "f = open('data/test2.txt', 'a')\n",
    "print(\"This is appended to file..\", file=f)\n",
    "f.close()"
   ]
  },
  {
   "cell_type": "markdown",
   "metadata": {},
   "source": [
    "Now, more serious example:"
   ]
  },
  {
   "cell_type": "code",
   "execution_count": null,
   "metadata": {
    "tags": []
   },
   "outputs": [],
   "source": [
    "# source: https://scipython.com/book/chapter-2-the-core-python-language-i/examples/writing-numbers-to-a-file/\n",
    "f = open('data/powers.txt', 'w')\n",
    "for i in range(1,1001):\n",
    "    print(i, i**2, i**3, i**4, sep=', ', file=f)\n",
    "f.close()"
   ]
  },
  {
   "cell_type": "markdown",
   "metadata": {},
   "source": [
    "Other modes for reading/writing files:\n",
    "\n",
    "* **w** : Write mode. If file does not exist, it creates a new file. *But*, if file exists it truncates the file.\n",
    "* **a** : Append mode, add lines to file (If file does not exist, it creates a new file)\n",
    "* **x** : Creates a new file. If file already exists, the operation fails.\n",
    "* **r** : Read mode\n",
    "\n",
    "Let's read the cubes data from the file. We'll be collecting data from 3rd column."
   ]
  },
  {
   "cell_type": "code",
   "execution_count": null,
   "metadata": {},
   "outputs": [],
   "source": [
    "f = open('data/powers.txt', 'r')\n",
    "cubes= []\n",
    "for line in f.readlines():\n",
    "    fields = line.split(',')\n",
    "    cubes.append(int(fields[2]))\n",
    "f.close()\n",
    "n = 5\n",
    "print(n, 'cubed is', cubes[n-1])"
   ]
  },
  {
   "cell_type": "code",
   "execution_count": null,
   "metadata": {},
   "outputs": [],
   "source": [
    "len(cubes)"
   ]
  },
  {
   "cell_type": "code",
   "execution_count": null,
   "metadata": {},
   "outputs": [],
   "source": [
    "cubes[1:5]"
   ]
  }
 ],
 "metadata": {
  "kernelspec": {
   "display_name": "Python 3",
   "language": "python",
   "name": "python3"
  },
  "language_info": {
   "codemirror_mode": {
    "name": "ipython",
    "version": 3
   },
   "file_extension": ".py",
   "mimetype": "text/x-python",
   "name": "python",
   "nbconvert_exporter": "python",
   "pygments_lexer": "ipython3",
   "version": "3.7.10"
  }
 },
 "nbformat": 4,
 "nbformat_minor": 4
}

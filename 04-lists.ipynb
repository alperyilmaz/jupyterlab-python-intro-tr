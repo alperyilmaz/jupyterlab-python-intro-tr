{
 "cells": [
  {
   "cell_type": "markdown",
   "metadata": {},
   "source": [
    "# Python Collections (Arrays)\n",
    "\n",
    "> Following content is taken from [Python Lists page](https://www.tutorialspoint.com/python/python_lists.htm) at TutorialsPoint.\n",
    "\n",
    "There are four collection data types in the Python programming language:\n",
    "\n",
    "* **List** is a collection which is ordered and changeable. Allows duplicate members.\n",
    "* **Tuple** is a collection which is ordered and unchangeable. Allows duplicate members.\n",
    "* **Set** is a collection which is unordered and unindexed. No duplicate members.\n",
    "* **Dictionary** is a collection which is unordered, changeable and indexed. No duplicate members.\n",
    "\n",
    "When choosing a collection type, it is useful to understand the properties of that type. Choosing the right type for a particular data set could mean retention of meaning, and, it could mean an increase in efficiency or security.\n"
   ]
  },
  {
   "cell_type": "markdown",
   "metadata": {},
   "source": [
    "## Generate and access lists\n",
    "\n",
    "The list is a most versatile datatype available in Python which can be written as a list of comma-separated values (items) between square brackets. Important thing about a list is that items in a list need not be of the same type.\n",
    "\n",
    "Generating a new list is as simple as putting different comma-separated values between square brackets. \n",
    "\n",
    "To access values in lists, use the square brackets for slicing along with the index or indices to obtain value available at that index."
   ]
  },
  {
   "cell_type": "code",
   "execution_count": 1,
   "metadata": {},
   "outputs": [
    {
     "name": "stdout",
     "output_type": "stream",
     "text": [
      "chemistry\n",
      "list2[1:5]:  [2, 3, 4, 5]\n"
     ]
    }
   ],
   "source": [
    "list1 = ['physics', 'chemistry', 1997, 2000];\n",
    "list2 = [1, 2, 3, 4, 5, 6, 7 ];\n",
    "print(list1[1])\n",
    "print( \"list2[1:5]: \",(list2[1:5]))"
   ]
  },
  {
   "cell_type": "markdown",
   "metadata": {},
   "source": [
    "## Updating lists and deleting list elements\n",
    "\n",
    "You can update single or multiple elements of lists by giving the slice on the left-hand side of the assignment operator, and you can add to elements in a list with the `append()` method.\n",
    "\n",
    "To remove a list element, you can use either the `del` statement if you know exactly which element(s) you are deleting or the `remove()` method if you do not know."
   ]
  },
  {
   "cell_type": "code",
   "execution_count": 2,
   "metadata": {},
   "outputs": [
    {
     "name": "stdout",
     "output_type": "stream",
     "text": [
      "['physics', 'chemistry', 1997, 2000]\n",
      "\n",
      "After editing value at index 3 : \n",
      "['physics', 'chemistry', 1997, 2018]\n",
      "\n",
      "After adding new value at the end : \n",
      "['physics', 'chemistry', 1997, 2018, 2019]\n",
      "\n",
      "After deleting value at index 2 : \n",
      "['physics', 'chemistry', 2018, 2019]\n",
      "\n",
      "After removing 2018 from list :\n",
      "['physics', 'chemistry', 2019]\n"
     ]
    }
   ],
   "source": [
    "list1 = ['physics', 'chemistry', 1997, 2000];\n",
    "\n",
    "print(list1)\n",
    "list1[3]=2018\n",
    "print(\"\\nAfter editing value at index 3 : \")\n",
    "print(list1)\n",
    "list1.append(2019)\n",
    "print(\"\\nAfter adding new value at the end : \")\n",
    "print(list1)\n",
    "\n",
    "del list1[2];\n",
    "print(\"\\nAfter deleting value at index 2 : \")\n",
    "print(list1)\n",
    "list1.remove(2018)\n",
    "print(\"\\nAfter removing 2018 from list :\")\n",
    "print(list1)"
   ]
  },
  {
   "cell_type": "markdown",
   "metadata": {},
   "source": [
    "## Basic list operations\n",
    "\n",
    "| Python Expression            | Results                      | Description   |\n",
    "| ---------------------------- | ---------------------------- | ------------- |\n",
    "| len([1, 2, 3])               | 3                            | Length        |\n",
    "| [1, 2, 3] + [4, 5, 6]        | [1, 2, 3, 4, 5, 6]           | Concatenation |\n",
    "| ['Hi!'] * 4                  | ['Hi!', 'Hi!', 'Hi!', 'Hi!'] | Repetition    |\n",
    "| 3 in [1, 2, 3]               | True                         | Membership    |\n",
    "| for x in [1, 2, 3]: print x, | 1 2 3                        | Iteration     |"
   ]
  },
  {
   "cell_type": "markdown",
   "metadata": {},
   "source": [
    "## Indexes and slicing\n",
    "\n",
    "Assuming following input:\n",
    "\n",
    "```python\n",
    "L = ['spam', 'Spam', 'SPAM!']\n",
    "```\n",
    "\n",
    "| Python Expression | Results           | Description                    |\n",
    "| ----------------- | ----------------- | ------------------------------ |\n",
    "| L[2]              | SPAM!             | Offsets start at zero          |\n",
    "| L[-2]             | Spam              | Negative: count from the right |\n",
    "| L[1:]             | ['Spam', 'SPAM!'] | Slicing fetches sections       |\n",
    "\n",
    "> Because strings are sequences of characters, indexing and slicing work the same way for strings as they do for lists."
   ]
  },
  {
   "cell_type": "markdown",
   "metadata": {},
   "source": [
    "## List Methods\n",
    "\n",
    "| Method                                                       | Description                                                  |\n",
    "| ------------------------------------------------------------ | ------------------------------------------------------------ |\n",
    "| list.[append()](https://www.w3schools.com/python/ref_list_append.asp) | Adds an element at    the end of the list                    |\n",
    "| list.[clear()](https://www.w3schools.com/python/ref_list_clear.asp) | Removes all the    elements from the list                    |\n",
    "| list.[copy()](https://www.w3schools.com/python/ref_list_copy.asp) | Returns a copy of the    list                                |\n",
    "| list.[count()](https://www.w3schools.com/python/ref_list_count.asp) | Returns the number of    elements with the specified value   |\n",
    "| list.[extend()](https://www.w3schools.com/python/ref_list_extend.asp) | Add the elements of a    list (or any iterable), to the end of the current list |\n",
    "| list.[index()](https://www.w3schools.com/python/ref_list_index.asp) | Returns the index of    the first element with the specified value |\n",
    "| list.[insert()](https://www.w3schools.com/python/ref_list_insert.asp) | Adds an element at    the specified position                 |\n",
    "| list.[pop()](https://www.w3schools.com/python/ref_list_pop.asp)   | Removes the element at the    specified position             |\n",
    "| list.[remove()](https://www.w3schools.com/python/ref_list_remove.asp) | Removes the     item with the specified value                |\n",
    "| list.[reverse()](https://www.w3schools.com/python/ref_list_reverse.asp) | Reverses the order    of the list                            |\n",
    "| list.[sort()](https://www.w3schools.com/python/ref_list_sort.asp) | Sorts the list                                               |"
   ]
  },
  {
   "cell_type": "markdown",
   "metadata": {},
   "source": [
    "## List functions\n",
    "\n",
    "| Function | Description                                                  |\n",
    "| -------- | ------------------------------------------------------------ |\n",
    "| [cmp(list1, list2)](https://www.tutorialspoint.com/python/list_cmp.htm)        | Compares elements of both lists. |\n",
    "| [len(list)](https://www.tutorialspoint.com/python/list_len.htm)        | Gives the total length of the list. |\n",
    "| [max(list)](https://www.tutorialspoint.com/python/list_max.htm)        |  Returns item from the list with max value. |\n",
    "| [min(list)](https://www.tutorialspoint.com/python/list_min.htm)        |  Returns item from the list with min value. |\n",
    "| [list(seq)](https://www.tutorialspoint.com/python/list_list.htm)        | Converts a tuple into list. |\n",
    "\n"
   ]
  },
  {
   "cell_type": "markdown",
   "metadata": {},
   "source": [
    "## Examples"
   ]
  },
  {
   "cell_type": "code",
   "execution_count": 3,
   "metadata": {},
   "outputs": [],
   "source": [
    "temperatures = [22, 25, 22, 18, 22, 23, 27]\n",
    "days = ['M','T','W','Th','F','S','Su']"
   ]
  },
  {
   "cell_type": "code",
   "execution_count": 4,
   "metadata": {},
   "outputs": [
    {
     "data": {
      "text/plain": [
       "3"
      ]
     },
     "execution_count": 4,
     "metadata": {},
     "output_type": "execute_result"
    }
   ],
   "source": [
    "temperatures.count(22)"
   ]
  },
  {
   "cell_type": "code",
   "execution_count": 5,
   "metadata": {},
   "outputs": [
    {
     "data": {
      "text/plain": [
       "0"
      ]
     },
     "execution_count": 5,
     "metadata": {},
     "output_type": "execute_result"
    }
   ],
   "source": [
    "temperatures.index(22)"
   ]
  },
  {
   "cell_type": "code",
   "execution_count": 6,
   "metadata": {},
   "outputs": [
    {
     "name": "stdout",
     "output_type": "stream",
     "text": [
      "[22, 25, 22, 18, 22, 23, 27]\n",
      "[27, 23, 22, 18, 22, 25, 22]\n"
     ]
    }
   ],
   "source": [
    "print(temperatures)\n",
    "# other languages\n",
    "# temperatures = temperatures.reverse()\n",
    "temperatures.reverse()\n",
    "print(temperatures)\n"
   ]
  },
  {
   "cell_type": "code",
   "execution_count": 7,
   "metadata": {},
   "outputs": [
    {
     "name": "stdout",
     "output_type": "stream",
     "text": [
      "[18, 22, 22, 22, 23, 25, 27]\n",
      "[27, 25, 23, 22, 22, 22, 18]\n"
     ]
    }
   ],
   "source": [
    "temperatures = [22, 25, 22, 18, 22, 23, 27]\n",
    "temperatures.sort()\n",
    "print(temperatures)\n",
    "temperatures.reverse()\n",
    "print(temperatures)"
   ]
  },
  {
   "cell_type": "code",
   "execution_count": 8,
   "metadata": {},
   "outputs": [
    {
     "name": "stdout",
     "output_type": "stream",
     "text": [
      "[25, 22, 18, 22, 23, 27]\n"
     ]
    }
   ],
   "source": [
    "temperatures = [22, 25, 22, 18, 22, 23, 27]\n",
    "temperatures.remove(22)\n",
    "print(temperatures)"
   ]
  },
  {
   "cell_type": "code",
   "execution_count": 9,
   "metadata": {},
   "outputs": [
    {
     "data": {
      "text/plain": [
       "6"
      ]
     },
     "execution_count": 9,
     "metadata": {},
     "output_type": "execute_result"
    }
   ],
   "source": [
    "len(temperatures)"
   ]
  },
  {
   "cell_type": "code",
   "execution_count": 10,
   "metadata": {},
   "outputs": [
    {
     "data": {
      "text/plain": [
       "27"
      ]
     },
     "execution_count": 10,
     "metadata": {},
     "output_type": "execute_result"
    }
   ],
   "source": [
    "max(temperatures)"
   ]
  }
 ],
 "metadata": {
  "kernelspec": {
   "display_name": "Python 3",
   "language": "python",
   "name": "python3"
  },
  "language_info": {
   "codemirror_mode": {
    "name": "ipython",
    "version": 3
   },
   "file_extension": ".py",
   "mimetype": "text/x-python",
   "name": "python",
   "nbconvert_exporter": "python",
   "pygments_lexer": "ipython3",
   "version": "3.6.5"
  }
 },
 "nbformat": 4,
 "nbformat_minor": 2
}

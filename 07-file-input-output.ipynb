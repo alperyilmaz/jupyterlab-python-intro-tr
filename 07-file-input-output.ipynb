{
 "cells": [
  {
   "cell_type": "markdown",
   "metadata": {},
   "source": [
    "# File input and output\n"
   ]
  },
  {
   "cell_type": "markdown",
   "metadata": {},
   "source": [
    "## File input\n",
    "\n",
    "The `open()` function is used to open files. When you open a file, you assign handle or placeholder for that filename to a variable which can be referred to when file related functions or methods needed. For example, to read a line from a file, you open the file, assign a variable with handle and then call read line method on that handle.\n",
    "\n",
    "`f.read(size)` reads some quantity of data and returns it as a string where size is an optional numeric argument. When size is omitted or negative, the entire contents of the file will be read and returned."
   ]
  },
  {
   "cell_type": "code",
   "execution_count": 1,
   "metadata": {},
   "outputs": [
    {
     "data": {
      "text/plain": [
       "'The Project Gutenberg EBook of Emma, by Jane Austen\\n'"
      ]
     },
     "execution_count": 1,
     "metadata": {},
     "output_type": "execute_result"
    }
   ],
   "source": [
    "f=open(\"data/jane-austen-emma.txt\")\n",
    "# file.read() function will print whole book\n",
    "f.readline()"
   ]
  },
  {
   "cell_type": "markdown",
   "metadata": {},
   "source": [
    "As noted above, `read()` method will retrieve the contents of the whole file at once. For large files, that might be problematic. Thus `readline()` method can be used to retrieve single line. We printed the first line of the file."
   ]
  },
  {
   "cell_type": "code",
   "execution_count": 2,
   "metadata": {},
   "outputs": [
    {
     "data": {
      "text/plain": [
       "'\\n'"
      ]
     },
     "execution_count": 2,
     "metadata": {},
     "output_type": "execute_result"
    }
   ],
   "source": [
    "f.readline()"
   ]
  },
  {
   "cell_type": "markdown",
   "metadata": {},
   "source": [
    "Did you notice that second call to `readline()` printed second line in the file? `readline()` retrieves the line that is next in line. The file object tracks a position in the file and `readline()` call will push the object position to next line in the file.\n",
    "\n",
    "One way to access all the content of a file is to loop over the lines and that is the most memory efficient approach. Because, at each iteration, single line is retrieved and processed. In the example below, a large file is read line by line, instead of printing contents (and filling up the screen) we are counting number of lines."
   ]
  },
  {
   "cell_type": "code",
   "execution_count": 3,
   "metadata": {},
   "outputs": [
    {
     "name": "stdout",
     "output_type": "stream",
     "text": [
      "16633\n"
     ]
    }
   ],
   "source": [
    "# first approach\n",
    "f=open(\"data/jane-austen-emma.txt\")\n",
    "count=0\n",
    "for line in f:\n",
    "    # print line\n",
    "    count += 1\n",
    "print(count)\n",
    "f.close()"
   ]
  },
  {
   "cell_type": "markdown",
   "metadata": {},
   "source": [
    "Second approach is to use `readlines()` method which will retrieve each line from the file and assign it to a list. The advantage is that, you can access any line via index (even after file is closed). However, there's a disadvantage in this approach, if the file is big, then the list will take up too much space in the memory."
   ]
  },
  {
   "cell_type": "code",
   "execution_count": 4,
   "metadata": {},
   "outputs": [],
   "source": [
    "# second approach\n",
    "f=open(\"data/jane-austen-emma.txt\")\n",
    "lines = f.readlines()\n",
    "f.close()"
   ]
  },
  {
   "cell_type": "markdown",
   "metadata": {},
   "source": [
    "When you're done with a file, call `f.close()` to close it and free up any system resources taken up by the open file.\n",
    "\n",
    "As mentioned above, with `readlines()` you can keep the contents of a file in a list which is accessible via index (or slice) even after the file is closed."
   ]
  },
  {
   "cell_type": "code",
   "execution_count": 5,
   "metadata": {},
   "outputs": [
    {
     "data": {
      "text/plain": [
       "['The Project Gutenberg EBook of Emma, by Jane Austen\\n',\n",
       " '\\n',\n",
       " 'This eBook is for the use of anyone anywhere at no cost and with\\n',\n",
       " 'almost no restrictions whatsoever.  You may copy it, give it away or\\n',\n",
       " 're-use it under the terms of the Project Gutenberg License included\\n',\n",
       " 'with this eBook or online at www.gutenberg.org\\n',\n",
       " '\\n',\n",
       " '\\n',\n",
       " 'Title: Emma\\n']"
      ]
     },
     "execution_count": 5,
     "metadata": {},
     "output_type": "execute_result"
    }
   ],
   "source": [
    "lines[0:9]"
   ]
  },
  {
   "cell_type": "markdown",
   "metadata": {},
   "source": [
    "Let's do a word count using the list of lines. In order to get more accurate results we should count lowercase of words."
   ]
  },
  {
   "cell_type": "code",
   "execution_count": 6,
   "metadata": {},
   "outputs": [],
   "source": [
    "freq = {}\n",
    "for line in lines: \n",
    "    for word in line.split():\n",
    "        word = word.lower()\n",
    "        freq[word] = freq.get(word,0)+1"
   ]
  },
  {
   "cell_type": "markdown",
   "metadata": {},
   "source": [
    "Let's view 10 words and their counts"
   ]
  },
  {
   "cell_type": "code",
   "execution_count": 7,
   "metadata": {},
   "outputs": [
    {
     "name": "stdout",
     "output_type": "stream",
     "text": [
      "the: 5269\n",
      "project: 84\n",
      "gutenberg: 24\n",
      "ebook: 9\n",
      "of: 4312\n",
      "emma,: 167\n",
      "by: 574\n",
      "jane: 200\n",
      "austen: 4\n"
     ]
    }
   ],
   "source": [
    "words = list(freq.keys())[0:9]\n",
    "for w in words:\n",
    "    print(\"%s: %d\" % (w,freq[w]))"
   ]
  },
  {
   "cell_type": "markdown",
   "metadata": {},
   "source": [
    "### `line` versus `lines`"
   ]
  },
  {
   "cell_type": "markdown",
   "metadata": {},
   "source": [
    "There's a big difference between \n",
    "* lists\n",
    "* generators/iterators\n",
    "\n",
    "In lists, there's direct access to elements with indexes. However this comes with a cost. The list will take up space in memory.\n",
    "\n",
    "In generators, usually there's no direct access, the elements are generated on demand. Thus, they don't use memory space to store all elements.\n",
    "\n",
    "Let's see the size of `lines` list in memory\n"
   ]
  },
  {
   "cell_type": "code",
   "execution_count": 8,
   "metadata": {},
   "outputs": [
    {
     "data": {
      "text/plain": [
       "133344"
      ]
     },
     "execution_count": 8,
     "metadata": {},
     "output_type": "execute_result"
    }
   ],
   "source": [
    "import sys\n",
    "sys.getsizeof(lines)"
   ]
  },
  {
   "cell_type": "markdown",
   "metadata": {},
   "source": [
    "We can count without using any memory by `line` generator:"
   ]
  },
  {
   "cell_type": "code",
   "execution_count": 9,
   "metadata": {},
   "outputs": [
    {
     "data": {
      "text/plain": [
       "[('the', 5269),\n",
       " ('project', 84),\n",
       " ('gutenberg', 24),\n",
       " ('ebook', 9),\n",
       " ('of', 4312),\n",
       " ('emma,', 167),\n",
       " ('by', 574),\n",
       " ('jane', 200),\n",
       " ('austen', 4)]"
      ]
     },
     "execution_count": 9,
     "metadata": {},
     "output_type": "execute_result"
    }
   ],
   "source": [
    "\n",
    "f=open(\"data/jane-austen-emma.txt\")\n",
    "another_dict = {}\n",
    "for line in f: \n",
    "    for word in line.split():\n",
    "        another_dict[word.lower()] = another_dict.get(word.lower(),0)+1\n",
    "f.close()\n",
    "\n",
    "list(another_dict.items())[0:9]\n"
   ]
  },
  {
   "cell_type": "markdown",
   "metadata": {},
   "source": [
    "How many lines, words and unique words are there?"
   ]
  },
  {
   "cell_type": "code",
   "execution_count": 10,
   "metadata": {},
   "outputs": [],
   "source": [
    "uniq_words = len(freq.keys())\n",
    "total_words = sum([len(line.split()) for line in lines])\n"
   ]
  },
  {
   "cell_type": "code",
   "execution_count": 11,
   "metadata": {},
   "outputs": [
    {
     "name": "stdout",
     "output_type": "stream",
     "text": [
      "In the novel, there are 16633 lines and total of 160458 words are used. Number of unique words is 17460\n"
     ]
    }
   ],
   "source": [
    "template= \"In the novel, there are %d lines \\\n",
    "and total of %d words are used. Number of \\\n",
    "unique words is %d\"\n",
    "\n",
    "print(template % (len(lines),total_words,uniq_words))"
   ]
  },
  {
   "cell_type": "markdown",
   "metadata": {},
   "source": [
    "## Output to files\n",
    "\n",
    "Open file for writing. \n",
    "\n",
    "> Be aware, `w` mode will overwrite existing file!"
   ]
  },
  {
   "cell_type": "code",
   "execution_count": 12,
   "metadata": {},
   "outputs": [],
   "source": [
    "f = open('data/test.txt', 'w')"
   ]
  },
  {
   "cell_type": "markdown",
   "metadata": {},
   "source": [
    "A file named `test.txt` has been opened under `data` folder. `f` is the file object. There are various ways to access and write to file."
   ]
  },
  {
   "cell_type": "code",
   "execution_count": 13,
   "metadata": {},
   "outputs": [
    {
     "data": {
      "text/plain": [
       "11"
      ]
     },
     "execution_count": 13,
     "metadata": {},
     "output_type": "execute_result"
    }
   ],
   "source": [
    "f.write(\"Hello world\")"
   ]
  },
  {
   "cell_type": "markdown",
   "metadata": {},
   "source": [
    "Let's check and see the contents of the file.\n",
    "\n",
    "Why is it empty?"
   ]
  },
  {
   "cell_type": "code",
   "execution_count": 14,
   "metadata": {},
   "outputs": [],
   "source": [
    "f.close()"
   ]
  },
  {
   "cell_type": "markdown",
   "metadata": {},
   "source": [
    "> We discussed this last week. The contents to files are not written/saved imediately to file on disk."
   ]
  },
  {
   "cell_type": "markdown",
   "metadata": {},
   "source": [
    "You can also write to a file by `print` function, with `file=` argument within."
   ]
  },
  {
   "cell_type": "code",
   "execution_count": 15,
   "metadata": {},
   "outputs": [
    {
     "name": "stdout",
     "output_type": "stream",
     "text": [
      "to the screen\n"
     ]
    }
   ],
   "source": [
    "f = open('data/test2.txt', 'w')\n",
    "print(\"Second hello..\", file=f)\n",
    "print(\"to the screen\")\n",
    "print(\"to the file\", file=f)\n",
    "f.close()"
   ]
  },
  {
   "cell_type": "markdown",
   "metadata": {},
   "source": [
    "Now, more serious example:"
   ]
  },
  {
   "cell_type": "code",
   "execution_count": 16,
   "metadata": {},
   "outputs": [],
   "source": [
    "# source: https://scipython.com/book/chapter-2-the-core-python-language-i/examples/writing-numbers-to-a-file/\n",
    "f = open('data/powers.txt', 'w')\n",
    "for i in range(1,1001):\n",
    "    print(i, i**2, i**3, i**4, sep=', ', file=f)\n",
    "f.close()"
   ]
  },
  {
   "cell_type": "markdown",
   "metadata": {},
   "source": [
    "Other modes for reading/writing files:\n",
    "\n",
    "* **w** : Write mode. If file does not exist, it creates a new file. *But*, if file exists it truncates the file.\n",
    "* **a** : Append mode, add lines to file (If file does not exist, it creates a new file)\n",
    "* **x** : Creates a new file. If file already exists, the operation fails.\n",
    "* **r** : Read mode\n",
    "\n",
    "Let's read the cubes data from the file. We'll be collecting data from 3rd column."
   ]
  },
  {
   "cell_type": "code",
   "execution_count": 17,
   "metadata": {},
   "outputs": [
    {
     "name": "stdout",
     "output_type": "stream",
     "text": [
      "5 cubed is 125\n"
     ]
    }
   ],
   "source": [
    "f = open('data/powers.txt', 'r')\n",
    "cubes= []\n",
    "for line in f.readlines():\n",
    "    fields = line.split(',')\n",
    "    cubes.append(int(fields[2]))\n",
    "f.close()\n",
    "n = 5\n",
    "print(n, 'cubed is', cubes[n-1])"
   ]
  },
  {
   "cell_type": "code",
   "execution_count": 18,
   "metadata": {},
   "outputs": [
    {
     "data": {
      "text/plain": [
       "1000"
      ]
     },
     "execution_count": 18,
     "metadata": {},
     "output_type": "execute_result"
    }
   ],
   "source": [
    "len(cubes)"
   ]
  },
  {
   "cell_type": "code",
   "execution_count": 19,
   "metadata": {},
   "outputs": [
    {
     "data": {
      "text/plain": [
       "[8, 27, 64, 125]"
      ]
     },
     "execution_count": 19,
     "metadata": {},
     "output_type": "execute_result"
    }
   ],
   "source": [
    "cubes[1:5]"
   ]
  }
 ],
 "metadata": {
  "kernelspec": {
   "display_name": "Python 3",
   "language": "python",
   "name": "python3"
  },
  "language_info": {
   "codemirror_mode": {
    "name": "ipython",
    "version": 3
   },
   "file_extension": ".py",
   "mimetype": "text/x-python",
   "name": "python",
   "nbconvert_exporter": "python",
   "pygments_lexer": "ipython3",
   "version": "3.7.3"
  }
 },
 "nbformat": 4,
 "nbformat_minor": 4
}

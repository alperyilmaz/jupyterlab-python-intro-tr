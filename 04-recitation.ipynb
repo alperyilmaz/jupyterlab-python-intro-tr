{
 "cells": [
  {
   "cell_type": "markdown",
   "metadata": {},
   "source": [
    "# Lecture 4 - Recitation"
   ]
  },
  {
   "cell_type": "markdown",
   "metadata": {},
   "source": [
    "## Exercise 1\n",
    "\n",
    "Classic FizzBuzz problem. Write a for loop which will go thru numbers 1 to 50 and it will print:\n",
    "* Fizz if it's divisible by 3\n",
    "* Buzz if it's divisible by 5\n",
    "* FizzBuzz if it's divisible by 3 and 5\n",
    "* Number itself if not divisible by 3 or 5"
   ]
  },
  {
   "cell_type": "code",
   "execution_count": null,
   "metadata": {},
   "outputs": [],
   "source": [
    "# answer 1\n",
    "\n",
    "for n in range(1,51):\n",
    "    # if statements here\n",
    "    #\n",
    "    #\n",
    "    # print Fizz, Buzz, FizzBuzz or number itself"
   ]
  },
  {
   "cell_type": "markdown",
   "metadata": {},
   "source": [
    "Example output (only for 20 numbers) should look like this:\n",
    "```\n",
    "1\n",
    "2\n",
    "Fizz\n",
    "4\n",
    "Buzz\n",
    "Fizz\n",
    "7\n",
    "8\n",
    "Fizz\n",
    "Buzz\n",
    "11\n",
    "Fizz\n",
    "13\n",
    "14\n",
    "FizzBuzz\n",
    "16\n",
    "17\n",
    "Fizz\n",
    "19\n",
    "Buzz\n",
    "```"
   ]
  },
  {
   "cell_type": "markdown",
   "metadata": {},
   "source": [
    "## Exercise 2\n",
    "\n",
    "Given the `temperatures_of_this_month` list, please write a for loop which will print the values that are greater than 20"
   ]
  },
  {
   "cell_type": "code",
   "execution_count": null,
   "metadata": {},
   "outputs": [],
   "source": [
    "temperatures_of_this_month=[15,17,15,22,24,23,15,18,23,23,\n",
    "                           22,20,21,20,23,16,17,15,16,18,\n",
    "                           24,25,25,24,26,27,22,18,16,15]"
   ]
  },
  {
   "cell_type": "code",
   "execution_count": null,
   "metadata": {},
   "outputs": [],
   "source": [
    "# answer 2\n",
    "for t in temperatures_of_this_month:\n",
    "\n",
    "    # your code goes here"
   ]
  },
  {
   "cell_type": "markdown",
   "metadata": {},
   "source": [
    "## Exercise 3\n",
    "\n",
    "Print the temparatures that are greater than the average temperature. \n",
    "1. First calculate the average (by for loop or maybe a shortcut?) \n",
    "2. Then write a for loop to print list element if it's greater than the average value"
   ]
  },
  {
   "cell_type": "code",
   "execution_count": null,
   "metadata": {},
   "outputs": [],
   "source": [
    "# answer 3"
   ]
  },
  {
   "cell_type": "markdown",
   "metadata": {},
   "source": [
    "## Exercise 4 (Bonus)\n",
    "\n",
    "Remember binary search? Since we learned using lists let's perform binary search. Please follow the pseudo-code below (this pseudo-code was described in the previous article):\n",
    "\n",
    "1. Let min = 0 and max = n-1.\n",
    "2. If max < min, then stop: target is not present in array. Return -1.\n",
    "3. Compute guess as the average of max and min, rounded down (so that it is an integer).\n",
    "4. If array[guess] equals target, then stop. You found it! Return guess.\n",
    "5. If the guess was too low, that is, array[guess] < target, then set min = guess + 1.\n",
    "6. Otherwise, the guess was too high. Set max = guess - 1.\n",
    "7. Go back to step 2.\n",
    "\n"
   ]
  },
  {
   "cell_type": "code",
   "execution_count": null,
   "metadata": {},
   "outputs": [],
   "source": [
    "my_numbers= [2, 3, 5, 7, 11, 13, 17, 19, 23, 29, 31, 37, 41, \n",
    "             43, 47, 53, 59, 61, 67, 71, 73, 79, 83, 89, 97]\n",
    "\n",
    "# Returns either the index of the location in the array,\n",
    "#  or -1 if the array did not contain the targetValue\n",
    "def doSearch(array, targetValue):\n",
    "    min = 0\n",
    "    max = len(array) - 1\n",
    "    \n",
    "    # your code goes here\n",
    "  \n",
    "    return -1;"
   ]
  },
  {
   "cell_type": "code",
   "execution_count": null,
   "metadata": {},
   "outputs": [],
   "source": [
    "doSearch(my_numbers,73)  # this should print 20"
   ]
  },
  {
   "cell_type": "code",
   "execution_count": null,
   "metadata": {},
   "outputs": [],
   "source": [
    "doSearch(my_numbers,7)   # this should print 3"
   ]
  },
  {
   "cell_type": "code",
   "execution_count": null,
   "metadata": {},
   "outputs": [],
   "source": [
    "doSearch(my_numbers,100) # this should print -1"
   ]
  },
  {
   "cell_type": "markdown",
   "metadata": {},
   "source": [
    "## When finished\n",
    "\n",
    "* Export this notebook as HTML by `File -> Export Notebook As... -> HTML` and save it to your computer\n",
    "* Name the html file with your student number as in `STUDENTNO.html`, e.g. 1805A000.html\n",
    "* Upload the html file to [bit.ly/rmd-upload](http://bitly.com/rmd-upload)\n",
    "* If you see your filename on screen, then you're all set\n"
   ]
  }
 ],
 "metadata": {
  "kernelspec": {
   "display_name": "Python 3",
   "language": "python",
   "name": "python3"
  },
  "language_info": {
   "codemirror_mode": {
    "name": "ipython",
    "version": 3
   },
   "file_extension": ".py",
   "mimetype": "text/x-python",
   "name": "python",
   "nbconvert_exporter": "python",
   "pygments_lexer": "ipython3",
   "version": "3.6.5"
  }
 },
 "nbformat": 4,
 "nbformat_minor": 2
}

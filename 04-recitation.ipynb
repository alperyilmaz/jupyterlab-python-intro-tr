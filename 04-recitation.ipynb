{
 "cells": [
  {
   "cell_type": "markdown",
   "id": "bfbb0752-6256-470a-ae00-4ea049ca216b",
   "metadata": {
    "nteract": {
     "transient": {
      "deleting": false
     }
    }
   },
   "source": [
    "## Recitation for lists and list comprehension\n",
    "\n",
    "*2021-11-03*"
   ]
  },
  {
   "cell_type": "markdown",
   "id": "9b6ed31c-354e-43b8-800e-35b4a6646631",
   "metadata": {},
   "source": [
    "Q1. Write a program which calculates sum of a list. Please use both approaches; \"for loop\" and \"sum()\". Use the list below in your code."
   ]
  },
  {
   "cell_type": "code",
   "execution_count": 1,
   "id": "66470f36-078c-48c7-b867-bd9b0509d92b",
   "metadata": {},
   "outputs": [],
   "source": [
    "a_list= [5, 10, 15, 20]"
   ]
  },
  {
   "cell_type": "code",
   "execution_count": 2,
   "id": "c711a750-a5ee-4246-aeb7-5767fe537770",
   "metadata": {},
   "outputs": [],
   "source": [
    "# write your solution here\n"
   ]
  },
  {
   "cell_type": "markdown",
   "id": "7bf43eb4-b508-4f38-9a8d-0793d7bddec8",
   "metadata": {},
   "source": [
    "Q2. Find average of odd numbers up to 1000. Use \"sum\" and \"len\""
   ]
  },
  {
   "cell_type": "code",
   "execution_count": 3,
   "id": "8e316eb1-5c2a-40aa-87bc-36c14596d59e",
   "metadata": {},
   "outputs": [],
   "source": [
    "# write your solution here"
   ]
  },
  {
   "cell_type": "markdown",
   "id": "01de8da2-4a12-4cd2-883b-20a7eedef282",
   "metadata": {},
   "source": [
    "Q3. For the temperature list given below, write a code that will print values greater than the average"
   ]
  },
  {
   "cell_type": "code",
   "execution_count": 4,
   "id": "b1ff3a63-f603-4295-9834-76c6eb3db501",
   "metadata": {},
   "outputs": [],
   "source": [
    "temperatures_of_this_month=[15,17,15,22,24,23,15,18,23,23,\n",
    "                           22,20,21,20,23,16,17,15,16,18,\n",
    "                           24,25,25,24,26,27,22,18,16,15]"
   ]
  },
  {
   "cell_type": "code",
   "execution_count": 5,
   "id": "4e46cb55-5d84-4813-ab50-d9801c1d26a5",
   "metadata": {},
   "outputs": [],
   "source": [
    "# write your solution here\n"
   ]
  },
  {
   "cell_type": "markdown",
   "id": "5fcef8df-f5c2-4a85-ab0e-d25d60065d9b",
   "metadata": {},
   "source": [
    "Q4. for the given initial list of characters, please find out what does `listOfChars[2:5]` and `a_copy[3:]` print out."
   ]
  },
  {
   "cell_type": "code",
   "execution_count": 6,
   "id": "0915388b-948b-46b7-a7cd-fa951b9a1d54",
   "metadata": {},
   "outputs": [],
   "source": [
    "listOfChars = [\"T\",\"H\",\"A\",\"E\",\"N\",\"F\"]\n",
    "\n",
    "a_copy = listOfChars\n",
    "a_copy[2] = 'a'\n",
    "listOfChars[4] = 'f'"
   ]
  },
  {
   "cell_type": "markdown",
   "id": "bc8ef419-c281-456e-ac23-23abb1a28185",
   "metadata": {},
   "source": [
    "Q5. As you know `.remove()` removes first instance, as illustrated below. Write a function which removes **all** occurrences. \n",
    "\n",
    "Try both for loop and list comprehension approaches. In for loop approach you can remove from existing list or append to new empty list.\n",
    "\n",
    "Try your code with arbitrary list such as `test_list=[2,2,3,6,8,2,5,2,7,2,9]`"
   ]
  },
  {
   "cell_type": "code",
   "execution_count": 7,
   "id": "24943a53-f41e-42dd-908b-c1add5fa4fff",
   "metadata": {},
   "outputs": [
    {
     "name": "stdout",
     "output_type": "stream",
     "text": [
      "[5, 7, 8, 2]\n"
     ]
    }
   ],
   "source": [
    "a_test = [2,5,7,8,2]\n",
    "a_test.remove(2)\n",
    "print(a_test)"
   ]
  },
  {
   "cell_type": "markdown",
   "id": "361be9c0-e2ed-463e-843f-f6b3fb698bb1",
   "metadata": {},
   "source": [
    "Q5b. Write a function which removes all occurrences of a list from another list. The function should take two lists and return a list. For given lists below, your function should return `[5,6,7]`\n"
   ]
  },
  {
   "cell_type": "code",
   "execution_count": 8,
   "id": "fe0d940e-c400-4ba5-9ac4-5042a8fcc242",
   "metadata": {},
   "outputs": [],
   "source": [
    "sample = [2,4,3,2,5,2,6,2,4,3,7]\n",
    "sample2= [2,3,4]"
   ]
  },
  {
   "cell_type": "markdown",
   "id": "c9dff49c-3057-4913-b60d-884dcbb82fbe",
   "metadata": {},
   "source": [
    "Q6. For a given sequence of numbers between 1 and 100, what is the sum of their inverses? The formula is shown below:\n",
    "\n",
    "$\\sum_{n=1}^{100}\\frac{1}{n}=1+\\frac{1}{2}+\\frac{1}{3}+\\frac{1}{4}+...$ \n",
    "\n",
    "Use list comprehension "
   ]
  },
  {
   "cell_type": "code",
   "execution_count": 9,
   "id": "5f9a2d82-db44-4e22-a214-c2d34416a099",
   "metadata": {},
   "outputs": [],
   "source": [
    "# write your solution here\n"
   ]
  },
  {
   "cell_type": "markdown",
   "id": "7d419f32-23db-42b5-8614-b2f29bd92c6e",
   "metadata": {},
   "source": [
    "Q7. Given a list of radii, please calculate list of circumferences(2$\\pi$r) for radius greater than 2."
   ]
  },
  {
   "cell_type": "code",
   "execution_count": 10,
   "id": "8d3a5676-0c1d-4255-9ca5-27abb0ec0da9",
   "metadata": {},
   "outputs": [],
   "source": [
    "radii = [3.5, 2.1, 1.6, 4, 5.1, 2.6, 1.5, 2]"
   ]
  },
  {
   "cell_type": "code",
   "execution_count": 11,
   "id": "19b66bea-27d6-45c3-9334-b98a2570e172",
   "metadata": {
    "tags": []
   },
   "outputs": [],
   "source": [
    "# use this template: [ ........  for i in radii if ... ]\n"
   ]
  }
 ],
 "metadata": {
  "kernelspec": {
   "display_name": "Python 3",
   "language": "python",
   "name": "python3"
  },
  "language_info": {
   "codemirror_mode": {
    "name": "ipython",
    "version": 3
   },
   "file_extension": ".py",
   "mimetype": "text/x-python",
   "name": "python",
   "nbconvert_exporter": "python",
   "pygments_lexer": "ipython3",
   "version": "3.7.10"
  },
  "nteract": {
   "version": "0.28.0"
  }
 },
 "nbformat": 4,
 "nbformat_minor": 5
}

{
 "cells": [
  {
   "cell_type": "markdown",
   "metadata": {},
   "source": [
    "# Ödev 3\n",
    "\n",
    "## Soru 1. Rastgele eğriotu çizelim\n",
    "\n",
    "Önceki dersleride kaos oyun teorisi ile rastgele köşe seçip yarım yol ilerleyerek Serpenski üçgeni çizmiştik. Şimdi biraz daha karmaşık bir kural ile daha güzel bir resim çizelim.\n",
    "\n",
    "Barnsley eğreltiotu (fern) hakkında bilgi için [ilgili Wikipedia sayfasını](https://en.wikipedia.org/wiki/Barnsley_fern) okuyunuz. Aşağıda, kuralların özeti verilmiştir.\n"
   ]
  },
  {
   "cell_type": "markdown",
   "metadata": {},
   "source": [
    "![barnsley-rule](images/barnsley_rule.png)"
   ]
  },
  {
   "cell_type": "markdown",
   "metadata": {},
   "source": [
    "[Barnsley fern](https://en.wikipedia.org/wiki/Barnsley_fern) hakkındaki Wikipedia sayfası zaten Python kodu paylaşmıştır. Bu kodu başlangıç olarak kullaıp **aşağıdaki uyarlamaları yaparak** eğreltiotu çiziniz.\n",
    "\n",
    "* Çizim için `matplotlib.pyplot` kullanınız\n",
    "* x ve y koordinat verisini listede toplayınız (ki matplotlib ile çizilebilsin)\n",
    "* Wikipedia sayfası matriks çarpımlarını formul olarak açarak hesap yapmıştır, siz matriks çarpımlarını `np.dot()` kullanarak yapınız."
   ]
  },
  {
   "cell_type": "markdown",
   "metadata": {},
   "source": [
    "## Soru 2\n",
    "\n",
    "Temel Bilgisayar Bilimleri dersini seneye alacak öğrenciler için \"nasıl çalışılması gerektiğini\" açıklayan bir metin yazınız. Detaylar, kaynak linkleri, ipuçları, taktikler, vs. bilgileri ne kadar detaylı paylaşabilirseniz o kadar iyi olacaktır.\n"
   ]
  },
  {
   "cell_type": "markdown",
   "metadata": {},
   "source": [
    "# Ödev tamamlandığında...\n",
    "\n",
    "* notebook dosyasını kendi öğrenci numaranızla kaydediniz\n",
    "* notebook dosyasını html olarak dışa aktarınız ve kendi bilgisayarınıza indiriniz\n",
    "* \"0560000.html\" adlı dosyasınızı alyilmaz@yildiz.edu.tr adresine \"Ödev3\" başlığı ile gönderiniz\n"
   ]
  }
 ],
 "metadata": {
  "kernelspec": {
   "display_name": "Python 3",
   "language": "python",
   "name": "python3"
  },
  "language_info": {
   "codemirror_mode": {
    "name": "ipython",
    "version": 3
   },
   "file_extension": ".py",
   "mimetype": "text/x-python",
   "name": "python",
   "nbconvert_exporter": "python",
   "pygments_lexer": "ipython3",
   "version": "3.7.3"
  }
 },
 "nbformat": 4,
 "nbformat_minor": 4
}

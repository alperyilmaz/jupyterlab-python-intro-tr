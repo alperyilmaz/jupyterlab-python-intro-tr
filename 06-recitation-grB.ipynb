{
 "cells": [
  {
   "cell_type": "markdown",
   "metadata": {},
   "source": [
    "# Recitation 6 - Second group"
   ]
  },
  {
   "cell_type": "markdown",
   "metadata": {},
   "source": [
    "## Exercise 1\n",
    "\n",
    "the list `x` contains random 100 digits. Please count how many times each digit occurs, using **dictionary**.\n"
   ]
  },
  {
   "cell_type": "code",
   "execution_count": 4,
   "metadata": {},
   "outputs": [],
   "source": [
    "\n",
    "from random import randint\n",
    "x = [randint(0, 9) for p in range(0, 100)]\n",
    "\n",
    "# Answer 1\n"
   ]
  },
  {
   "cell_type": "markdown",
   "metadata": {},
   "source": [
    "## Exercise 2\n",
    "\n",
    "A list called `listOfwords` have been defined. Please print first letter of each word using **list comprehension**.\n"
   ]
  },
  {
   "cell_type": "code",
   "execution_count": 5,
   "metadata": {},
   "outputs": [],
   "source": [
    "# Answer 2\n",
    "listOfWords = [\"this\",\"is\",\"a\",\"list\",\"of\",\"words\"]\n"
   ]
  },
  {
   "cell_type": "markdown",
   "metadata": {},
   "source": [
    "## Exercise 3\n",
    "\n",
    "Below is a sample code using **list comprehension**. Please re-write similar code using loop.\n",
    "\n",
    "```python\n",
    "[x**2 if x % 2 == 0 else x**3 for x in range(10)]\n",
    "\n",
    "result: [0, 1, 4, 27, 16, 125, 36, 343, 64, 729]\n",
    "```"
   ]
  },
  {
   "cell_type": "code",
   "execution_count": 2,
   "metadata": {},
   "outputs": [],
   "source": [
    "# Answer 3\n"
   ]
  },
  {
   "cell_type": "markdown",
   "metadata": {},
   "source": [
    "## When finished\n",
    "\n",
    "* Export this notebook as HTML by `File -> Export Notebook As... -> HTML` and save it to your computer\n",
    "* Name the **html** file with your student number as in `STUDENTNO.html`, e.g. 1805A000.html\n",
    "* Upload the **html** file to [bit.ly/rmd-upload](http://bitly.com/rmd-upload)\n",
    "* If you see your filename on screen, then you're all set"
   ]
  }
 ],
 "metadata": {
  "kernelspec": {
   "display_name": "Python 3",
   "language": "python",
   "name": "python3"
  },
  "language_info": {
   "codemirror_mode": {
    "name": "ipython",
    "version": 3
   },
   "file_extension": ".py",
   "mimetype": "text/x-python",
   "name": "python",
   "nbconvert_exporter": "python",
   "pygments_lexer": "ipython3",
   "version": "3.6.5"
  }
 },
 "nbformat": 4,
 "nbformat_minor": 2
}

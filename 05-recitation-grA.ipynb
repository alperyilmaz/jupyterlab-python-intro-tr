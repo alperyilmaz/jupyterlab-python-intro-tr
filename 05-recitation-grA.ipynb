{
 "cells": [
  {
   "cell_type": "markdown",
   "metadata": {},
   "source": [
    "# Recitation 5 - First group"
   ]
  },
  {
   "cell_type": "markdown",
   "metadata": {},
   "source": [
    "## Exercise 1\n",
    "\n",
    "In the lecture, we used the following code to generate Fahrenheit calculations in a list for a given list of Celsius values. The instructor showed the way to add items to the list by `.append()` method. Modify the code below so that you insert values into list by using index (e.g. `i` or `n` and `F[i]=something`) "
   ]
  },
  {
   "cell_type": "code",
   "execution_count": null,
   "metadata": {},
   "outputs": [],
   "source": [
    "C = [39.2, 36.5, 37.3, 37.8]\n",
    "F=[]\n",
    "\n",
    "for i in range(...) :\n",
    "    ...\n",
    "    \n",
    "print(F)"
   ]
  },
  {
   "cell_type": "markdown",
   "metadata": {},
   "source": [
    "## Exercise 2\n",
    "\n",
    "Write Python program to find those numbers which are divisible by 7 and multiple of 5, between 1500 and 2700 (both included)"
   ]
  },
  {
   "cell_type": "code",
   "execution_count": 1,
   "metadata": {},
   "outputs": [],
   "source": [
    "# Answer 2"
   ]
  },
  {
   "cell_type": "markdown",
   "metadata": {},
   "source": [
    "## Exercise 3\n",
    "\n",
    "Write a Python program to count the number of elements that are multiple of 5 and multiple of 3 from a series of numbers.\n",
    "\n",
    "Sample: `numbers=range(1,100)`\n",
    "\n",
    "Expected output: \n",
    "```\n",
    "Number of multiples of 5: n\n",
    "Number of multiples of 3: m\n",
    "```"
   ]
  },
  {
   "cell_type": "code",
   "execution_count": 2,
   "metadata": {},
   "outputs": [],
   "source": [
    "# Answer 3"
   ]
  },
  {
   "cell_type": "markdown",
   "metadata": {},
   "source": [
    "## Exercise 4\n",
    "\n",
    "Below is a function to check if a number is prime:"
   ]
  },
  {
   "cell_type": "code",
   "execution_count": 7,
   "metadata": {},
   "outputs": [],
   "source": [
    "# JUST RUN THE CELL\n",
    "def is_prime(a):\n",
    "    return a > 1 and all(a % i for i in range(2, int(a**0.5) + 1))"
   ]
  },
  {
   "cell_type": "markdown",
   "metadata": {},
   "source": [
    "And here's the function we defined in earlier lectures:"
   ]
  },
  {
   "cell_type": "code",
   "execution_count": 8,
   "metadata": {},
   "outputs": [],
   "source": [
    "# DONT CHANGE CODE IN THIS CELL.. JUST RUN IT\n",
    "# DO NOT DEFINE THIS FUNCTION IT IS ALREADY DEFINED\n",
    "# JUST RUN THE CELL\n",
    "def is_prime_ours(n):\n",
    "    n_half  = n // 2\n",
    "    divisors = range(3, n_half, 2) \n",
    "    output = 0\n",
    "    for divisor in divisors:\n",
    "        result = n % divisor\n",
    "        if result is 0:         \n",
    "            output += 1      \n",
    "        if output > 0:  \n",
    "            return False                  \n",
    "    return output is 0"
   ]
  },
  {
   "cell_type": "markdown",
   "metadata": {},
   "source": [
    "Please benchmark both `is_prime()` and `is_prime_ours()` functions using 8191 as prime number. Write the code below"
   ]
  },
  {
   "cell_type": "code",
   "execution_count": null,
   "metadata": {},
   "outputs": [],
   "source": [
    "# answer 4a, bencmark for is_prime"
   ]
  },
  {
   "cell_type": "code",
   "execution_count": null,
   "metadata": {},
   "outputs": [],
   "source": [
    "# answer 4b, bencmark for is_prime_b"
   ]
  },
  {
   "cell_type": "markdown",
   "metadata": {},
   "source": [
    "## When finished\n",
    "\n",
    "* Export this notebook as HTML by `File -> Export Notebook As... -> HTML` and save it to your computer\n",
    "* Name the html file with your student number as in `STUDENTNO.html`, e.g. 1805A000.html\n",
    "* Upload the html file to [bit.ly/rmd-upload](http://bitly.com/rmd-upload)\n",
    "* If you see your filename on screen, then you're all set"
   ]
  }
 ],
 "metadata": {
  "kernelspec": {
   "display_name": "Python 3",
   "language": "python",
   "name": "python3"
  },
  "language_info": {
   "codemirror_mode": {
    "name": "ipython",
    "version": 3
   },
   "file_extension": ".py",
   "mimetype": "text/x-python",
   "name": "python",
   "nbconvert_exporter": "python",
   "pygments_lexer": "ipython3",
   "version": "3.6.5"
  }
 },
 "nbformat": 4,
 "nbformat_minor": 2
}

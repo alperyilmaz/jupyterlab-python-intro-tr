{
 "cells": [
  {
   "cell_type": "markdown",
   "id": "2ec655d8-aa80-40f3-90a8-577021209f72",
   "metadata": {
    "tags": []
   },
   "source": [
    "## Exercise 1\n",
    "\n",
    "A DNA sequence is defined for you. Please count occurrences of A, G, C and T in that sequence using **dictionary**. Remember, *strings are acting like lists*.\n"
   ]
  },
  {
   "cell_type": "code",
   "execution_count": null,
   "id": "0b10142a-cbb7-42cb-a545-e92e23a8e8a1",
   "metadata": {},
   "outputs": [],
   "source": [
    "# Answer 1\n",
    "dna=\"GACTACGAGCACACGACGGCGGACTACGACGACTACGACGAGCATACGACGACGAGCATCAGACAGACGACTACGACGCTACGACTACGACTACGACTAC\"\n"
   ]
  },
  {
   "cell_type": "markdown",
   "id": "f9c34163-483d-45d0-a294-2d70c752a5d3",
   "metadata": {},
   "source": [
    "## Exercise 1b\n",
    "\n",
    "What about counting amino acids in a protein sequence? Do you think it's feasible to run `protein.count(\"A\")` for each amino acid?"
   ]
  },
  {
   "cell_type": "code",
   "execution_count": null,
   "id": "d727cedc-751b-40fc-8c1f-e3278eeb960a",
   "metadata": {},
   "outputs": [],
   "source": [
    "# Answer 1b\n",
    "protein=\"\"\"MDLSALRVEEVQNVINAMQKILECPICLELIKEPVSTKCDHIFCKFCMLKLLNQKKGPSQ\n",
    "CPLCKNDITKRSLQESTRFSQLVEELLKIICAFQLDTGLEYANSYNFAKKENNSPEHLKD\n",
    "EVSIIQSMGYRNRAKRLLQSEPENPSLQETSLSVQLSNLGTVRTLRTKQRIQPQKTSVYI\n",
    "ELGSDSSEDTVNKATYCSVGDQELLQITPQGTRDEISLDSAKKAACEFSETDVTNTEHHQ\n",
    "PSNNDLNTTEKRAAERHPEKYQGSSVSNLHVEPCGTNTHASSLQHENSSLLLTKDRMNVE\n",
    "KAEFCNKSKQPGLARSQHNRWAGSKETCNDRRTPSTEKKVDLNADPLCERKEWNKQKLPC\n",
    "SENPRDTEDVPWITLNSSIQKVNEWFSRSDELLGSDDSHDGESESNAKVADVLDVLNEVD\"\"\"\n"
   ]
  },
  {
   "cell_type": "markdown",
   "id": "bdafe99f-9261-4a93-9263-05ef36b23566",
   "metadata": {},
   "source": [
    "## Exercise 2\n",
    "\n",
    "A list called `listOfletters` have been defined. Please print lowercase forms of these letters using **list comprehension**.\n",
    "\n"
   ]
  },
  {
   "cell_type": "code",
   "execution_count": null,
   "id": "f4310c60-2193-4b9e-9c43-2c17c3629877",
   "metadata": {},
   "outputs": [],
   "source": [
    "# Answer 2\n",
    "listOfletters = [\"T\",\"H\",\"A\",\"E\",\"N\",\"F\"]\n"
   ]
  },
  {
   "cell_type": "markdown",
   "id": "04f1b0eb-4717-4e7c-9c72-8c046464c94c",
   "metadata": {},
   "source": [
    "## Exercise 3\n",
    "\n",
    "A list called `listOfWords` have been defined. Please print first letter of each word using **list comprehension**.\n"
   ]
  },
  {
   "cell_type": "code",
   "execution_count": null,
   "id": "4b68f3e9-8ab3-42e8-abc6-a01de1c19d72",
   "metadata": {
    "tags": []
   },
   "outputs": [],
   "source": [
    "# Answer 3\n",
    "listOfWords = [\"this\",\"is\",\"a\",\"list\",\"of\",\"words\"]\n"
   ]
  },
  {
   "cell_type": "markdown",
   "id": "913bfc08-a423-4ed4-910b-7f2b5ec77f23",
   "metadata": {},
   "source": [
    "## Exercise 3b\n",
    "\n",
    "What about getting last character of each word?\n"
   ]
  },
  {
   "cell_type": "code",
   "execution_count": null,
   "id": "2613e310-b837-4e8e-a13d-f4fab15f5c69",
   "metadata": {},
   "outputs": [],
   "source": [
    "# Answer 3b\n"
   ]
  },
  {
   "cell_type": "markdown",
   "id": "825831b3-1fb9-4952-8256-4f3038921eab",
   "metadata": {},
   "source": [
    "## Exercise 4\n",
    "\n",
    "the list `x` contains random 100 digits. Please count how many times each digit occurs, using **dictionary**.\n"
   ]
  },
  {
   "cell_type": "code",
   "execution_count": null,
   "id": "2e3fc201-9b4b-4a86-8960-ff10d25f4094",
   "metadata": {},
   "outputs": [],
   "source": [
    "from random import randint\n",
    "x = [randint(0, 9) for p in range(0, 100)]\n",
    "\n",
    "# Answer 4\n"
   ]
  },
  {
   "cell_type": "markdown",
   "id": "176786d2-cf1c-4656-82a3-66d7777120eb",
   "metadata": {},
   "source": [
    "## Exercise 4b\n",
    "\n",
    "What is the frequency of sum of the dices if we throw two dices 1 million times?"
   ]
  },
  {
   "cell_type": "markdown",
   "id": "1bc2119a-e4e4-4726-8e8c-a3b7ade477c5",
   "metadata": {},
   "source": [
    "## Exercise 5\n",
    "\n",
    "Below is a sample code using **list comprehension**. Please re-write similar code using for loop.\n",
    "\n",
    "```python\n",
    "[x**2 for x in range(10) if x % 2 == 0]\n",
    "\n",
    "result: [0, 4, 16, 36, 64]\n",
    "```"
   ]
  },
  {
   "cell_type": "code",
   "execution_count": null,
   "id": "711faede-c795-4c5a-bb8a-a4d33102c2a9",
   "metadata": {},
   "outputs": [],
   "source": [
    "# Answer 5\n",
    "\n"
   ]
  },
  {
   "cell_type": "markdown",
   "id": "0946310d-f69d-45d1-a376-c7afcba646ea",
   "metadata": {},
   "source": [
    "## Exercise 6\n",
    "\n",
    "Given the string `a_sentence=\"python is awesome and marvelous\"` please print out the **longest word**. Create a dictionary for lengths of words then search online to find a way to sort according to values. The answer is definitely not `print(\"marvelous\")`! Your solution should work for **any** list."
   ]
  },
  {
   "cell_type": "code",
   "execution_count": null,
   "id": "62bfc516-f6e7-48ad-8ab1-8f53057412f2",
   "metadata": {},
   "outputs": [],
   "source": [
    "# answer 6\n",
    "a_sentence=\"python is awesome and marvelous\"\n"
   ]
  },
  {
   "cell_type": "markdown",
   "id": "81177910-8877-4957-b4af-bb733d9b05f0",
   "metadata": {},
   "source": [
    "## More exercises\n",
    "\n",
    "Collected from online resources\n",
    "\n",
    "* Write a Python script to merge two Python dictionaries. For `d1={'a':5, 'b':3, 'c':2}` and `d2={'a':1, 'c':3, 'd':6}` the merged dictionary should be `{'a':6, 'b':3, 'c':5, 'd':6}`\n",
    "* Write a function called `find_value(mydict, val)` that accepts a dictionary called `mydict` and a variable of any type called `val`. The function should return a list of keys that map to the value `val` in `mydict`.\n",
    "* Write a function to invert a dictionary. It should accept a dictionary as a parameter and return a dictionary where the keys are values from the input dictionary and the values are lists of keys from the input dictionary. For example, this input: \n",
    "    ```python\n",
    "    { \"key1\" : \"value1\", \"key2\" : \"value2\", \"key3\" : \"value1\" }\n",
    "    ```\n",
    "    should return this dictionary:\n",
    "    ```python\n",
    "    { \"value1\" : [\"key1\", \"key3\"], \"value2\" : [\"key2\"] }\n",
    "    ```\n",
    "* Given a dictionary of courses and names of students taking those courses:\n",
    "    ```python\n",
    "    courses = { 'Math': ['John', 'Jane', 'Marry'],\n",
    "             'Physics': ['Jane', 'Adam', 'Chris'],\n",
    "           'Chemistry': ['John','Adam','Marry']}\n",
    "    ```\n",
    "    write a program which will generate a dictionary of students and their courses list as shown below:\n",
    "    ```python\n",
    "    students = { 'John': ['Math', 'Chemistry'],\n",
    "                 'Jane': ['Math', 'Physics'],\n",
    "                'Marry': ['Math', 'Chemistry'],\n",
    "                 'Adam': ['Physics', 'Chemistry'],\n",
    "                'Chris': ['Physics'] }\n",
    "    ```"
   ]
  }
 ],
 "metadata": {
  "kernelspec": {
   "display_name": "Python 3",
   "language": "python",
   "name": "python3"
  },
  "language_info": {
   "codemirror_mode": {
    "name": "ipython",
    "version": 3
   },
   "file_extension": ".py",
   "mimetype": "text/x-python",
   "name": "python",
   "nbconvert_exporter": "python",
   "pygments_lexer": "ipython3",
   "version": "3.7.10"
  }
 },
 "nbformat": 4,
 "nbformat_minor": 5
}

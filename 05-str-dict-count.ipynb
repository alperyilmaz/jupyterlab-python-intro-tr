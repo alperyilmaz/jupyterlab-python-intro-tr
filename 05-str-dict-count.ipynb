{
 "cells": [
  {
   "cell_type": "markdown",
   "metadata": {},
   "source": [
    "# Strings, dictionaries and word counts\n",
    "\n",
    "Question: For a given text, how would you count occurrence of each word? For a given word, we might use `count()` method but about counting all words?\n",
    "\n",
    "Input: *\"One morning, when Gregor Samsa woke from troubled dreams, he found himself transformed ...\"*\n",
    "\n",
    "Output: *{'one': 1, 'morning': 1, 'when': 1, 'gregor': 2, 'samsa': 2, 'woke': 1, 'from': 1, 'troubled': 1, 'dreams': 1, 'he': 7, 'found': 1,...*\n"
   ]
  },
  {
   "cell_type": "markdown",
   "metadata": {},
   "source": [
    "## Strings\n",
    "\n",
    "Please visit [Strings](https://www.tutorialspoint.com/python3/python_strings.htm) page at TutorialsPoint for extensive information about strings. Please go over all possible string methods at [this](https://www.w3schools.com/python/python_ref_string.asp) page."
   ]
  },
  {
   "cell_type": "code",
   "execution_count": 1,
   "metadata": {},
   "outputs": [],
   "source": [
    "couple_of_words = ['hello','world']\n",
    "sentence = 'It was the best of times, it was the worst of times.'"
   ]
  },
  {
   "cell_type": "markdown",
   "metadata": {},
   "source": [
    "### Accessing values in strings"
   ]
  },
  {
   "cell_type": "code",
   "execution_count": 2,
   "metadata": {},
   "outputs": [
    {
     "data": {
      "text/plain": [
       "'w'"
      ]
     },
     "execution_count": 2,
     "metadata": {},
     "output_type": "execute_result"
    }
   ],
   "source": [
    "sentence[3]"
   ]
  },
  {
   "cell_type": "code",
   "execution_count": 3,
   "metadata": {},
   "outputs": [
    {
     "data": {
      "text/plain": [
       "'world'"
      ]
     },
     "execution_count": 3,
     "metadata": {},
     "output_type": "execute_result"
    }
   ],
   "source": [
    "couple_of_words[1]"
   ]
  },
  {
   "cell_type": "code",
   "execution_count": 4,
   "metadata": {},
   "outputs": [
    {
     "data": {
      "text/plain": [
       "'r'"
      ]
     },
     "execution_count": 4,
     "metadata": {},
     "output_type": "execute_result"
    }
   ],
   "source": [
    "couple_of_words[1][2]"
   ]
  },
  {
   "cell_type": "code",
   "execution_count": 5,
   "metadata": {},
   "outputs": [],
   "source": [
    "equivalent_list = [['h','e','l','l','o'], ['w','o','r','l','d']]\n",
    "#ozel_bir_dizi[1][2]"
   ]
  },
  {
   "cell_type": "markdown",
   "metadata": {},
   "source": [
    "Slicing, as in lists, is possible as well"
   ]
  },
  {
   "cell_type": "code",
   "execution_count": 6,
   "metadata": {},
   "outputs": [
    {
     "data": {
      "text/plain": [
       "'worst of times.'"
      ]
     },
     "execution_count": 6,
     "metadata": {},
     "output_type": "execute_result"
    }
   ],
   "source": [
    "sentence[37:]"
   ]
  },
  {
   "cell_type": "markdown",
   "metadata": {},
   "source": [
    "### Escape characters\n",
    "\n",
    "While printing characters, the special characters such as Tab, Newline, etc. are denoted with escape characters. Please refer to [Strings](https://www.tutorialspoint.com/python3/python_strings.htm) page at TutorialsPoint for full list."
   ]
  },
  {
   "cell_type": "code",
   "execution_count": 7,
   "metadata": {},
   "outputs": [
    {
     "name": "stdout",
     "output_type": "stream",
     "text": [
      "hello\tworld!\n",
      "hello again!\n"
     ]
    }
   ],
   "source": [
    "print(\"hello\\tworld!\\nhello again!\")"
   ]
  },
  {
   "cell_type": "markdown",
   "metadata": {},
   "source": [
    "Please visit [Strings](https://www.tutorialspoint.com/python3/python_strings.htm) page at TutorialsPoint for list of \"String Special Operators\".\n",
    "\n",
    "Question: If you want to print \"\\n\" literally, how would you do it?"
   ]
  },
  {
   "cell_type": "code",
   "execution_count": 8,
   "metadata": {},
   "outputs": [
    {
     "name": "stdout",
     "output_type": "stream",
     "text": [
      "\\n is newline char\n"
     ]
    }
   ],
   "source": [
    "print(\"\\\\n is newline char\")"
   ]
  },
  {
   "cell_type": "markdown",
   "metadata": {},
   "source": [
    "### String concatanation\n",
    "\n",
    "`+` sign can be used to concatanate (combine) strings. "
   ]
  },
  {
   "cell_type": "code",
   "execution_count": 9,
   "metadata": {},
   "outputs": [],
   "source": [
    "name=\"John\"\n",
    "lastname=\"Doe\"\n",
    "payment=53.444"
   ]
  },
  {
   "cell_type": "code",
   "execution_count": 10,
   "metadata": {},
   "outputs": [
    {
     "name": "stdout",
     "output_type": "stream",
     "text": [
      "JohnDoe\n"
     ]
    }
   ],
   "source": [
    "print(name + lastname)"
   ]
  },
  {
   "cell_type": "code",
   "execution_count": 11,
   "metadata": {},
   "outputs": [
    {
     "name": "stdout",
     "output_type": "stream",
     "text": [
      "John Doe\n"
     ]
    }
   ],
   "source": [
    "print(name + \" \" + lastname)"
   ]
  },
  {
   "cell_type": "code",
   "execution_count": 12,
   "metadata": {},
   "outputs": [],
   "source": [
    "# try this\n",
    "#print(name + \" \" + lastname + \" owes $\" + payment )"
   ]
  },
  {
   "cell_type": "markdown",
   "metadata": {},
   "source": [
    "### String formatting\n",
    "\n",
    "`%` is used as formatting operator in Python which requires an accompanying **tuple**."
   ]
  },
  {
   "cell_type": "code",
   "execution_count": 13,
   "metadata": {},
   "outputs": [
    {
     "name": "stdout",
     "output_type": "stream",
     "text": [
      "Hello John Doe. Your current balance is $53.44\n"
     ]
    }
   ],
   "source": [
    "data = (\"John\", \"Doe\", 53.4444)\n",
    "format_string = \"Hello %s %s. Your current balance is $%.2f\"\n",
    "\n",
    "print(format_string % data)"
   ]
  },
  {
   "cell_type": "markdown",
   "metadata": {},
   "source": [
    "Please visit [this blog post](https://realpython.com/python-string-formatting/) for in-depth information about string formatting in Python. Let's use format string to print similar output."
   ]
  },
  {
   "cell_type": "code",
   "execution_count": 14,
   "metadata": {},
   "outputs": [
    {
     "data": {
      "text/plain": [
       "'Hello John Doe. Your current balance is $53.444.'"
      ]
     },
     "execution_count": 14,
     "metadata": {},
     "output_type": "execute_result"
    }
   ],
   "source": [
    "f\"Hello {name} {lastname}. Your current balance is ${payment}.\"\n",
    "#f\"Hello {name.upper()} {lastname.upper()}. Your current balance is ${payment:0.2f}.\""
   ]
  },
  {
   "cell_type": "code",
   "execution_count": 15,
   "metadata": {},
   "outputs": [
    {
     "data": {
      "text/plain": [
       "'Hello JohnDoe. Your current balance is $53.44.'"
      ]
     },
     "execution_count": 15,
     "metadata": {},
     "output_type": "execute_result"
    }
   ],
   "source": [
    "f\"Hello {name+lastname}. Your current balance is ${payment:0.2f}.\""
   ]
  },
  {
   "cell_type": "markdown",
   "metadata": {},
   "source": [
    "### String methods\n",
    "\n",
    "Please refer to [Strings](https://www.tutorialspoint.com/python3/python_strings.htm) page at TutorialsPoint for full list of methods."
   ]
  },
  {
   "cell_type": "code",
   "execution_count": 16,
   "metadata": {},
   "outputs": [
    {
     "data": {
      "text/plain": [
       "'IT WAS THE BEST OF TIMES, IT WAS THE WORST OF TIMES.'"
      ]
     },
     "execution_count": 16,
     "metadata": {},
     "output_type": "execute_result"
    }
   ],
   "source": [
    "sentence = 'It was the best of times, it was the worst of times.'\n",
    "sentence.upper()"
   ]
  },
  {
   "cell_type": "code",
   "execution_count": 17,
   "metadata": {},
   "outputs": [
    {
     "data": {
      "text/plain": [
       "5"
      ]
     },
     "execution_count": 17,
     "metadata": {},
     "output_type": "execute_result"
    }
   ],
   "source": [
    "sentence.count('e')"
   ]
  },
  {
   "cell_type": "markdown",
   "metadata": {},
   "source": [
    "> some of the functions for lists are shared with strings!"
   ]
  },
  {
   "cell_type": "code",
   "execution_count": 18,
   "metadata": {},
   "outputs": [
    {
     "data": {
      "text/plain": [
       "52"
      ]
     },
     "execution_count": 18,
     "metadata": {},
     "output_type": "execute_result"
    }
   ],
   "source": [
    "len(sentence)"
   ]
  },
  {
   "cell_type": "code",
   "execution_count": 19,
   "metadata": {},
   "outputs": [
    {
     "data": {
      "text/plain": [
       "'Is was she bess of times, it was the worst of times.'"
      ]
     },
     "execution_count": 19,
     "metadata": {},
     "output_type": "execute_result"
    }
   ],
   "source": [
    "sentence.replace('t','s',3)"
   ]
  },
  {
   "cell_type": "code",
   "execution_count": 20,
   "metadata": {},
   "outputs": [
    {
     "data": {
      "text/plain": [
       "['it',\n",
       " 'was',\n",
       " 'the',\n",
       " 'best',\n",
       " 'of',\n",
       " 'times,',\n",
       " 'it',\n",
       " 'was',\n",
       " 'the',\n",
       " 'worst',\n",
       " 'of',\n",
       " 'times.']"
      ]
     },
     "execution_count": 20,
     "metadata": {},
     "output_type": "execute_result"
    }
   ],
   "source": [
    "sentence.lower().split()\n",
    "#sentence.lower().split(\",\")"
   ]
  },
  {
   "cell_type": "markdown",
   "metadata": {},
   "source": [
    "How can we calculate reverse complement of a DNA string?"
   ]
  },
  {
   "cell_type": "code",
   "execution_count": 21,
   "metadata": {},
   "outputs": [
    {
     "data": {
      "text/plain": [
       "'ACGACAACGACAA'"
      ]
     },
     "execution_count": 21,
     "metadata": {},
     "output_type": "execute_result"
    }
   ],
   "source": [
    "a_gene= \"ACGACTACGACTA\"\n",
    "a_gene.replace('A','T').replace('T','A')"
   ]
  },
  {
   "cell_type": "markdown",
   "metadata": {},
   "source": [
    "Uh oh! that's wrong. Looks like we need another method."
   ]
  },
  {
   "cell_type": "markdown",
   "metadata": {},
   "source": [
    "# Dictionaries\n",
    "\n",
    "Dictionaries are sometimes found in other languages as \"hash tables\" or \"associative arrays\". Unlike sequences, which are indexed by a range of numbers, dictionaries are indexed by **keys**, which can be any immutable type; strings and numbers can always be keys. \n",
    "\n",
    "It is best to think of a dictionary as a set of *key: value* pairs, with the requirement that the keys are unique (within one dictionary). A pair of braces creates an empty dictionary: `{}`. Placing a comma-separated list of key:value pairs within the braces adds initial key:value pairs to the dictionary; this is also the way dictionaries are written on output.\n",
    "\n",
    "Performing `list(d)` on a dictionary returns a list of all the keys used in the dictionary, in insertion order (if you want it sorted, just use `sorted(d)` instead). To check whether a single key is in the dictionary, use the `in` keyword."
   ]
  },
  {
   "cell_type": "code",
   "execution_count": 22,
   "metadata": {},
   "outputs": [
    {
     "data": {
      "text/plain": [
       "{'jack': 4098, 'sape': 4139, 'guido': 4127}"
      ]
     },
     "execution_count": 22,
     "metadata": {},
     "output_type": "execute_result"
    }
   ],
   "source": [
    "tel = {'jack': 4098, 'sape': 4139}\n",
    "tel['guido'] = 4127\n",
    "tel"
   ]
  },
  {
   "cell_type": "code",
   "execution_count": 23,
   "metadata": {},
   "outputs": [
    {
     "data": {
      "text/plain": [
       "4098"
      ]
     },
     "execution_count": 23,
     "metadata": {},
     "output_type": "execute_result"
    }
   ],
   "source": [
    "tel['jack']"
   ]
  },
  {
   "cell_type": "code",
   "execution_count": 24,
   "metadata": {},
   "outputs": [
    {
     "data": {
      "text/plain": [
       "{'jack': 4098, 'guido': 4127, 'irv': 4127}"
      ]
     },
     "execution_count": 24,
     "metadata": {},
     "output_type": "execute_result"
    }
   ],
   "source": [
    "del tel['sape']\n",
    "tel['irv'] = 4127\n",
    "tel"
   ]
  },
  {
   "cell_type": "code",
   "execution_count": 25,
   "metadata": {},
   "outputs": [
    {
     "data": {
      "text/plain": [
       "['jack', 'guido', 'irv']"
      ]
     },
     "execution_count": 25,
     "metadata": {},
     "output_type": "execute_result"
    }
   ],
   "source": [
    "list(tel)"
   ]
  },
  {
   "cell_type": "code",
   "execution_count": 26,
   "metadata": {},
   "outputs": [
    {
     "data": {
      "text/plain": [
       "['guido', 'irv', 'jack']"
      ]
     },
     "execution_count": 26,
     "metadata": {},
     "output_type": "execute_result"
    }
   ],
   "source": [
    "sorted(tel)"
   ]
  },
  {
   "cell_type": "code",
   "execution_count": 27,
   "metadata": {},
   "outputs": [
    {
     "data": {
      "text/plain": [
       "True"
      ]
     },
     "execution_count": 27,
     "metadata": {},
     "output_type": "execute_result"
    }
   ],
   "source": [
    "'guido' in tel"
   ]
  },
  {
   "cell_type": "code",
   "execution_count": 28,
   "metadata": {},
   "outputs": [
    {
     "data": {
      "text/plain": [
       "False"
      ]
     },
     "execution_count": 28,
     "metadata": {},
     "output_type": "execute_result"
    }
   ],
   "source": [
    "'jack' not in tel"
   ]
  },
  {
   "cell_type": "code",
   "execution_count": 29,
   "metadata": {},
   "outputs": [
    {
     "name": "stdout",
     "output_type": "stream",
     "text": [
      "guido:\t4127\n",
      "irv:\t4127\n",
      "jack:\t4098\n"
     ]
    }
   ],
   "source": [
    "for key in sorted(tel):\n",
    "    print(\"%s:\\t%s\" % (key,tel[key]))"
   ]
  },
  {
   "cell_type": "code",
   "execution_count": 30,
   "metadata": {},
   "outputs": [
    {
     "name": "stdout",
     "output_type": "stream",
     "text": [
      "guido:\t📞 4127\n",
      "irv:\t📞 4127\n",
      "jack:\t📞 4098\n"
     ]
    }
   ],
   "source": [
    "for key in sorted(tel):\n",
    "    print(f\"{key}:\\t📞 {tel[key]}\")"
   ]
  },
  {
   "cell_type": "markdown",
   "metadata": {},
   "source": [
    "The `dict()` constructor builds dictionaries directly from sequences of key-value pairs:"
   ]
  },
  {
   "cell_type": "code",
   "execution_count": 31,
   "metadata": {},
   "outputs": [
    {
     "data": {
      "text/plain": [
       "{'sape': 4139, 'guido': 4127, 'jack': 4098}"
      ]
     },
     "execution_count": 31,
     "metadata": {},
     "output_type": "execute_result"
    }
   ],
   "source": [
    "dict([('sape', 4139), ('guido', 4127), ('jack', 4098)])"
   ]
  },
  {
   "cell_type": "markdown",
   "metadata": {},
   "source": [
    "Let's generate capitals dictionary"
   ]
  },
  {
   "cell_type": "code",
   "execution_count": 32,
   "metadata": {},
   "outputs": [],
   "source": [
    "#capitals = dict([('Turkey','Ankara'), ('Japan','Tokyo'), ('Germany','Berlin')])\n",
    "#capitals['Turkey']"
   ]
  },
  {
   "cell_type": "markdown",
   "metadata": {},
   "source": [
    "In addition, dict comprehensions can be used to create dictionaries from arbitrary key and value expressions:"
   ]
  },
  {
   "cell_type": "code",
   "execution_count": 33,
   "metadata": {},
   "outputs": [
    {
     "data": {
      "text/plain": [
       "{2: 4, 4: 16, 6: 36}"
      ]
     },
     "execution_count": 33,
     "metadata": {},
     "output_type": "execute_result"
    }
   ],
   "source": [
    "new_dict = {x: x**2 for x in (2, 4, 6)}\n",
    "new_dict"
   ]
  },
  {
   "cell_type": "code",
   "execution_count": 34,
   "metadata": {},
   "outputs": [
    {
     "data": {
      "text/plain": [
       "36"
      ]
     },
     "execution_count": 34,
     "metadata": {},
     "output_type": "execute_result"
    }
   ],
   "source": [
    "new_dict[6]"
   ]
  },
  {
   "cell_type": "markdown",
   "metadata": {},
   "source": [
    "When the keys are simple strings, it is sometimes easier to specify pairs using keyword arguments:"
   ]
  },
  {
   "cell_type": "code",
   "execution_count": 35,
   "metadata": {},
   "outputs": [
    {
     "data": {
      "text/plain": [
       "{'sape': 4139, 'guido': 4127, 'jack': 4098}"
      ]
     },
     "execution_count": 35,
     "metadata": {},
     "output_type": "execute_result"
    }
   ],
   "source": [
    "dict(sape=4139, guido=4127, jack=4098)"
   ]
  },
  {
   "cell_type": "markdown",
   "metadata": {},
   "source": [
    "### Dictionary from two lists"
   ]
  },
  {
   "cell_type": "code",
   "execution_count": 36,
   "metadata": {
    "tags": []
   },
   "outputs": [],
   "source": [
    "countries = ['Turkey', 'Japan', 'Germany']\n",
    "capitals = ['Ankara', 'Tokyo', 'Berlin']"
   ]
  },
  {
   "cell_type": "code",
   "execution_count": 37,
   "metadata": {},
   "outputs": [],
   "source": [
    "capital_dict = dict(zip(countries,capitals))"
   ]
  },
  {
   "cell_type": "code",
   "execution_count": 38,
   "metadata": {},
   "outputs": [
    {
     "name": "stdout",
     "output_type": "stream",
     "text": [
      "{'Turkey': 'Ankara', 'Japan': 'Tokyo', 'Germany': 'Berlin'}\n"
     ]
    }
   ],
   "source": [
    "print(capital_dict)"
   ]
  },
  {
   "cell_type": "code",
   "execution_count": 39,
   "metadata": {
    "tags": []
   },
   "outputs": [
    {
     "data": {
      "text/plain": [
       "'Ankara'"
      ]
     },
     "execution_count": 39,
     "metadata": {},
     "output_type": "execute_result"
    }
   ],
   "source": [
    "capital_dict['Turkey']"
   ]
  },
  {
   "cell_type": "markdown",
   "metadata": {},
   "source": [
    "## Dictionary Methods\n",
    "\n",
    "Python has a set of built-in methods that you can use on dictionaries.\n",
    "\n",
    "| Method                                                       | Description                                                  |\n",
    "| ------------------------------------------------------------ | ------------------------------------------------------------ |\n",
    "| [clear()](https://www.w3schools.com/python/ref_dictionary_clear.asp) | Removes all the elements from the dictionary                 |\n",
    "| [copy()](https://www.w3schools.com/python/ref_dictionary_copy.asp) | Returns a copy of the dictionary                             |\n",
    "| [fromkeys()](https://www.w3schools.com/python/ref_dictionary_fromkeys.asp) | Returns a dictionary with the specified keys and values      |\n",
    "| [get()](https://www.w3schools.com/python/ref_dictionary_get.asp) | Returns the value of the specified key                       |\n",
    "| [items()](https://www.w3schools.com/python/ref_dictionary_items.asp) | Returns a list containing the a tuple for each key value pair |\n",
    "| [keys()](https://www.w3schools.com/python/ref_dictionary_keys.asp) | Returns a list contianing the dictionary's keys              |\n",
    "| [pop()](https://www.w3schools.com/python/ref_dictionary_pop.asp) | Removes the element with the specified key                   |\n",
    "| [popitem()](https://www.w3schools.com/python/ref_dictionary_popitem.asp) | Removes the last    inserted key-value pair                  |\n",
    "| [setdefault()](https://www.w3schools.com/python/ref_dictionary_setdefault.asp) | Returns the value of the specified key. If the key does not exist: insert the key, with the specified value |\n",
    "| [update()](https://www.w3schools.com/python/ref_dictionary_update.asp) | Updates the dictionary with the specified key-value pairs    |\n",
    "| [values()](https://www.w3schools.com/python/ref_dictionary_values.asp) | Returns a list of all the values in the dictionary           |\n",
    "\n",
    "------"
   ]
  },
  {
   "cell_type": "markdown",
   "metadata": {},
   "source": [
    "## Counting words with dictionaries"
   ]
  },
  {
   "cell_type": "code",
   "execution_count": 40,
   "metadata": {},
   "outputs": [
    {
     "data": {
      "text/html": [
       "\n",
       "<iframe src=\"https://pythontutor.com/iframe-embed.html#code=def%20word_count%28str%29%3A%0A%20%20%20%20counts%20%3D%20\n",
       "dict%28%29%0A%20%20%20%20words%20%3D%20str.split%28%29%0A%0A%20%20%20%20for%20word%20in%20words%3A%0A%20%20%20%20%20%20%20%20\n",
       "if%20word%20in%20counts%3A%0A%20%20%20%20%20%20%20%20%20%20%20%20counts%5Bword%5D%20%2B%3D%201%0A%20%20%20%20%20%20%20%20\n",
       "else%3A%0A%20%20%20%20%20%20%20%20%20%20%20%20counts%5Bword%5D%20%3D%201%0A%0A%20%20%20%20return%20counts%0A%0Aprint%28%20\n",
       "word_count%28'the%20quick%20brown%20fox%20jumps%20over%20the%20lazy%20dog.'%29%29&amp;codeDivHeight=400&amp;codeDivWidth=350&amp;\n",
       "cumulative=false&amp;curInstr=0&amp;heapPrimitives=nevernest&amp;origin=opt-frontend.js&amp;py=3&amp;rawInputLstJSON=%5B%5D&amp;\n",
       "textReferences=false\" width=\"100%\" height=\"500\" frameborder=\"0\"> </iframe>\n"
      ],
      "text/plain": [
       "<IPython.core.display.HTML object>"
      ]
     },
     "metadata": {},
     "output_type": "display_data"
    }
   ],
   "source": [
    "%%HTML\n",
    "\n",
    "<iframe src=\"https://pythontutor.com/iframe-embed.html#code=def%20word_count%28str%29%3A%0A%20%20%20%20counts%20%3D%20\n",
    "dict%28%29%0A%20%20%20%20words%20%3D%20str.split%28%29%0A%0A%20%20%20%20for%20word%20in%20words%3A%0A%20%20%20%20%20%20%20%20\n",
    "if%20word%20in%20counts%3A%0A%20%20%20%20%20%20%20%20%20%20%20%20counts%5Bword%5D%20%2B%3D%201%0A%20%20%20%20%20%20%20%20\n",
    "else%3A%0A%20%20%20%20%20%20%20%20%20%20%20%20counts%5Bword%5D%20%3D%201%0A%0A%20%20%20%20return%20counts%0A%0Aprint%28%20\n",
    "word_count%28'the%20quick%20brown%20fox%20jumps%20over%20the%20lazy%20dog.'%29%29&amp;codeDivHeight=400&amp;codeDivWidth=350&amp;\n",
    "cumulative=false&amp;curInstr=0&amp;heapPrimitives=nevernest&amp;origin=opt-frontend.js&amp;py=3&amp;rawInputLstJSON=%5B%5D&amp;\n",
    "textReferences=false\" width=\"100%\" height=\"500\" frameborder=\"0\"> </iframe>"
   ]
  },
  {
   "cell_type": "markdown",
   "metadata": {},
   "source": [
    "## Another example of word count"
   ]
  },
  {
   "cell_type": "code",
   "execution_count": 41,
   "metadata": {},
   "outputs": [
    {
     "name": "stdout",
     "output_type": "stream",
     "text": [
      "['one', 'morning', 'when', 'gregor', 'samsa', 'woke', 'from', 'troubled', 'dreams', 'he', 'found', 'himself', 'transformed', 'in', 'his', 'bed', 'into', 'a', 'horrible', 'vermin.', 'he', 'lay', 'on', 'his', 'armour-like', 'back', 'and', 'if', 'he', 'lifted', 'his', 'head', 'a', 'little', 'he', 'could', 'see', 'his', 'brown', 'belly', 'slightly', 'domed', 'and', 'divided', 'by', 'arches', 'into', 'stiff', 'sections.', 'the', 'bedding', 'was', 'hardly', 'able', 'to', 'cover', 'it', 'and', 'seemed', 'ready', 'to', 'slide', 'off', 'any', 'moment.', 'his', 'many', 'legs', 'pitifully', 'thin', 'compared', 'with', 'the', 'size', 'of', 'the', 'rest', 'of', 'him', 'waved', 'about', 'helplessly', 'as', 'he', 'looked.', '\"what\\'s', 'happened', 'to', 'me?\"', 'he', 'thought.', 'it', \"wasn't\", 'a', 'dream.', 'his', 'room', 'a', 'proper', 'human', 'room', 'although', 'a', 'little', 'too', 'small', 'lay', 'peacefully', 'between', 'its', 'four', 'familiar', 'walls.', 'a', 'collection', 'of', 'textile', 'samples', 'lay', 'spread', 'out', 'on', 'the', 'table', '-', 'samsa', 'was', 'a', 'travelling', 'salesman', '-', 'and', 'above', 'it', 'there', 'hung', 'a', 'picture', 'that', 'he', 'had', 'recently', 'cut', 'out', 'of', 'an', 'illustrated', 'magazine', 'and', 'housed', 'in', 'a', 'nice', 'gilded', 'frame.', 'it', 'showed', 'a', 'lady', 'fitted', 'out', 'with', 'a', 'fur', 'hat', 'and', 'fur', 'boa', 'who', 'sat', 'upright', 'raising', 'a', 'heavy', 'fur', 'muff', 'that', 'covered', 'the', 'whole', 'of', 'her', 'lower', 'arm', 'towards', 'the', 'viewer.', 'gregor', 'then', 'turned', 'to', 'look', 'out', 'the', 'window', 'at', 'the', 'dull', 'weather.']\n"
     ]
    }
   ],
   "source": [
    "paragraph=\"\"\"One morning, when Gregor Samsa woke from troubled dreams, he found himself transformed in his bed \n",
    "into a horrible vermin. He lay on his armour-like back, and if he lifted his head a little he could see his \n",
    "brown belly, slightly domed and divided by arches into stiff sections. The bedding was hardly able to cover it \n",
    "and seemed ready to slide off any moment. His many legs, pitifully thin compared with the size of the rest of \n",
    "him, waved about helplessly as he looked. \"What's happened to me?\" he thought. It wasn't a dream. His room, a \n",
    "proper human room although a little too small, lay peacefully between its four familiar walls. A collection of \n",
    "textile samples lay spread out on the table - Samsa was a travelling salesman - and above it there hung a picture \n",
    "that he had recently cut out of an illustrated magazine and housed in a nice, gilded frame. It showed a lady \n",
    "fitted out with a fur hat and fur boa who sat upright, raising a heavy fur muff that covered the whole of her \n",
    "lower arm towards the viewer. Gregor then turned to look out the window at the dull weather.\"\"\"\n",
    "\n",
    "#paragraph.lower().translate(None, paragraph.punctuation).split()\n",
    "words = paragraph.replace(\",\",\"\").lower().split()\n",
    "print(words)"
   ]
  },
  {
   "cell_type": "markdown",
   "metadata": {},
   "source": [
    "### Count with loop"
   ]
  },
  {
   "cell_type": "code",
   "execution_count": 42,
   "metadata": {},
   "outputs": [
    {
     "name": "stdout",
     "output_type": "stream",
     "text": [
      "{'one': 1, 'morning': 1, 'when': 1, 'gregor': 2, 'samsa': 2, 'woke': 1, 'from': 1, 'troubled': 1, 'dreams': 1, 'he': 7, 'found': 1, 'himself': 1, 'transformed': 1, 'in': 2, 'his': 6, 'bed': 1, 'into': 2, 'a': 12, 'horrible': 1, 'vermin.': 1, 'lay': 3, 'on': 2, 'armour-like': 1, 'back': 1, 'and': 6, 'if': 1, 'lifted': 1, 'head': 1, 'little': 2, 'could': 1, 'see': 1, 'brown': 1, 'belly': 1, 'slightly': 1, 'domed': 1, 'divided': 1, 'by': 1, 'arches': 1, 'stiff': 1, 'sections.': 1, 'the': 8, 'bedding': 1, 'was': 2, 'hardly': 1, 'able': 1, 'to': 4, 'cover': 1, 'it': 4, 'seemed': 1, 'ready': 1, 'slide': 1, 'off': 1, 'any': 1, 'moment.': 1, 'many': 1, 'legs': 1, 'pitifully': 1, 'thin': 1, 'compared': 1, 'with': 2, 'size': 1, 'of': 5, 'rest': 1, 'him': 1, 'waved': 1, 'about': 1, 'helplessly': 1, 'as': 1, 'looked.': 1, '\"what\\'s': 1, 'happened': 1, 'me?\"': 1, 'thought.': 1, \"wasn't\": 1, 'dream.': 1, 'room': 2, 'proper': 1, 'human': 1, 'although': 1, 'too': 1, 'small': 1, 'peacefully': 1, 'between': 1, 'its': 1, 'four': 1, 'familiar': 1, 'walls.': 1, 'collection': 1, 'textile': 1, 'samples': 1, 'spread': 1, 'out': 4, 'table': 1, '-': 2, 'travelling': 1, 'salesman': 1, 'above': 1, 'there': 1, 'hung': 1, 'picture': 1, 'that': 2, 'had': 1, 'recently': 1, 'cut': 1, 'an': 1, 'illustrated': 1, 'magazine': 1, 'housed': 1, 'nice': 1, 'gilded': 1, 'frame.': 1, 'showed': 1, 'lady': 1, 'fitted': 1, 'fur': 3, 'hat': 1, 'boa': 1, 'who': 1, 'sat': 1, 'upright': 1, 'raising': 1, 'heavy': 1, 'muff': 1, 'covered': 1, 'whole': 1, 'her': 1, 'lower': 1, 'arm': 1, 'towards': 1, 'viewer.': 1, 'then': 1, 'turned': 1, 'look': 1, 'window': 1, 'at': 1, 'dull': 1, 'weather.': 1}\n"
     ]
    }
   ],
   "source": [
    "counts=dict()\n",
    "# or\n",
    "# counts={}\n",
    "for word in words:\n",
    "    if word in counts:\n",
    "        counts[word] += 1\n",
    "    else:\n",
    "        counts[word] = 1\n",
    "\n",
    "print(counts)"
   ]
  },
  {
   "cell_type": "markdown",
   "metadata": {},
   "source": [
    "We can access values for particular keys by `dict[key]`notation"
   ]
  },
  {
   "cell_type": "code",
   "execution_count": 43,
   "metadata": {},
   "outputs": [
    {
     "data": {
      "text/plain": [
       "7"
      ]
     },
     "execution_count": 43,
     "metadata": {},
     "output_type": "execute_result"
    }
   ],
   "source": [
    "counts[\"he\"]"
   ]
  },
  {
   "cell_type": "code",
   "execution_count": 44,
   "metadata": {},
   "outputs": [
    {
     "data": {
      "text/plain": [
       "8"
      ]
     },
     "execution_count": 44,
     "metadata": {},
     "output_type": "execute_result"
    }
   ],
   "source": [
    "counts[\"the\"]"
   ]
  },
  {
   "cell_type": "markdown",
   "metadata": {},
   "source": [
    "Here's another way to generate a dictionary with word counts. In this case, we use `get()` method to access keys, which allows assigning default values (0 in our case) if a key is not found."
   ]
  },
  {
   "cell_type": "code",
   "execution_count": 45,
   "metadata": {},
   "outputs": [
    {
     "name": "stdout",
     "output_type": "stream",
     "text": [
      "{'one': 1, 'morning': 1, 'when': 1, 'gregor': 2, 'samsa': 2, 'woke': 1, 'from': 1, 'troubled': 1, 'dreams': 1, 'he': 7, 'found': 1, 'himself': 1, 'transformed': 1, 'in': 2, 'his': 6, 'bed': 1, 'into': 2, 'a': 12, 'horrible': 1, 'vermin.': 1, 'lay': 3, 'on': 2, 'armour-like': 1, 'back': 1, 'and': 6, 'if': 1, 'lifted': 1, 'head': 1, 'little': 2, 'could': 1, 'see': 1, 'brown': 1, 'belly': 1, 'slightly': 1, 'domed': 1, 'divided': 1, 'by': 1, 'arches': 1, 'stiff': 1, 'sections.': 1, 'the': 8, 'bedding': 1, 'was': 2, 'hardly': 1, 'able': 1, 'to': 4, 'cover': 1, 'it': 4, 'seemed': 1, 'ready': 1, 'slide': 1, 'off': 1, 'any': 1, 'moment.': 1, 'many': 1, 'legs': 1, 'pitifully': 1, 'thin': 1, 'compared': 1, 'with': 2, 'size': 1, 'of': 5, 'rest': 1, 'him': 1, 'waved': 1, 'about': 1, 'helplessly': 1, 'as': 1, 'looked.': 1, '\"what\\'s': 1, 'happened': 1, 'me?\"': 1, 'thought.': 1, \"wasn't\": 1, 'dream.': 1, 'room': 2, 'proper': 1, 'human': 1, 'although': 1, 'too': 1, 'small': 1, 'peacefully': 1, 'between': 1, 'its': 1, 'four': 1, 'familiar': 1, 'walls.': 1, 'collection': 1, 'textile': 1, 'samples': 1, 'spread': 1, 'out': 4, 'table': 1, '-': 2, 'travelling': 1, 'salesman': 1, 'above': 1, 'there': 1, 'hung': 1, 'picture': 1, 'that': 2, 'had': 1, 'recently': 1, 'cut': 1, 'an': 1, 'illustrated': 1, 'magazine': 1, 'housed': 1, 'nice': 1, 'gilded': 1, 'frame.': 1, 'showed': 1, 'lady': 1, 'fitted': 1, 'fur': 3, 'hat': 1, 'boa': 1, 'who': 1, 'sat': 1, 'upright': 1, 'raising': 1, 'heavy': 1, 'muff': 1, 'covered': 1, 'whole': 1, 'her': 1, 'lower': 1, 'arm': 1, 'towards': 1, 'viewer.': 1, 'then': 1, 'turned': 1, 'look': 1, 'window': 1, 'at': 1, 'dull': 1, 'weather.': 1}\n"
     ]
    }
   ],
   "source": [
    "counts2={}\n",
    "\n",
    "for word in words: \n",
    "    counts2[word] = counts2.get(word, 0) + 1\n",
    "    \n",
    "print(counts2)"
   ]
  },
  {
   "cell_type": "markdown",
   "metadata": {},
   "source": [
    "### Count with list comprehension"
   ]
  },
  {
   "cell_type": "code",
   "execution_count": 46,
   "metadata": {},
   "outputs": [
    {
     "name": "stdout",
     "output_type": "stream",
     "text": [
      "[1, 1, 1, 2, 2, 1, 1, 1, 1, 7, 1, 1, 1, 2, 6, 1, 2, 12, 1, 1, 7, 3, 2, 6, 1, 1, 6, 1, 7, 1, 6, 1, 12, 2, 7, 1, 1, 6, 1, 1, 1, 1, 6, 1, 1, 1, 2, 1, 1, 8, 1, 2, 1, 1, 4, 1, 4, 6, 1, 1, 4, 1, 1, 1, 1, 6, 1, 1, 1, 1, 1, 2, 8, 1, 5, 8, 1, 5, 1, 1, 1, 1, 1, 7, 1, 1, 1, 4, 1, 7, 1, 4, 1, 12, 1, 6, 2, 12, 1, 1, 2, 1, 12, 2, 1, 1, 3, 1, 1, 1, 1, 1, 1, 12, 1, 5, 1, 1, 3, 1, 4, 2, 8, 1, 2, 2, 2, 12, 1, 1, 2, 6, 1, 4, 1, 1, 12, 1, 2, 7, 1, 1, 1, 4, 5, 1, 1, 1, 6, 1, 2, 12, 1, 1, 1, 4, 1, 12, 1, 1, 4, 2, 12, 3, 1, 6, 3, 1, 1, 1, 1, 1, 12, 1, 3, 1, 2, 1, 8, 1, 5, 1, 1, 1, 1, 8, 1, 2, 1, 1, 4, 1, 4, 8, 1, 1, 8, 1, 1]\n"
     ]
    }
   ],
   "source": [
    "wordfreq = [words.count(w) for w in words]\n",
    "print(str(wordfreq))"
   ]
  },
  {
   "cell_type": "code",
   "execution_count": 47,
   "metadata": {},
   "outputs": [
    {
     "name": "stdout",
     "output_type": "stream",
     "text": [
      "{'one': 1, 'morning': 1, 'when': 1, 'gregor': 2, 'samsa': 2, 'woke': 1, 'from': 1, 'troubled': 1, 'dreams': 1, 'he': 7, 'found': 1, 'himself': 1, 'transformed': 1, 'in': 2, 'his': 6, 'bed': 1, 'into': 2, 'a': 12, 'horrible': 1, 'vermin.': 1, 'lay': 3, 'on': 2, 'armour-like': 1, 'back': 1, 'and': 6, 'if': 1, 'lifted': 1, 'head': 1, 'little': 2, 'could': 1, 'see': 1, 'brown': 1, 'belly': 1, 'slightly': 1, 'domed': 1, 'divided': 1, 'by': 1, 'arches': 1, 'stiff': 1, 'sections.': 1, 'the': 8, 'bedding': 1, 'was': 2, 'hardly': 1, 'able': 1, 'to': 4, 'cover': 1, 'it': 4, 'seemed': 1, 'ready': 1, 'slide': 1, 'off': 1, 'any': 1, 'moment.': 1, 'many': 1, 'legs': 1, 'pitifully': 1, 'thin': 1, 'compared': 1, 'with': 2, 'size': 1, 'of': 5, 'rest': 1, 'him': 1, 'waved': 1, 'about': 1, 'helplessly': 1, 'as': 1, 'looked.': 1, '\"what\\'s': 1, 'happened': 1, 'me?\"': 1, 'thought.': 1, \"wasn't\": 1, 'dream.': 1, 'room': 2, 'proper': 1, 'human': 1, 'although': 1, 'too': 1, 'small': 1, 'peacefully': 1, 'between': 1, 'its': 1, 'four': 1, 'familiar': 1, 'walls.': 1, 'collection': 1, 'textile': 1, 'samples': 1, 'spread': 1, 'out': 4, 'table': 1, '-': 2, 'travelling': 1, 'salesman': 1, 'above': 1, 'there': 1, 'hung': 1, 'picture': 1, 'that': 2, 'had': 1, 'recently': 1, 'cut': 1, 'an': 1, 'illustrated': 1, 'magazine': 1, 'housed': 1, 'nice': 1, 'gilded': 1, 'frame.': 1, 'showed': 1, 'lady': 1, 'fitted': 1, 'fur': 3, 'hat': 1, 'boa': 1, 'who': 1, 'sat': 1, 'upright': 1, 'raising': 1, 'heavy': 1, 'muff': 1, 'covered': 1, 'whole': 1, 'her': 1, 'lower': 1, 'arm': 1, 'towards': 1, 'viewer.': 1, 'then': 1, 'turned': 1, 'look': 1, 'window': 1, 'at': 1, 'dull': 1, 'weather.': 1}\n"
     ]
    }
   ],
   "source": [
    "wordfreq_pairs = dict(zip(words,wordfreq))\n",
    "print(str(wordfreq_pairs))"
   ]
  },
  {
   "cell_type": "markdown",
   "metadata": {},
   "source": [
    "## Dictionary comprehension\n",
    "\n",
    "\n",
    "In addition to list comprehension, dictionary comprehension is possible. Below is the example for even number squares dictionary constructed with both loop and comprehension."
   ]
  },
  {
   "cell_type": "code",
   "execution_count": 48,
   "metadata": {},
   "outputs": [
    {
     "name": "stdout",
     "output_type": "stream",
     "text": [
      "{2: 4, 4: 16, 6: 36, 8: 64, 10: 100, 12: 144, 14: 196, 16: 256, 18: 324, 20: 400}\n"
     ]
    }
   ],
   "source": [
    "d = {}\n",
    "for i in range(2,21,2):\n",
    "    d[i]=i**2\n",
    "print(d)"
   ]
  },
  {
   "cell_type": "code",
   "execution_count": 49,
   "metadata": {},
   "outputs": [
    {
     "name": "stdout",
     "output_type": "stream",
     "text": [
      "{2: 4, 4: 16, 6: 36, 8: 64, 10: 100, 12: 144, 14: 196, 16: 256, 18: 324, 20: 400}\n"
     ]
    }
   ],
   "source": [
    "d2 = { num: num**2 for num in range(2,21,2) }\n",
    "print(d2)"
   ]
  },
  {
   "cell_type": "markdown",
   "metadata": {},
   "source": [
    "### about reverse complement of a DNA sequence\n",
    "\n",
    "remember `a_gene`, let's get the reverse complement"
   ]
  },
  {
   "cell_type": "code",
   "execution_count": 50,
   "metadata": {},
   "outputs": [],
   "source": [
    "a_gene= \"ACGACTACGACTA\""
   ]
  },
  {
   "cell_type": "markdown",
   "metadata": {},
   "source": [
    "Let's check `translate()` method from [this source](https://www.w3schools.com/python/ref_string_translate.asp):\n",
    "> The `translate()` method returns a string where some specified characters are replaced with the character described in a dictionary, or in a mapping table.\n",
    "> Use the `maketrans()` method to create a mapping table.\n",
    "> If a character is not specified in the dictionary/table, the character will not be replaced.\n",
    "> If you use a dictionary, you **must use ascii codes instead of characters**.\n",
    "\n",
    "Let's use the [ASCII table](https://www.asciitable.com/) to get ASCII codes for A, T, G and C which are 65, 84, 67 and 71, respectively."
   ]
  },
  {
   "cell_type": "code",
   "execution_count": 51,
   "metadata": {},
   "outputs": [],
   "source": [
    "dna_table= {65: 84, 84: 65, 67: 71, 71:67}"
   ]
  },
  {
   "cell_type": "code",
   "execution_count": 52,
   "metadata": {},
   "outputs": [
    {
     "data": {
      "text/plain": [
       "'TGCTGATGCTGAT'"
      ]
     },
     "execution_count": 52,
     "metadata": {},
     "output_type": "execute_result"
    }
   ],
   "source": [
    "a_gene.translate(dna_table)"
   ]
  },
  {
   "cell_type": "markdown",
   "metadata": {},
   "source": [
    "## Complex data structures\n",
    "\n",
    "By mixing and nesting lists and dictionaries altogether pretty complex data structures can emerge. "
   ]
  },
  {
   "cell_type": "code",
   "execution_count": 53,
   "metadata": {},
   "outputs": [
    {
     "name": "stdout",
     "output_type": "stream",
     "text": [
      "John\n"
     ]
    }
   ],
   "source": [
    "people = {1: {'name': 'John', 'age': '27', 'gender': 'Male'},\n",
    "          2: {'name': 'Marie', 'age': '22', 'gender': 'Female'}}\n",
    "\n",
    "print(people[1]['name'])"
   ]
  },
  {
   "cell_type": "code",
   "execution_count": 54,
   "metadata": {},
   "outputs": [],
   "source": [
    "countries = {'Turkey': {'capital': 'Ankara', \n",
    "                        'largest_city': {'name': 'Istanbul', 'population':'15.4'},\n",
    "                        'population_million': [72.3, 78.5, 84.3],\n",
    "                        'pop_years': [2010, 2015, 2020] },\n",
    "            'Germany': {'capital': 'Berlin', \n",
    "                        'largest_city': {'name': 'Berlin', 'population':'3.6'},\n",
    "                        'population_million': [81.7, 81.7, 83.2],\n",
    "                        'pop_years': [2010, 2015, 2020] }\n",
    "            }"
   ]
  },
  {
   "cell_type": "code",
   "execution_count": 55,
   "metadata": {},
   "outputs": [
    {
     "data": {
      "text/plain": [
       "'15.4'"
      ]
     },
     "execution_count": 55,
     "metadata": {},
     "output_type": "execute_result"
    }
   ],
   "source": [
    "countries['Turkey']['largest_city']['population']"
   ]
  },
  {
   "cell_type": "code",
   "execution_count": 57,
   "metadata": {},
   "outputs": [
    {
     "data": {
      "text/plain": [
       "83.2"
      ]
     },
     "execution_count": 57,
     "metadata": {},
     "output_type": "execute_result"
    }
   ],
   "source": [
    "countries['Germany']['population_million'][-1]"
   ]
  }
 ],
 "metadata": {
  "kernelspec": {
   "display_name": "Python 3",
   "language": "python",
   "name": "python3"
  },
  "language_info": {
   "codemirror_mode": {
    "name": "ipython",
    "version": 3
   },
   "file_extension": ".py",
   "mimetype": "text/x-python",
   "name": "python",
   "nbconvert_exporter": "python",
   "pygments_lexer": "ipython3",
   "version": "3.7.10"
  }
 },
 "nbformat": 4,
 "nbformat_minor": 4
}

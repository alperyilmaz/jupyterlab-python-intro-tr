{
 "cells": [
  {
   "cell_type": "markdown",
   "metadata": {},
   "source": [
    "# Recitation on 2019-11-15\n",
    "\n",
    "To be solved by first group of ENF1170 Gr5 and Gr4 students\n",
    "\n",
    "Questions are compiled from: 06-recitation-grB:example2 07-recitation-grA:example1, example2, example4 07-recitation-grB:example3\n",
    "\n",
    "## Question 1"
   ]
  },
  {
   "cell_type": "markdown",
   "metadata": {},
   "source": [
    "A list called `listOfwords` have been defined. Please print first letter of each word using **list comprehension**.\n"
   ]
  },
  {
   "cell_type": "code",
   "execution_count": 5,
   "metadata": {},
   "outputs": [],
   "source": [
    "# Answer 1\n",
    "listOfWords = [\"this\",\"is\",\"a\",\"list\",\"of\",\"words\"]\n"
   ]
  },
  {
   "cell_type": "markdown",
   "metadata": {},
   "source": [
    "## Question 2\n",
    "\n",
    "Write a program which will take an input from user and calculate factorial for that number (**recursively**). Please use the template below.\n"
   ]
  },
  {
   "cell_type": "code",
   "execution_count": null,
   "metadata": {},
   "outputs": [],
   "source": [
    "# Answer 2\n",
    "\n",
    "number=input(\"Please enter an integer: \")\n",
    "# your code here\n",
    "\n",
    "def factorial:\n",
    "    # your code here\n",
    "\n",
    "# call the function factorial(number) here"
   ]
  },
  {
   "cell_type": "markdown",
   "metadata": {},
   "source": [
    "## Question 3\n",
    "\n",
    "Please read the contents of file \"*data/jane-austen-emma.txt*\" and count frequency of \"**letters**\" using dictionary. (Don't forget to lowercase all letters, don't count `H` and `h` separately)\n",
    "\n",
    "For example, you should return: `{'a': 1000, 'e': 2000, 'z': 30, 'd': 20, ...}` (**note**: numbers are for demo purposes, not accurate)\n"
   ]
  },
  {
   "cell_type": "code",
   "execution_count": null,
   "metadata": {},
   "outputs": [],
   "source": [
    "# Answer 3\n"
   ]
  },
  {
   "cell_type": "markdown",
   "metadata": {},
   "source": [
    "## Question 4\n",
    "\n",
    "Write a function which will calculate sum of Fibonacci numbers smaller than `n`. For example:\n",
    "\n",
    "```python\n",
    ">>> fib_total(20)\n",
    "33\n",
    "```\n",
    "\n",
    "**Note**: Calculate Fibonacci recursively and please ignore memoization from today's lecture.\n",
    "\n"
   ]
  },
  {
   "cell_type": "code",
   "execution_count": null,
   "metadata": {},
   "outputs": [],
   "source": [
    "# Answer 4\n",
    "\n"
   ]
  },
  {
   "cell_type": "markdown",
   "metadata": {},
   "source": [
    "## Question 5\n",
    "\n",
    "Let's try to comprehend list comprehension. Given the lists:\n",
    "\n",
    "```python\n",
    "a = ['A', 'B', 'C', 'D', 'E', 'F', 'G']\n",
    "b = [4, 2, 6, 1, 5, 0, 3]\n",
    "```\n",
    "\n",
    "Predict and explain the output of the following statements:\n",
    "\n",
    "1. `[a[x] for x in b]`\n",
    "\n",
    "2. `[a[x] for x in sorted(b)]`\n",
    "\n",
    "3. `[a[b[x]] for x in b]`\n",
    "\n",
    "4. `[x for (y,x) in sorted(zip(b,a))]`\n"
   ]
  },
  {
   "cell_type": "code",
   "execution_count": null,
   "metadata": {},
   "outputs": [],
   "source": [
    "# Answer 5\n",
    "\n",
    "# just run and try to understand the list comprehension examples from above"
   ]
  }
 ],
 "metadata": {
  "kernelspec": {
   "display_name": "Python 3",
   "language": "python",
   "name": "python3"
  },
  "language_info": {
   "codemirror_mode": {
    "name": "ipython",
    "version": 3
   },
   "file_extension": ".py",
   "mimetype": "text/x-python",
   "name": "python",
   "nbconvert_exporter": "python",
   "pygments_lexer": "ipython3",
   "version": "3.7.3"
  }
 },
 "nbformat": 4,
 "nbformat_minor": 4
}

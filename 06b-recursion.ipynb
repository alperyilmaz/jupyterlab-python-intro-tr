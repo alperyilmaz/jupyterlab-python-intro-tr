{
 "cells": [
  {
   "cell_type": "markdown",
   "id": "baf4dc9a-c855-482e-847c-8c2f9a231859",
   "metadata": {},
   "source": [
    "# Recursion and input"
   ]
  },
  {
   "cell_type": "markdown",
   "id": "35102710-c5c1-406b-82ed-64c649f625cd",
   "metadata": {},
   "source": [
    "## Recursion\n",
    "\n",
    "![recursion](https://cdn-images-1.medium.com/max/1600/1*appBwh6_RtvocVxwqpplHA.jpeg)\n",
    "\n",
    "*[image source](https://medium.freecodecamp.org/learn-recursion-in-10-minutes-e3262ac08a1)*"
   ]
  },
  {
   "cell_type": "markdown",
   "id": "162cc383-a3e3-4706-98c6-6cb9ef992482",
   "metadata": {},
   "source": [
    "Recursion might a challenging topic. It's much different from loops. \n",
    "\n",
    "An iterative function is one that loops to repeat some part of the code, and a recursive function is one that calls itself again to repeat the code.\n",
    "\n",
    "Let's try to calculate Fibonacci sequence iteratively and with a recursive function."
   ]
  },
  {
   "cell_type": "markdown",
   "id": "5a69acd0-2d80-4520-a680-15ac85f228d4",
   "metadata": {},
   "source": [
    "Fibonacci sequence is:\n",
    "\n",
    "0, 1, 1, 2, 3, 5, 8, 13, 21, 34, 55, 89, 144, 233, 377, 610, 987, 1597, 2584, 4181, 6765, 10946, 17711, 28657, 46368, 75025, 121393, 196418, 317811, ..."
   ]
  },
  {
   "cell_type": "code",
   "execution_count": 1,
   "id": "8e47b8ca-5a8d-450c-9cf6-50edd65f20e6",
   "metadata": {},
   "outputs": [],
   "source": [
    "# First implementation, https://stackoverflow.com/a/52133289/4579196\n",
    "def fib(n):\n",
    "    i = 1\n",
    "    present = 1\n",
    "    previous = 0\n",
    "\n",
    "    while i < n:\n",
    "        nextterm = present + previous\n",
    "        previous = present\n",
    "        present = nextterm\n",
    "        i = i + 1\n",
    "        #print nextterm\n",
    "\n",
    "    return nextterm"
   ]
  },
  {
   "cell_type": "code",
   "execution_count": 2,
   "id": "04db3dd1-3f4d-4635-8888-5e6587bb1ad4",
   "metadata": {},
   "outputs": [
    {
     "data": {
      "text/plain": [
       "75025"
      ]
     },
     "execution_count": 2,
     "metadata": {},
     "output_type": "execute_result"
    }
   ],
   "source": [
    "fib(25)"
   ]
  },
  {
   "cell_type": "code",
   "execution_count": 3,
   "id": "fc3222dc-2a0b-4eba-ad00-3cbccfa7c7cf",
   "metadata": {},
   "outputs": [],
   "source": [
    "# Second implementation, using array, https://stackoverflow.com/a/15047402/4579196\n",
    "def fib_ar(n):                                                                                                 \n",
    "    fibs = [0, 1, 1]                                                                                           \n",
    "    for f in range(2, n):                                                                                      \n",
    "        fibs.append(fibs[-1] + fibs[-2])                                                                         \n",
    "    return fibs[n]"
   ]
  },
  {
   "cell_type": "code",
   "execution_count": 4,
   "id": "2cdda6aa-b057-4fb7-9a81-557cc9ed46b5",
   "metadata": {},
   "outputs": [
    {
     "data": {
      "text/plain": [
       "75025"
      ]
     },
     "execution_count": 4,
     "metadata": {},
     "output_type": "execute_result"
    }
   ],
   "source": [
    "fib_ar(25)"
   ]
  },
  {
   "cell_type": "markdown",
   "id": "2202104d-a5e2-4718-b229-6bc77cfab9e9",
   "metadata": {},
   "source": [
    "Recursive approach will be slightly different. The function will call itself with different inputs.\n",
    "\n",
    "![Fibonacci - recursive](https://upload.wikimedia.org/wikipedia/commons/thumb/5/5f/FibbonacciRecurisive.png/800px-FibbonacciRecurisive.png)\n",
    "\n",
    "*[image source](https://gl.wikipedia.org/wiki/Ficheiro:FibbonacciRecurisive.png)*"
   ]
  },
  {
   "cell_type": "code",
   "execution_count": 5,
   "id": "06d09db3-712b-4605-90f8-fdc4f0c7b8e2",
   "metadata": {},
   "outputs": [],
   "source": [
    "def fibonacci(number):\n",
    "    if number <2 :\n",
    "        return number\n",
    "    else:\n",
    "        return fibonacci(number - 1) + fibonacci(number - 2)"
   ]
  },
  {
   "cell_type": "code",
   "execution_count": 6,
   "id": "abd59700-2587-48ab-bcc3-d10ec03a5f15",
   "metadata": {},
   "outputs": [
    {
     "data": {
      "text/plain": [
       "75025"
      ]
     },
     "execution_count": 6,
     "metadata": {},
     "output_type": "execute_result"
    }
   ],
   "source": [
    "fibonacci(25)"
   ]
  },
  {
   "cell_type": "markdown",
   "id": "b8992351-4255-4ddd-a58f-732e9babec9b",
   "metadata": {},
   "source": [
    "Please use PythonTutor and follow the steps for `fibonacci(5)` which is comprised of 62 steps!"
   ]
  },
  {
   "cell_type": "markdown",
   "id": "fdbf6051-69fc-41c0-8b02-d3e123eccf80",
   "metadata": {},
   "source": [
    "## More about recursion\n",
    "\n",
    "* Please search for \"Memoized recursion\", which is more efficient method. As you might have noticed, in `fibonacci()` function we calculate, for instance, `fibonacci(3)` many times.\n",
    "* Functions such as factorial or fibonacci are not truly recursive. They can be calculated in iterative fashion. Please check out \"[Ackermann function](https://en.wikipedia.org/wiki/Ackermann_function)\" which is truly recursive."
   ]
  },
  {
   "cell_type": "markdown",
   "id": "d5e2827c-2813-41bd-b6ed-b75d61cf7a17",
   "metadata": {},
   "source": [
    "## Solve Towers of Hanoi with recursion"
   ]
  },
  {
   "cell_type": "markdown",
   "id": "4dedda78-4497-44ac-955f-96576bb57a5b",
   "metadata": {},
   "source": [
    "\n",
    "The code below is taken from Chapter 2 of the book \"Learning Scientific Programming with Python\" and here's the [link](https://scipython.com/book/chapter-2-the-core-python-language-i/examples/the-tower-of-hanoi/) for the source code.\n",
    "\n",
    "The problem can be solved using the following recursive algorithm. Label the discs $D_i$ with $D_1$ the smallest disc and $D_n$ the largest.\n",
    "\n",
    "* Move discs $D_1$,$D_2$,$\\ldots$,$D_{n−1}$ from A to B;\n",
    "* Move disc $D_n$ from A to C;\n",
    "* Move discs $D_1$,$D_2$,$\\ldots$,$D_{n−1}$ from B to C."
   ]
  },
  {
   "cell_type": "markdown",
   "id": "2d0bcc20-4e82-4392-9c5b-bbc7c21f54c7",
   "metadata": {},
   "source": [
    "### Resource 1\n",
    "\n",
    "From the book \"Learning Scientific Programming with Python\""
   ]
  },
  {
   "cell_type": "code",
   "execution_count": 7,
   "id": "a091c0a2-3ab7-426f-8ec0-39f2b0a3f9e2",
   "metadata": {},
   "outputs": [],
   "source": [
    "def hanoi(n, P1, P2, P3):\n",
    "    \"\"\" Move n discs from pole P1 to pole P3. \"\"\"\n",
    "    if n == 0:\n",
    "        # No more discs to move in this step\n",
    "        return\n",
    "\n",
    "    global count\n",
    "    count += 1\n",
    "\n",
    "    # move n-1 discs from P1 to P2\n",
    "    hanoi(n-1, P1, P3, P2)\n",
    "\n",
    "    if P1:\n",
    "        # move disc from P1 to P3\n",
    "        P3.append(P1.pop())\n",
    "        print(A, \"\\t\\t\", B, \"\\t\\t\", C)\n",
    "\n",
    "    # move n-1 discs from P2 to P3\n",
    "    hanoi(n-1, P2, P1, P3)"
   ]
  },
  {
   "cell_type": "code",
   "execution_count": 8,
   "id": "4a54020f-0a9b-4a46-9672-4cc7753daf94",
   "metadata": {},
   "outputs": [
    {
     "name": "stdout",
     "output_type": "stream",
     "text": [
      "[4, 3, 2, 1] \t\t [] \t\t []\n"
     ]
    }
   ],
   "source": [
    "# Initialize the poles: all n discs are on pole A.\n",
    "n = 4\n",
    "A = list(range(n,0,-1))\n",
    "B, C = [], []\n",
    "print(A, \"\\t\\t\",B,\"\\t\\t\", C)"
   ]
  },
  {
   "cell_type": "code",
   "execution_count": 9,
   "id": "a9815676-4371-4934-9f43-bf347499451b",
   "metadata": {},
   "outputs": [
    {
     "name": "stdout",
     "output_type": "stream",
     "text": [
      "[4, 3, 2] \t\t [1] \t\t []\n",
      "[4, 3] \t\t [1] \t\t [2]\n",
      "[4, 3] \t\t [] \t\t [2, 1]\n",
      "[4] \t\t [3] \t\t [2, 1]\n",
      "[4, 1] \t\t [3] \t\t [2]\n",
      "[4, 1] \t\t [3, 2] \t\t []\n",
      "[4] \t\t [3, 2, 1] \t\t []\n",
      "[] \t\t [3, 2, 1] \t\t [4]\n",
      "[] \t\t [3, 2] \t\t [4, 1]\n",
      "[2] \t\t [3] \t\t [4, 1]\n",
      "[2, 1] \t\t [3] \t\t [4]\n",
      "[2, 1] \t\t [] \t\t [4, 3]\n",
      "[2] \t\t [1] \t\t [4, 3]\n",
      "[] \t\t [1] \t\t [4, 3, 2]\n",
      "[] \t\t [] \t\t [4, 3, 2, 1]\n",
      "15\n"
     ]
    }
   ],
   "source": [
    "count = 0\n",
    "hanoi(n, A, B, C)\n",
    "print(count)"
   ]
  },
  {
   "cell_type": "markdown",
   "id": "7704a9e9-9642-4bfa-af01-68f99b364b88",
   "metadata": {},
   "source": [
    "Here's the visualization for 3-disc Towers of Hanoi solution. Please compare with the output of the code.\n",
    "\n",
    "![Hanoi 3disc](https://www.python-course.eu/images/towers_of_hanoi_3_disks.jpg)\n",
    "\n",
    "*[image source](https://www.python-course.eu/towers_of_hanoi.php)*"
   ]
  },
  {
   "cell_type": "markdown",
   "id": "63632cc8-2f58-4ce4-a719-6965641ac34f",
   "metadata": {},
   "source": [
    "### Resource 2\n",
    "\n",
    "[Python Course website](https://www.python-course.eu/towers_of_hanoi.php)"
   ]
  },
  {
   "cell_type": "code",
   "execution_count": 10,
   "id": "44fbf9c9-53da-40fb-893d-f9e6d168c06a",
   "metadata": {},
   "outputs": [],
   "source": [
    "def hanoi2(n, source, helper, target):\n",
    "    global count2\n",
    "    if n > 0:\n",
    "        count2 += 1\n",
    "        # move tower of size n - 1 to helper:\n",
    "        hanoi2(n - 1, source, target, helper)\n",
    "        # move disk from source peg to target peg\n",
    "        if source:\n",
    "            target.append(source.pop())\n",
    "            #print(source, helper, target)\n",
    "        # move tower of size n-1 from helper to target\n",
    "        hanoi2(n - 1, helper, source, target)"
   ]
  },
  {
   "cell_type": "code",
   "execution_count": 11,
   "id": "86b6f3a6-8dac-462d-8653-7a4c046f437e",
   "metadata": {},
   "outputs": [
    {
     "name": "stdout",
     "output_type": "stream",
     "text": [
      "[3, 2, 1] [] []\n",
      "[] [] [3, 2, 1]\n",
      "7\n"
     ]
    }
   ],
   "source": [
    "source = [3,2,1]\n",
    "target = []\n",
    "helper = []\n",
    "\n",
    "print(source, helper, target)\n",
    "count2=0\n",
    "hanoi2(len(source),source,helper,target)\n",
    "print(source, helper, target)\n",
    "print(count2)"
   ]
  },
  {
   "cell_type": "markdown",
   "id": "3505daa8-12ad-462e-908e-f2618d8f027e",
   "metadata": {},
   "source": [
    "## Bonus : Memoized Fibonacci\n",
    "\n",
    "Last week we mentioned that recursive Fibonacci calculation is redundant, because smaller Fibonacci numbers are calculated for each branch. And then we mentioned that memoization can make the calculation faster.\n",
    "\n",
    "The main concept here is; if a Fibonacci number is calculated, then keep it in dictionary and use dictionary to extract results for already calculated Fibonacci numbers to avoid recursive branching unnecessarily."
   ]
  },
  {
   "cell_type": "code",
   "execution_count": 12,
   "id": "2fcaff33-5e9e-45e6-b9d9-8b207f2bfb80",
   "metadata": {},
   "outputs": [],
   "source": [
    "#https://stackoverflow.com/q/35026477/4579196\n",
    "memo = {}\n",
    "def Fib(n):\n",
    "    if (n < 2):\n",
    "        return 1\n",
    "    if not n in memo:\n",
    "        memo[n] = Fib(n-1) + Fib(n-2)\n",
    "    return memo[n]"
   ]
  },
  {
   "cell_type": "code",
   "execution_count": 13,
   "id": "dcdd2c6c-4a12-42b1-97a1-56b1fb6ad28f",
   "metadata": {},
   "outputs": [
    {
     "data": {
      "text/plain": [
       "573147844013817084101"
      ]
     },
     "execution_count": 13,
     "metadata": {},
     "output_type": "execute_result"
    }
   ],
   "source": [
    "Fib(100)"
   ]
  },
  {
   "cell_type": "markdown",
   "id": "fb1c2762-f1fd-473d-821a-ae6522967fb6",
   "metadata": {},
   "source": [
    "`memo` is a dictionary."
   ]
  },
  {
   "cell_type": "code",
   "execution_count": 14,
   "id": "60f1b53d-6020-4a22-b502-ccc9f869b45b",
   "metadata": {},
   "outputs": [
    {
     "data": {
      "text/plain": [
       "dict"
      ]
     },
     "execution_count": 14,
     "metadata": {},
     "output_type": "execute_result"
    }
   ],
   "source": [
    "type(memo)"
   ]
  },
  {
   "cell_type": "markdown",
   "id": "b4c859c9-6ca9-469c-a636-152cf8faadff",
   "metadata": {},
   "source": [
    "and contains `n` as key and `Fib(n)` as value.For example, 10th Fibonacci number is `Fib(10)`, which is 89. Let's the whole contens of the `memo` dictionary."
   ]
  },
  {
   "cell_type": "code",
   "execution_count": 15,
   "id": "be8a92f8-0030-4106-833c-fb7bfcaf07b9",
   "metadata": {},
   "outputs": [
    {
     "name": "stdout",
     "output_type": "stream",
     "text": [
      "{2: 2, 3: 3, 4: 5, 5: 8, 6: 13, 7: 21, 8: 34, 9: 55, 10: 89, 11: 144, 12: 233, 13: 377, 14: 610, 15: 987, 16: 1597, 17: 2584, 18: 4181, 19: 6765, 20: 10946, 21: 17711, 22: 28657, 23: 46368, 24: 75025, 25: 121393, 26: 196418, 27: 317811, 28: 514229, 29: 832040, 30: 1346269, 31: 2178309, 32: 3524578, 33: 5702887, 34: 9227465, 35: 14930352, 36: 24157817, 37: 39088169, 38: 63245986, 39: 102334155, 40: 165580141, 41: 267914296, 42: 433494437, 43: 701408733, 44: 1134903170, 45: 1836311903, 46: 2971215073, 47: 4807526976, 48: 7778742049, 49: 12586269025, 50: 20365011074, 51: 32951280099, 52: 53316291173, 53: 86267571272, 54: 139583862445, 55: 225851433717, 56: 365435296162, 57: 591286729879, 58: 956722026041, 59: 1548008755920, 60: 2504730781961, 61: 4052739537881, 62: 6557470319842, 63: 10610209857723, 64: 17167680177565, 65: 27777890035288, 66: 44945570212853, 67: 72723460248141, 68: 117669030460994, 69: 190392490709135, 70: 308061521170129, 71: 498454011879264, 72: 806515533049393, 73: 1304969544928657, 74: 2111485077978050, 75: 3416454622906707, 76: 5527939700884757, 77: 8944394323791464, 78: 14472334024676221, 79: 23416728348467685, 80: 37889062373143906, 81: 61305790721611591, 82: 99194853094755497, 83: 160500643816367088, 84: 259695496911122585, 85: 420196140727489673, 86: 679891637638612258, 87: 1100087778366101931, 88: 1779979416004714189, 89: 2880067194370816120, 90: 4660046610375530309, 91: 7540113804746346429, 92: 12200160415121876738, 93: 19740274219868223167, 94: 31940434634990099905, 95: 51680708854858323072, 96: 83621143489848422977, 97: 135301852344706746049, 98: 218922995834555169026, 99: 354224848179261915075, 100: 573147844013817084101}\n"
     ]
    }
   ],
   "source": [
    "print(memo)"
   ]
  }
 ],
 "metadata": {
  "kernelspec": {
   "display_name": "Python 3",
   "language": "python",
   "name": "python3"
  },
  "language_info": {
   "codemirror_mode": {
    "name": "ipython",
    "version": 3
   },
   "file_extension": ".py",
   "mimetype": "text/x-python",
   "name": "python",
   "nbconvert_exporter": "python",
   "pygments_lexer": "ipython3",
   "version": "3.7.10"
  }
 },
 "nbformat": 4,
 "nbformat_minor": 5
}

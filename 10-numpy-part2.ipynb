{
 "cells": [
  {
   "cell_type": "markdown",
   "metadata": {},
   "source": [
    "# NumPy - Part 2\n",
    "\n",
    "NumPy has [long list of functions](https://docs.scipy.org/doc/numpy-1.15.1/genindex.html), difficult to go over all of them. Please refer to its [manual](https://docs.scipy.org/doc/numpy-1.15.1/reference/). You can use tab to see the available functions as well.\n",
    "\n",
    "In this notebook we'll cover more features of NumPy.\n",
    "\n",
    "> Most of the code in this notebook has been taken or adapted from [Bootcamp for Biology notebook](http://nbviewer.jupyter.org/url/atwallab.cshl.edu/teaching/QBbootcamp3.ipynb) prepared by Mickey Atwal, Cold Spring Harbor Laboratory. ([Lab website](http://atwallab.cshl.edu))\n",
    "A gentle introduction to some elements of scientific programming in Python.\n"
   ]
  },
  {
   "cell_type": "markdown",
   "metadata": {},
   "source": [
    "### 1. Loading data"
   ]
  },
  {
   "cell_type": "markdown",
   "metadata": {},
   "source": [
    "We will be working with the text file containing the nucleotide counts of the E. Coli DNA binding sites of the transcription factor CRP (cAMP receptor protein) also known as CAP (catabolite gene activator protein). You can find a copy at http://atwallab.cshl.edu/links/crp_counts_matrix.txt. "
   ]
  },
  {
   "cell_type": "code",
   "execution_count": 1,
   "metadata": {
    "collapsed": false
   },
   "outputs": [],
   "source": [
    "# web URL address of the file \n",
    "# http://atwallab.cshl.edu/links/crp_counts_matrix.txt\n",
    "\n",
    "# name of the file to be saved into\n",
    "filename=\"data/crp_counts_matrix.txt\""
   ]
  },
  {
   "cell_type": "markdown",
   "metadata": {},
   "source": [
    "This is a small tab-delimited text file where the counts data at each of the 42 nucleotide positions is stored as a series of strings. Let's take a look using the Unix command \"head\""
   ]
  },
  {
   "cell_type": "code",
   "execution_count": 2,
   "metadata": {
    "collapsed": false
   },
   "outputs": [
    {
     "name": "stdout",
     "output_type": "stream",
     "text": [
      "109\t61\t57\t115\n",
      "95\t74\t62\t111\n",
      "111\t70\t70\t91\n",
      "89\t68\t83\t102\n",
      "99\t79\t72\t92\n",
      "93\t66\t72\t111\n",
      "83\t79\t77\t103\n",
      "91\t85\t70\t96\n",
      "121\t63\t71\t87\n",
      "143\t38\t57\t104\n"
     ]
    }
   ],
   "source": [
    "!head data/crp_counts_matrix.txt"
   ]
  },
  {
   "cell_type": "markdown",
   "metadata": {},
   "source": [
    "We need to convert this to a numerical array of numbers where we can perform computations.  The [genfromtxt](http://docs.scipy.org/doc/numpy/reference/generated/numpy.genfromtxt.html) function in NumPy automatically generates a NumPy array from a text file"
   ]
  },
  {
   "cell_type": "code",
   "execution_count": 3,
   "metadata": {
    "collapsed": false
   },
   "outputs": [],
   "source": [
    "# loads data from text file and store in an integer NumPy array called 'counts'\n",
    "import numpy as np\n",
    "counts=np.genfromtxt(filename,dtype=int)"
   ]
  },
  {
   "cell_type": "markdown",
   "metadata": {},
   "source": [
    "> There's an alternative function to read txt files: `np.loadtxt()`"
   ]
  },
  {
   "cell_type": "markdown",
   "metadata": {},
   "source": [
    "### 2. Working with numerical arrays"
   ]
  },
  {
   "cell_type": "code",
   "execution_count": 4,
   "metadata": {
    "collapsed": false
   },
   "outputs": [
    {
     "data": {
      "text/plain": [
       "2"
      ]
     },
     "execution_count": 4,
     "metadata": {},
     "output_type": "execute_result"
    }
   ],
   "source": [
    "counts.ndim # what is the dimensionality of the array?"
   ]
  },
  {
   "cell_type": "code",
   "execution_count": 5,
   "metadata": {
    "collapsed": false
   },
   "outputs": [
    {
     "data": {
      "text/plain": [
       "(42, 4)"
      ]
     },
     "execution_count": 5,
     "metadata": {},
     "output_type": "execute_result"
    }
   ],
   "source": [
    "counts.shape # what is the size of the array? (rows, columns)"
   ]
  },
  {
   "cell_type": "code",
   "execution_count": 6,
   "metadata": {
    "collapsed": false
   },
   "outputs": [
    {
     "data": {
      "text/plain": [
       "dtype('int64')"
      ]
     },
     "execution_count": 6,
     "metadata": {},
     "output_type": "execute_result"
    }
   ],
   "source": [
    "counts.dtype # what is the data type of the array?"
   ]
  },
  {
   "cell_type": "markdown",
   "metadata": {},
   "source": [
    "#### Array indexing"
   ]
  },
  {
   "cell_type": "markdown",
   "metadata": {},
   "source": [
    "Let's practise some array indexing to remember how they work in Python"
   ]
  },
  {
   "cell_type": "code",
   "execution_count": 7,
   "metadata": {
    "collapsed": false
   },
   "outputs": [
    {
     "data": {
      "text/plain": [
       "array([[109,  61,  57, 115],\n",
       "       [ 95,  74,  62, 111],\n",
       "       [111,  70,  70,  91],\n",
       "       [ 89,  68,  83, 102],\n",
       "       [ 99,  79,  72,  92]])"
      ]
     },
     "execution_count": 7,
     "metadata": {},
     "output_type": "execute_result"
    }
   ],
   "source": [
    "# let's have a look at the first five rows\n",
    "counts[:5]"
   ]
  },
  {
   "cell_type": "code",
   "execution_count": 8,
   "metadata": {
    "collapsed": false
   },
   "outputs": [
    {
     "data": {
      "text/plain": [
       "array([109,  61,  57, 115])"
      ]
     },
     "execution_count": 8,
     "metadata": {},
     "output_type": "execute_result"
    }
   ],
   "source": [
    "# the first row\n",
    "counts[0]"
   ]
  },
  {
   "cell_type": "code",
   "execution_count": 9,
   "metadata": {
    "collapsed": false
   },
   "outputs": [
    {
     "data": {
      "text/plain": [
       "array([[ 95,  74,  62, 111],\n",
       "       [111,  70,  70,  91]])"
      ]
     },
     "execution_count": 9,
     "metadata": {},
     "output_type": "execute_result"
    }
   ],
   "source": [
    "# rows 2 to 3, i.e. the second to third rows\n",
    "counts[1:3]"
   ]
  },
  {
   "cell_type": "code",
   "execution_count": 10,
   "metadata": {
    "collapsed": false
   },
   "outputs": [
    {
     "data": {
      "text/plain": [
       "array([ 61,  74,  70,  68,  79,  66,  79,  85,  63,  38,  25,  28,  43,\n",
       "        40,  16,  36,  18,  41,  54, 106,  81,  45,  74,  60,  31, 247,\n",
       "        29, 232,  35,  62,  39,  43,  51,  62,  72,  62,  90,  71,  76,\n",
       "        74,  72,  49])"
      ]
     },
     "execution_count": 10,
     "metadata": {},
     "output_type": "execute_result"
    }
   ],
   "source": [
    "# the second column\n",
    "counts[:,1]"
   ]
  },
  {
   "cell_type": "code",
   "execution_count": 11,
   "metadata": {
    "collapsed": false
   },
   "outputs": [
    {
     "data": {
      "text/plain": [
       "array([[121,  72,  44, 105],\n",
       "       [130,  49,  52, 111]])"
      ]
     },
     "execution_count": 11,
     "metadata": {},
     "output_type": "execute_result"
    }
   ],
   "source": [
    "# the last two rows\n",
    "counts[-2:]"
   ]
  },
  {
   "cell_type": "code",
   "execution_count": 12,
   "metadata": {
    "collapsed": false
   },
   "outputs": [
    {
     "data": {
      "text/plain": [
       "array([[109,  61,  57, 115],\n",
       "       [ 89,  68,  83, 102],\n",
       "       [ 83,  79,  77, 103],\n",
       "       [143,  38,  57, 104],\n",
       "       [127,  43,  46, 126],\n",
       "       [ 30,  36,  27, 249],\n",
       "       [ 74,  54,  53, 161],\n",
       "       [131,  45,  88,  78],\n",
       "       [ 32,  31,  30, 249],\n",
       "       [ 60, 232,  16,  34],\n",
       "       [116,  39,  20, 167],\n",
       "       [100,  62,  58, 122],\n",
       "       [108,  90,  65,  79],\n",
       "       [102,  74,  66, 100]])"
      ]
     },
     "execution_count": 12,
     "metadata": {},
     "output_type": "execute_result"
    }
   ],
   "source": [
    "# every third row beginning with the first\n",
    "counts[::3]"
   ]
  },
  {
   "cell_type": "code",
   "execution_count": 13,
   "metadata": {
    "collapsed": false
   },
   "outputs": [
    {
     "data": {
      "text/plain": [
       "array([[ 70,  70,  91],\n",
       "       [ 68,  83, 102]])"
      ]
     },
     "execution_count": 13,
     "metadata": {},
     "output_type": "execute_result"
    }
   ],
   "source": [
    "# rows 3 to 4, and columns 2 to 4 \n",
    "counts[2:4,1:4]"
   ]
  },
  {
   "cell_type": "markdown",
   "metadata": {},
   "source": [
    "Here's a summary of indexing and slicing.\n",
    "\n",
    "![](http://www.scipy-lectures.org/_images/numpy_indexing.png)"
   ]
  },
  {
   "cell_type": "markdown",
   "metadata": {},
   "source": [
    "#### Reshaping"
   ]
  },
  {
   "cell_type": "code",
   "execution_count": 14,
   "metadata": {},
   "outputs": [
    {
     "data": {
      "text/plain": [
       "array([[109,  61,  57, 115,  95,  74,  62, 111],\n",
       "       [111,  70,  70,  91,  89,  68,  83, 102],\n",
       "       [ 99,  79,  72,  92,  93,  66,  72, 111],\n",
       "       [ 83,  79,  77, 103,  91,  85,  70,  96],\n",
       "       [121,  63,  71,  87, 143,  38,  57, 104],\n",
       "       [162,  25,  38, 117, 155,  28,  43, 116],\n",
       "       [127,  43,  46, 126,  40,  40,  29, 233],\n",
       "       [ 32,  16, 240,  54,  30,  36,  27, 249],\n",
       "       [ 29,  18, 254,  41, 227,  41,  46,  28],\n",
       "       [ 74,  54,  53, 161,  68, 106,  77,  91],\n",
       "       [ 70,  81,  55, 136, 131,  45,  88,  78],\n",
       "       [ 77,  74, 100,  91, 134,  60,  59,  89],\n",
       "       [ 32,  31,  30, 249,  46, 247,  14,  35],\n",
       "       [238,  29,  41,  34,  60, 232,  16,  34],\n",
       "       [217,  35,  45,  45,  94,  62,  49, 137],\n",
       "       [116,  39,  20, 167, 113,  43,  24, 162],\n",
       "       [ 89,  51,  38, 164, 100,  62,  58, 122],\n",
       "       [110,  72,  67,  93, 105,  62,  76,  99],\n",
       "       [108,  90,  65,  79, 110,  71,  72,  89],\n",
       "       [ 93,  76,  65, 108, 102,  74,  66, 100],\n",
       "       [121,  72,  44, 105, 130,  49,  52, 111]])"
      ]
     },
     "execution_count": 14,
     "metadata": {},
     "output_type": "execute_result"
    }
   ],
   "source": [
    "counts.reshape(21,8)"
   ]
  },
  {
   "cell_type": "code",
   "execution_count": 15,
   "metadata": {},
   "outputs": [
    {
     "data": {
      "text/plain": [
       "array([[[109,  61,  57, 115,  95,  74,  62, 111, 111,  70,  70,  91,\n",
       "          89,  68,  83, 102,  99,  79,  72,  92,  93],\n",
       "        [ 66,  72, 111,  83,  79,  77, 103,  91,  85,  70,  96, 121,\n",
       "          63,  71,  87, 143,  38,  57, 104, 162,  25]],\n",
       "\n",
       "       [[ 38, 117, 155,  28,  43, 116, 127,  43,  46, 126,  40,  40,\n",
       "          29, 233,  32,  16, 240,  54,  30,  36,  27],\n",
       "        [249,  29,  18, 254,  41, 227,  41,  46,  28,  74,  54,  53,\n",
       "         161,  68, 106,  77,  91,  70,  81,  55, 136]],\n",
       "\n",
       "       [[131,  45,  88,  78,  77,  74, 100,  91, 134,  60,  59,  89,\n",
       "          32,  31,  30, 249,  46, 247,  14,  35, 238],\n",
       "        [ 29,  41,  34,  60, 232,  16,  34, 217,  35,  45,  45,  94,\n",
       "          62,  49, 137, 116,  39,  20, 167, 113,  43]],\n",
       "\n",
       "       [[ 24, 162,  89,  51,  38, 164, 100,  62,  58, 122, 110,  72,\n",
       "          67,  93, 105,  62,  76,  99, 108,  90,  65],\n",
       "        [ 79, 110,  71,  72,  89,  93,  76,  65, 108, 102,  74,  66,\n",
       "         100, 121,  72,  44, 105, 130,  49,  52, 111]]])"
      ]
     },
     "execution_count": 15,
     "metadata": {},
     "output_type": "execute_result"
    }
   ],
   "source": [
    "counts.reshape(4,2,21)"
   ]
  },
  {
   "cell_type": "markdown",
   "metadata": {},
   "source": [
    "#### Computations on arrays"
   ]
  },
  {
   "cell_type": "code",
   "execution_count": 16,
   "metadata": {
    "collapsed": false
   },
   "outputs": [
    {
     "data": {
      "text/plain": [
       "(14, 254)"
      ]
     },
     "execution_count": 16,
     "metadata": {},
     "output_type": "execute_result"
    }
   ],
   "source": [
    "# the minimum and maximum element of the array\n",
    "np.min(counts), np.max(counts)"
   ]
  },
  {
   "cell_type": "code",
   "execution_count": 17,
   "metadata": {
    "collapsed": false
   },
   "outputs": [
    {
     "data": {
      "text/plain": [
       "array([233, 240, 249, 254, 227, 249, 247, 238, 232, 217])"
      ]
     },
     "execution_count": 17,
     "metadata": {},
     "output_type": "execute_result"
    }
   ],
   "source": [
    "# select the elements greater than 200\n",
    "counts[counts>200]"
   ]
  },
  {
   "cell_type": "code",
   "execution_count": 18,
   "metadata": {},
   "outputs": [
    {
     "data": {
      "text/plain": [
       "array([[False, False, False, False],\n",
       "       [False, False, False, False],\n",
       "       [False, False, False, False],\n",
       "       [False, False, False, False],\n",
       "       [False, False, False, False],\n",
       "       [False, False, False, False],\n",
       "       [False, False, False, False],\n",
       "       [False, False, False, False],\n",
       "       [False, False, False, False],\n",
       "       [False, False, False, False],\n",
       "       [False, False, False, False],\n",
       "       [False, False, False, False],\n",
       "       [False, False, False, False],\n",
       "       [False, False, False,  True],\n",
       "       [False, False,  True, False],\n",
       "       [False, False, False,  True],\n",
       "       [False, False,  True, False],\n",
       "       [ True, False, False, False],\n",
       "       [False, False, False, False],\n",
       "       [False, False, False, False],\n",
       "       [False, False, False, False],\n",
       "       [False, False, False, False],\n",
       "       [False, False, False, False],\n",
       "       [False, False, False, False],\n",
       "       [False, False, False,  True],\n",
       "       [False,  True, False, False],\n",
       "       [ True, False, False, False],\n",
       "       [False,  True, False, False],\n",
       "       [ True, False, False, False],\n",
       "       [False, False, False, False],\n",
       "       [False, False, False, False],\n",
       "       [False, False, False, False],\n",
       "       [False, False, False, False],\n",
       "       [False, False, False, False],\n",
       "       [False, False, False, False],\n",
       "       [False, False, False, False],\n",
       "       [False, False, False, False],\n",
       "       [False, False, False, False],\n",
       "       [False, False, False, False],\n",
       "       [False, False, False, False],\n",
       "       [False, False, False, False],\n",
       "       [False, False, False, False]])"
      ]
     },
     "execution_count": 18,
     "metadata": {},
     "output_type": "execute_result"
    }
   ],
   "source": [
    "counts >200"
   ]
  },
  {
   "cell_type": "code",
   "execution_count": 19,
   "metadata": {
    "collapsed": false
   },
   "outputs": [
    {
     "data": {
      "text/plain": [
       "(array([13, 14, 15, 16, 17, 24, 25, 26, 27, 28]),\n",
       " array([3, 2, 3, 2, 0, 3, 1, 0, 1, 0]))"
      ]
     },
     "execution_count": 19,
     "metadata": {},
     "output_type": "execute_result"
    }
   ],
   "source": [
    "# what are the indices of the elements greater than 200? \n",
    "# The Numpy function \"where\" returns the indices in separate arrays of rows and columns.\n",
    "np.where(counts>200)"
   ]
  },
  {
   "cell_type": "code",
   "execution_count": 20,
   "metadata": {
    "collapsed": false
   },
   "outputs": [
    {
     "data": {
      "text/plain": [
       "array([240, 249, 249])"
      ]
     },
     "execution_count": 20,
     "metadata": {},
     "output_type": "execute_result"
    }
   ],
   "source": [
    "# select elements that are greater than 200 and also divisible by 3, i.e. counts mod 3 = 0\n",
    "counts[(counts>200) & (counts%3==0)]"
   ]
  },
  {
   "cell_type": "markdown",
   "metadata": {},
   "source": [
    "Dot Product. Frequently when performing operations on arrays we have to take the dot product of two list of numbers, or two vectors, e.g. $\\vec{x}=\\{x_1,x_2,x_3\\}$ and $\\vec{y}=\\{y_1,y_2,y_3\\}$. The dot product $\\vec{x} \\cdot \\vec{y}$ is defined as\n",
    "$$\n",
    "x \\cdot y = \\sum_{i=1}^{3} x_i y_i\n",
    "$$\n",
    "NumPy provides an efficient way of doing this without explicitly writing a 'for loop'"
   ]
  },
  {
   "cell_type": "code",
   "execution_count": 21,
   "metadata": {
    "collapsed": false
   },
   "outputs": [
    {
     "data": {
      "text/plain": [
       "array([[109,  61,  57, 115],\n",
       "       [ 95,  74,  62, 111],\n",
       "       [111,  70,  70,  91],\n",
       "       [ 89,  68,  83, 102],\n",
       "       [ 99,  79,  72,  92]])"
      ]
     },
     "execution_count": 21,
     "metadata": {},
     "output_type": "execute_result"
    }
   ],
   "source": [
    "# dot product between rows 3 and 4s\n",
    "counts[:5]\n"
   ]
  },
  {
   "cell_type": "code",
   "execution_count": 22,
   "metadata": {},
   "outputs": [
    {
     "data": {
      "text/plain": [
       "29731"
      ]
     },
     "execution_count": 22,
     "metadata": {},
     "output_type": "execute_result"
    }
   ],
   "source": [
    "np.dot(counts[2],counts[3])"
   ]
  },
  {
   "cell_type": "code",
   "execution_count": 23,
   "metadata": {},
   "outputs": [
    {
     "data": {
      "text/plain": [
       "29731"
      ]
     },
     "execution_count": 23,
     "metadata": {},
     "output_type": "execute_result"
    }
   ],
   "source": [
    "111*89+70*68+70*83+91*102"
   ]
  },
  {
   "cell_type": "code",
   "execution_count": 24,
   "metadata": {
    "collapsed": false
   },
   "outputs": [
    {
     "data": {
      "text/plain": [
       "array([4374, 2747, 2688, 4555])"
      ]
     },
     "execution_count": 24,
     "metadata": {},
     "output_type": "execute_result"
    }
   ],
   "source": [
    "# sum each column of the array, i.e. sum along the rows, the dimension indexed as 0\n",
    "np.sum(counts,0) "
   ]
  },
  {
   "cell_type": "code",
   "execution_count": 25,
   "metadata": {
    "collapsed": false
   },
   "outputs": [
    {
     "data": {
      "text/plain": [
       "array([342, 342, 342, 342, 342, 342, 342, 342, 342, 342, 342, 342, 342,\n",
       "       342, 342, 342, 342, 342, 342, 342, 342, 342, 342, 342, 342, 342,\n",
       "       342, 342, 342, 342, 342, 342, 342, 342, 342, 342, 342, 342, 342,\n",
       "       342, 342, 342])"
      ]
     },
     "execution_count": 25,
     "metadata": {},
     "output_type": "execute_result"
    }
   ],
   "source": [
    "# sum each row of the array, i.e. sum along the columns, the dimension indexed as 1\n",
    "np.sum(counts,1) "
   ]
  },
  {
   "cell_type": "code",
   "execution_count": 26,
   "metadata": {
    "collapsed": false
   },
   "outputs": [
    {
     "data": {
      "text/plain": [
       "(array([104.14285714,  65.4047619 ,  64.        , 108.45238095]),\n",
       " array([101. ,  62. ,  57.5, 102.5]),\n",
       " array([47.21106177, 43.99245581, 45.42759807, 50.88933015]))"
      ]
     },
     "execution_count": 26,
     "metadata": {},
     "output_type": "execute_result"
    }
   ],
   "source": [
    "# mean, median and standard deviation of each column\n",
    "np.mean(counts,0), np.median(counts,0), np.std(counts,0) "
   ]
  },
  {
   "cell_type": "markdown",
   "metadata": {},
   "source": [
    "We can add pseudocounts to each element. This is usually a good idea if your count data is undersampled."
   ]
  },
  {
   "cell_type": "code",
   "execution_count": 27,
   "metadata": {
    "collapsed": false
   },
   "outputs": [],
   "source": [
    "# add 1 to EVERY element of the counts matrix to form a new matrix 'new_counts'\n",
    "new_counts=counts+1"
   ]
  },
  {
   "cell_type": "markdown",
   "metadata": {},
   "source": [
    "Let's calculate the probabilities of each nucleotide at each position, e.g. the probability of seeing an A at position i is\n",
    "$$\n",
    "\\begin{array}\n",
    "pp_i(A)&=&\\frac{\\rm{counts}_i(A)}{\\rm{counts}_i(A)+\\rm{counts}_i(T)+\\rm{counts}_i(G)+\\rm{counts}_i(C)} \\\\\n",
    "&=&\\frac{\\rm{counts}_i(A)}{\\rm{total\\_counts}_i}\n",
    "\\end{array}\n",
    "$$\n",
    "The total counts is the same for all positions, so we might just as well use only the first position to evaluate it."
   ]
  },
  {
   "cell_type": "code",
   "execution_count": 28,
   "metadata": {
    "collapsed": false
   },
   "outputs": [
    {
     "name": "stdout",
     "output_type": "stream",
     "text": [
      "[[0.31791908 0.17919075 0.16763006 0.33526012]\n",
      " [0.27745665 0.21676301 0.18208092 0.32369942]\n",
      " [0.32369942 0.20520231 0.20520231 0.26589595]\n",
      " [0.26011561 0.19942197 0.24277457 0.29768786]\n",
      " [0.28901734 0.23121387 0.21098266 0.26878613]\n",
      " [0.2716763  0.19364162 0.21098266 0.32369942]\n",
      " [0.24277457 0.23121387 0.22543353 0.30057803]\n",
      " [0.26589595 0.24855491 0.20520231 0.28034682]\n",
      " [0.35260116 0.1849711  0.20809249 0.25433526]\n",
      " [0.41618497 0.11271676 0.16763006 0.30346821]\n",
      " [0.47109827 0.07514451 0.11271676 0.34104046]\n",
      " [0.45086705 0.08381503 0.12716763 0.33815029]\n",
      " [0.3699422  0.12716763 0.13583815 0.36705202]\n",
      " [0.11849711 0.11849711 0.0867052  0.67630058]\n",
      " [0.09537572 0.04913295 0.69653179 0.15895954]\n",
      " [0.08959538 0.10693642 0.08092486 0.72254335]\n",
      " [0.0867052  0.05491329 0.73699422 0.12138728]\n",
      " [0.65895954 0.12138728 0.13583815 0.08381503]\n",
      " [0.21676301 0.15895954 0.15606936 0.46820809]\n",
      " [0.19942197 0.30924855 0.22543353 0.26589595]\n",
      " [0.20520231 0.23699422 0.16184971 0.39595376]\n",
      " [0.38150289 0.13294798 0.25722543 0.2283237 ]\n",
      " [0.22543353 0.21676301 0.29190751 0.26589595]\n",
      " [0.39017341 0.17630058 0.1734104  0.26011561]\n",
      " [0.09537572 0.09248555 0.08959538 0.72254335]\n",
      " [0.13583815 0.71676301 0.0433526  0.10404624]\n",
      " [0.69075145 0.0867052  0.12138728 0.10115607]\n",
      " [0.17630058 0.6734104  0.04913295 0.10115607]\n",
      " [0.6300578  0.10404624 0.13294798 0.13294798]\n",
      " [0.27456647 0.18208092 0.14450867 0.39884393]\n",
      " [0.33815029 0.11560694 0.06069364 0.48554913]\n",
      " [0.32947977 0.12716763 0.07225434 0.47109827]\n",
      " [0.26011561 0.15028902 0.11271676 0.47687861]\n",
      " [0.29190751 0.18208092 0.17052023 0.35549133]\n",
      " [0.32080925 0.21098266 0.19653179 0.2716763 ]\n",
      " [0.30635838 0.18208092 0.22254335 0.28901734]\n",
      " [0.3150289  0.26300578 0.19075145 0.23121387]\n",
      " [0.32080925 0.20809249 0.21098266 0.26011561]\n",
      " [0.2716763  0.22254335 0.19075145 0.3150289 ]\n",
      " [0.29768786 0.21676301 0.19364162 0.29190751]\n",
      " [0.35260116 0.21098266 0.1300578  0.30635838]\n",
      " [0.37861272 0.14450867 0.15317919 0.32369942]]\n"
     ]
    }
   ],
   "source": [
    "total_counts=sum(new_counts[0])\n",
    "prob=new_counts/total_counts\n",
    "print(prob)"
   ]
  },
  {
   "cell_type": "markdown",
   "metadata": {},
   "source": [
    "It's often a good idea to represent the data graphically to glean what's going on"
   ]
  },
  {
   "cell_type": "code",
   "execution_count": 29,
   "metadata": {
    "collapsed": false
   },
   "outputs": [
    {
     "data": {
      "text/plain": [
       "<Figure size 1500x200 with 2 Axes>"
      ]
     },
     "metadata": {},
     "output_type": "display_data"
    }
   ],
   "source": [
    "import matplotlib.pyplot as plt\n",
    "\n",
    "# set the size of the figure\n",
    "plt.figure(figsize=[15,2])\n",
    "\n",
    "# show the array flipped (transposed) and with no colour interpolation smoothing\n",
    "plt.imshow(prob.T,interpolation='nearest')\n",
    "\n",
    "# set the ticks\n",
    "plt.xticks(range(0,42),range(1,43))\n",
    "plt.yticks(range(4),['A','C','G','T'])\n",
    "\n",
    "# set the colorbar\n",
    "plt.clim([0,1])\n",
    "plt.colorbar(ticks=np.arange(0,1,0.2))\n",
    "\n",
    "# title\n",
    "plt.title('base frequency matrix of CRP binding sites',fontsize=15)\n",
    "\n",
    "# show the figure\n",
    "plt.show()"
   ]
  },
  {
   "cell_type": "code",
   "execution_count": 30,
   "metadata": {},
   "outputs": [
    {
     "data": {
      "text/plain": [
       "<matplotlib.image.AxesImage at 0x7fb399283a58>"
      ]
     },
     "execution_count": 30,
     "metadata": {},
     "output_type": "execute_result"
    },
    {
     "data": {
      "image/png": "[encoded data removed]",
      "text/plain": [
       "<Figure size 432x288 with 1 Axes>"
      ]
     },
     "metadata": {},
     "output_type": "display_data"
    }
   ],
   "source": [
    "import matplotlib.pyplot as plt\n",
    "plt.imshow(prob,interpolation='nearest')"
   ]
  },
  {
   "cell_type": "markdown",
   "metadata": {},
   "source": [
    "### 3. Random sampling, correlations and statistical tests"
   ]
  },
  {
   "cell_type": "markdown",
   "metadata": {},
   "source": [
    "#### Gaussian distribution"
   ]
  },
  {
   "cell_type": "markdown",
   "metadata": {},
   "source": [
    "A frequent task in scientific programming is to analyze random samples from a known distribution.  A commonly used distribution is the gaussian (normal distribution)\n",
    "\n",
    "$$\n",
    "p(x)=\\frac{1}{\\sqrt{2 \\pi \\sigma^2}} \\exp \\left( -\\frac{(x-\\mu)^2}{2 \\sigma^2} \\right)\n",
    "$$\n",
    "\n",
    "where $\\sigma$ is the standard deviation and $\\mu$ is the mean"
   ]
  },
  {
   "cell_type": "code",
   "execution_count": 31,
   "metadata": {
    "collapsed": false
   },
   "outputs": [],
   "source": [
    "# number of samples\n",
    "N_gauss = 5000\n",
    "\n",
    "# standard deviations\n",
    "s = 2\n",
    "\n",
    "# mean\n",
    "u = 5\n",
    "\n",
    "# draw random samples from gaussian distribution\n",
    "samples=np.random.normal(u,s,N_gauss)"
   ]
  },
  {
   "cell_type": "code",
   "execution_count": 32,
   "metadata": {
    "collapsed": false
   },
   "outputs": [
    {
     "data": {
      "text/plain": [
       "array([6.12770651, 1.66587179, 5.42853509, ..., 7.49799642, 5.84738046,\n",
       "       3.25206699])"
      ]
     },
     "execution_count": 32,
     "metadata": {},
     "output_type": "execute_result"
    }
   ],
   "source": [
    "samples"
   ]
  },
  {
   "cell_type": "markdown",
   "metadata": {},
   "source": [
    "We can plot the data in two different ways:"
   ]
  },
  {
   "cell_type": "code",
   "execution_count": 33,
   "metadata": {
    "collapsed": false
   },
   "outputs": [
    {
     "data": {
      "image/png": "[encoded data removed]",
      "text/plain": [
       "<Figure size 864x360 with 2 Axes>"
      ]
     },
     "metadata": {},
     "output_type": "display_data"
    }
   ],
   "source": [
    "plt.figure(figsize=(12,5))\n",
    "\n",
    "# plot histogram\n",
    "plt.subplot(1,2,1)\n",
    "plt.hist(samples,bins=20)\n",
    "plt.title('histogram')\n",
    "\n",
    "# plot boxplot\n",
    "plt.subplot(1,2,2)\n",
    "# the default is to produce a vertical boxplot. Setting vert=False gives a horizontal plot\n",
    "plt.boxplot(samples,vert=False) \n",
    "plt.title('boxplot')\n",
    "\n",
    "plt.show()"
   ]
  },
  {
   "cell_type": "markdown",
   "metadata": {},
   "source": [
    "### Curve Fitting"
   ]
  },
  {
   "cell_type": "markdown",
   "metadata": {},
   "source": [
    "A frequent task in science is to fit a curve to data, and guess the underyling generative model. Let's make up some fake noisy data of the form $y=x^3 + \\eta$, where $\\eta$ is noise drawn from a gaussian (normal) distribution."
   ]
  },
  {
   "cell_type": "code",
   "execution_count": 34,
   "metadata": {
    "collapsed": false
   },
   "outputs": [],
   "source": [
    "# number of data points\n",
    "N=20\n",
    "\n",
    "# N equalled spaced x values, from -20 to 20\n",
    "x=np.linspace(-20,20,N)\n",
    "\n",
    "# noise term: N samples from a gaussian distribution with mean 0 and standard deviation 1000\n",
    "noise=np.random.normal(0,1000,N)\n",
    "\n",
    "# y values\n",
    "y=x**3+noise"
   ]
  },
  {
   "cell_type": "markdown",
   "metadata": {},
   "source": [
    "Let's plot our fake noisy data."
   ]
  },
  {
   "cell_type": "code",
   "execution_count": 35,
   "metadata": {
    "collapsed": false
   },
   "outputs": [
    {
     "data": {
      "image/png": "[encoded data removed]",
      "text/plain": [
       "<Figure size 432x288 with 1 Axes>"
      ]
     },
     "metadata": {},
     "output_type": "display_data"
    }
   ],
   "source": [
    "plt.plot(x,y,'ro') # 'r' indicates red, 'o' indicates a small circle\n",
    "plt.title('noisy data')\n",
    "plt.xlabel('x')\n",
    "plt.ylabel('y')\n",
    "plt.show()"
   ]
  },
  {
   "cell_type": "markdown",
   "metadata": {},
   "source": [
    "Now we will try to fit polynomials of various orders using the Numpy \"polyfit\" function."
   ]
  },
  {
   "cell_type": "code",
   "execution_count": 36,
   "metadata": {
    "collapsed": false
   },
   "outputs": [
    {
     "name": "stdout",
     "output_type": "stream",
     "text": [
      "linear fit: y_1=(264.57)x+(-15.58)\n",
      "3rd order fit: y_3=(1.04)x^3 + (0.44)x^2 + (-9.32)x + (-80.63)\n"
     ]
    }
   ],
   "source": [
    "# straight line fit. The \"fit1\" array consists of the coefficients of the best linear fit\n",
    "fit1=np.polyfit(x,y,1)\n",
    "\n",
    "# 3rd order polynomial fit\n",
    "fit3=np.polyfit(x,y,3)\n",
    "\n",
    "# 19th order polynomial fit\n",
    "fit19=np.polyfit(x,y,19)\n",
    "\n",
    "# create functions from the fits\n",
    "y_1=np.poly1d(fit1)\n",
    "y_3=np.poly1d(fit3)\n",
    "y_19=np.poly1d(fit19)\n",
    "\n",
    "print('linear fit: y_1=(%.2f)x+(%.2f)' % (fit1[0],fit1[1]))\n",
    "print('3rd order fit: y_3=(%.2f)x^3 + (%.2f)x^2 + (%.2f)x + (%.2f)' % (fit3[0],fit3[1],fit3[2],fit3[3]))"
   ]
  },
  {
   "cell_type": "code",
   "execution_count": 37,
   "metadata": {
    "collapsed": false
   },
   "outputs": [
    {
     "data": {
      "image/png": "[encoded data removed]",
      "text/plain": [
       "<Figure size 432x288 with 1 Axes>"
      ]
     },
     "metadata": {},
     "output_type": "display_data"
    }
   ],
   "source": [
    "plt.plot(x,y,'ro')\n",
    "plt.plot(x,y_1(x))\n",
    "plt.plot(x,y_3(x))\n",
    "plt.plot(x,y_19(x))\n",
    "\n",
    "# add a legend to the right of the plot\n",
    "legend_text=('data','linear fit: $y=mx+c$ ','3rd order polynomial','19th order polynomial')\n",
    "plt.legend(legend_text, loc='center left', bbox_to_anchor=(1,0.5))\n",
    "\n",
    "plt.show()"
   ]
  },
  {
   "cell_type": "markdown",
   "metadata": {},
   "source": [
    "The high order (19th) fit clearly tracks the data better. However, the 19th order polynomial in fact overfits the data since it will perform poorly on new data sampled from the original noisy curve."
   ]
  }
 ],
 "metadata": {
  "kernelspec": {
   "display_name": "Python 3",
   "language": "python",
   "name": "python3"
  },
  "language_info": {
   "codemirror_mode": {
    "name": "ipython",
    "version": 3
   },
   "file_extension": ".py",
   "mimetype": "text/x-python",
   "name": "python",
   "nbconvert_exporter": "python",
   "pygments_lexer": "ipython3",
   "version": "3.6.5"
  }
 },
 "nbformat": 4,
 "nbformat_minor": 2
}

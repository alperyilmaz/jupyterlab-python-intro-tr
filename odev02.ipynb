{
 "cells": [
  {
   "cell_type": "markdown",
   "metadata": {},
   "source": [
    "# Odev 02\n",
    "\n",
    "## Soru 1 - sadece liste kullanarak kelime sayımı\n"
   ]
  },
  {
   "cell_type": "markdown",
   "metadata": {},
   "source": [
    "Aşağıdaki cümleyi kelime sayımı için kullanalım:"
   ]
  },
  {
   "cell_type": "code",
   "execution_count": 1,
   "metadata": {},
   "outputs": [],
   "source": [
    "sentence=\"I should feel happy because I saw the others were happy and because \\\n",
    "          I knew I should feel happy, but I was not really happy\""
   ]
  },
  {
   "cell_type": "markdown",
   "metadata": {},
   "source": [
    "En sonda oluşan sözlük şu şekilde görünmektedir:\n",
    "\n",
    "`{'i': 5, 'should': 2, 'feel': 2, 'happy': 4, 'because': 2, 'saw': 1, 'the': 1, 'others': 1, 'were': 1, 'and': 1, 'knew': 1, 'but': 1, 'was': 1, 'not': 1, 'really': 1}`\n",
    "\n",
    "Aynı cümleyi kullanarak, **sözlük yapısını kullanmadan**, sadece liste yapısını kullarak kelime sayımı yapınız. Sadece iki liste kullanınız. Sonuç çıktısı şu şekilde olabilir:\n",
    "\n",
    "```\n",
    "i 5\n",
    "should 2\n",
    "feel 2\n",
    "...\n",
    "```"
   ]
  },
  {
   "cell_type": "code",
   "execution_count": 2,
   "metadata": {},
   "outputs": [],
   "source": [
    "# Çözümünüzü buraya yazınız:\n",
    "\n",
    "\n",
    "\n",
    "\n"
   ]
  },
  {
   "cell_type": "markdown",
   "metadata": {},
   "source": [
    "## Soru 2 - en çok ve hiç\n",
    "\n",
    "Aşağıdaki paragraf bir romandan alınmıştır."
   ]
  },
  {
   "cell_type": "code",
   "execution_count": 3,
   "metadata": {},
   "outputs": [],
   "source": [
    "two_paragraphs = \"If Youth, throughout all history, had had a champion to stand up for it; \\\n",
    "                  to show a doubting world that a child can think; and, possibly, do it practically; \\\n",
    "                  you wouldn't constantly run across folks today who claim that a child don't know \\\n",
    "                  anything. A child's brain starts functioning at birth; and has, amongst its many \\\n",
    "                  infant convolutions, thousands of dormant atoms, into which God has put a mystic \\\n",
    "                  possibility for noticing an adult's act, and figuring out its purport.\\\n",
    "                  Up to about its primary school days a child thinks, naturally, only of play. But \\\n",
    "                  many a form of play contains disciplinary factors. -You can't do this,- or -that \\\n",
    "                  puts you out,- shows a child that it must think, practically, or fail. Now, if, \\\n",
    "                  throughout childhood, a brain has no opposition, it is plain that it will attain \\\n",
    "                  a position of -status quo,- as with our ordinary animals. Man knows not why a cow, \\\n",
    "                  dog or lion was not born with a brain on a par with ours; why such animals cannot \\\n",
    "                  add, subtract, or obtain from books and schooling, that paramount position which \\\n",
    "                  Man holds today.\""
   ]
  },
  {
   "cell_type": "markdown",
   "metadata": {},
   "source": [
    "### Bölüm 2-A.\n",
    "\n",
    "Yazıların aslında bir karakter listesi olduğunu bildiğimizden, en çok görünen **harfi** bulunuz."
   ]
  },
  {
   "cell_type": "code",
   "execution_count": 4,
   "metadata": {},
   "outputs": [],
   "source": [
    "# Çözümünüzü buraya yazınız:\n",
    "\n",
    "\n",
    "\n",
    "\n",
    "\n"
   ]
  },
  {
   "cell_type": "markdown",
   "metadata": {},
   "source": [
    "### Bölüm 2-B.\n",
    "\n",
    "Kaynak olarak kullandığımız yazıda eksik harfler bulunmaktadır. **küçük harfleri** toplayarak aşağıdaki referans liste ile karşılaştırınız. (**ipucu**: [`set` farkı](https://www.geeksforgeeks.org/python-set-difference/) yaklaşımı oldukça pratik şekilde sonuç verecektir)"
   ]
  },
  {
   "cell_type": "code",
   "execution_count": 5,
   "metadata": {},
   "outputs": [],
   "source": [
    "reference_chars = list(map(chr, range(97, 123)))"
   ]
  },
  {
   "cell_type": "code",
   "execution_count": 6,
   "metadata": {},
   "outputs": [],
   "source": [
    "# Çözümünüzü buraya yazınız:\n",
    "\n",
    "\n",
    "\n",
    "\n"
   ]
  }
 ],
 "metadata": {
  "kernelspec": {
   "display_name": "Python 3",
   "language": "python",
   "name": "python3"
  },
  "language_info": {
   "codemirror_mode": {
    "name": "ipython",
    "version": 3
   },
   "file_extension": ".py",
   "mimetype": "text/x-python",
   "name": "python",
   "nbconvert_exporter": "python",
   "pygments_lexer": "ipython3",
   "version": "3.7.3"
  }
 },
 "nbformat": 4,
 "nbformat_minor": 4
}

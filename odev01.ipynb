{
 "cells": [
  {
   "cell_type": "markdown",
   "metadata": {},
   "source": [
    "# Ödev 1\n",
    "\n",
    "> **Not**: Kopya çeken öğrencilerden dolayı, bu ödev not verilen bir ödev değildir. İsteyen öğrenciler yapabilir. Ödevi yapmanız dersi anlamanız ve sınavda iyi not almanız için size yardımcı olacaktır."
   ]
  },
  {
   "cell_type": "markdown",
   "metadata": {},
   "source": [
    "## Bölüm 1.A\n",
    "\n",
    "`03-prime-count-debug-bench.ipynb`  dersindeki `is_prime_v4()` isimli fonksiyon düzeltelim.\n",
    "\n",
    "Sonra da testler yapalım. \"is_prime_v4(0)\", \"is_prime_v4(4)\" gibi fonkisyonların \"Yanlış/False\" sonuç vermesi gerekiyor.\n",
    "\n",
    "Ayrıca, belli bir sayıya kadar, ör 1 milyon, asal sayıların sayısı da hesaplanabilir.\n"
   ]
  },
  {
   "cell_type": "markdown",
   "metadata": {},
   "source": [
    "## Bölüm 1.B\n",
    "\n",
    "İnternetteki herhangi bir kaynaktan `is_prime()` şeklinde bir kod örneği bulunup buraya taşınsın.\n",
    "\n",
    "Sonra, yine gerekli testler yapılsın.\n",
    "\n",
    "Son olarak, `%timeit` ile kendi fonkiyonumuz `is_prime_v4()` ile internetten bulduğumuz kodun hızını karşılaştıralım. Asal sayı olarak 9973 kullanalım."
   ]
  },
  {
   "cell_type": "markdown",
   "metadata": {},
   "source": [
    "## Bölüm 2\n",
    "\n",
    "1 milyona kadar olan [İkiz asal sayılar](https://en.wikipedia.org/wiki/Twin_prime)ı sayın.\n",
    "\n",
    "İkiz sayılara örnek:\n",
    "\n",
    "* (3,5)\n",
    "* (5,7)\n",
    "* (11,13)\n",
    "\n",
    "**Not**: Asal sayıları **değil** çiftleri saymamız gerekiyor."
   ]
  },
  {
   "cell_type": "markdown",
   "metadata": {},
   "source": [
    "# Ödevi tamamladıktan sonra\n",
    "\n",
    "* Notebook dosyasını öğrenci numaranız ile kaydedin. **Not**: `.ipynb` uzantısını kaldırmayın.\n",
    "* html olarak dışa aktarın.\n",
    "* \"0560000.html\" dosyasını alyilmaz@yildiz.edu.tr adresine \"Ödev1\" başlığı ile gönderin.\n"
   ]
  }
 ],
 "metadata": {
  "kernelspec": {
   "display_name": "Python 3",
   "language": "python",
   "name": "python3"
  },
  "language_info": {
   "codemirror_mode": {
    "name": "ipython",
    "version": 3
   },
   "file_extension": ".py",
   "mimetype": "text/x-python",
   "name": "python",
   "nbconvert_exporter": "python",
   "pygments_lexer": "ipython3",
   "version": "3.7.3"
  }
 },
 "nbformat": 4,
 "nbformat_minor": 4
}

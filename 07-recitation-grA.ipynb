{
 "cells": [
  {
   "cell_type": "markdown",
   "metadata": {},
   "source": [
    "# Recitation 7 - First group"
   ]
  },
  {
   "cell_type": "markdown",
   "metadata": {},
   "source": [
    "## Exercise 1\n",
    "\n",
    "Write a program which will take an input from user and calculate factorial for that number (**recursively**). Please use the template below.\n"
   ]
  },
  {
   "cell_type": "code",
   "execution_count": null,
   "metadata": {},
   "outputs": [],
   "source": [
    "# Answer 1\n",
    "\n",
    "number=input(\"Please enter an integer: \")\n",
    "# your code here\n",
    "\n",
    "def factorial:\n",
    "    # your code here\n",
    "\n",
    "# call the function factorial(number) here"
   ]
  },
  {
   "cell_type": "markdown",
   "metadata": {},
   "source": [
    "## Exercise 2\n",
    "\n",
    "Please read the contents of file \"*data/jane-austen-emma.txt*\" and count frequency of \"**letters**\" using dictionary. (Don't forget to lowercase all letters, don't count `H` and `h` separately)\n",
    "\n",
    "For example, you should return: `{'a': 1000, 'e': 2000, 'z': 30, 'd': 20, ...}` (**note**: numbers are for demo purposes, not accurate)\n"
   ]
  },
  {
   "cell_type": "code",
   "execution_count": null,
   "metadata": {},
   "outputs": [],
   "source": [
    "# Answer 2\n"
   ]
  },
  {
   "cell_type": "markdown",
   "metadata": {},
   "source": [
    "## Exercise 3\n",
    "\n",
    "Write a function, using dictionary, to remove duplicates from an ordered list. For example,\n",
    "\n",
    "```python\n",
    ">>> remove_dupes([1,1,2,3,4,4,4,5,7,8,8,9])\n",
    "[1, 2, 3, 4, 5, 7, 8, 9]\n",
    "```\n",
    "\n",
    "A list with duplications is already defined for you.\n",
    "\n"
   ]
  },
  {
   "cell_type": "code",
   "execution_count": null,
   "metadata": {},
   "outputs": [],
   "source": [
    "# Answer 3\n",
    "\n",
    "duplist =[1,2,6,6,7,9,12,12,12,13,15]\n",
    "\n",
    "# write your function here\n",
    "\n",
    "# call your function here and de-dup the duplist\n"
   ]
  },
  {
   "cell_type": "markdown",
   "metadata": {},
   "source": [
    "## Exercise 4\n",
    "\n",
    "Let's try to comprehend list comprehension. Given the lists:\n",
    "\n",
    "```python\n",
    "a = ['A', 'B', 'C', 'D', 'E', 'F', 'G']\n",
    "b = [4, 2, 6, 1, 5, 0, 3]\n",
    "```\n",
    "\n",
    "Predict and explain the output of the following statements:\n",
    "\n",
    "1. `[a[x] for x in b]`\n",
    "\n",
    "2. `[a[x] for x in sorted(b)]`\n",
    "\n",
    "3. `[a[b[x]] for x in b]`\n",
    "\n",
    "4. `[x for (y,x) in sorted(zip(b,a))]`\n"
   ]
  },
  {
   "cell_type": "code",
   "execution_count": null,
   "metadata": {},
   "outputs": [],
   "source": [
    "# Answer 4\n",
    "\n",
    "# just run and try to understand the list comprehension examples from above"
   ]
  },
  {
   "cell_type": "markdown",
   "metadata": {},
   "source": [
    "## When finished\n",
    "\n",
    "* Export this notebook as HTML by `File -> Export Notebook As... -> HTML` and save it to your computer\n",
    "* Name the **html** file with your student number as in `STUDENTNO.html`, e.g. 1805A000.html\n",
    "* Upload the **html** file to [bit.ly/rmd-upload](http://bitly.com/rmd-upload)\n",
    "* If you see your filename on screen, then you're all set"
   ]
  }
 ],
 "metadata": {
  "kernelspec": {
   "display_name": "Python 3",
   "language": "python",
   "name": "python3"
  },
  "language_info": {
   "codemirror_mode": {
    "name": "ipython",
    "version": 3
   },
   "file_extension": ".py",
   "mimetype": "text/x-python",
   "name": "python",
   "nbconvert_exporter": "python",
   "pygments_lexer": "ipython3",
   "version": "3.6.5"
  }
 },
 "nbformat": 4,
 "nbformat_minor": 2
}

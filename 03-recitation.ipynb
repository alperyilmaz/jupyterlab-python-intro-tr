{
 "cells": [
  {
   "cell_type": "markdown",
   "metadata": {},
   "source": [
    "# Lecture 3 - Recitation\n",
    "\n",
    "\n",
    "* go over pythontutor\n",
    "* fizzbuzz\n",
    "* test if-elif-else\n",
    "* small code, indentation causes big difference\n",
    "* give bad code, let them debug it"
   ]
  },
  {
   "cell_type": "markdown",
   "metadata": {},
   "source": [
    "> **`is_prime()`** function is defined for you already below, please run the cell below once so that the function is available. call/use this function for prime number related questions"
   ]
  },
  {
   "cell_type": "code",
   "execution_count": 1,
   "metadata": {},
   "outputs": [],
   "source": [
    "# DONT CHANGE CODE IN THIS CELL\n",
    "def is_prime(n):\n",
    "    n_half  = n // 2\n",
    "    divisors = range(3, n_half, 2) \n",
    "    output = 0\n",
    "    for divisor in divisors:\n",
    "        result = n % divisor\n",
    "        if result is 0:         \n",
    "            output += 1      \n",
    "        if output > 0:  \n",
    "            return False                  \n",
    "    return output is 0"
   ]
  },
  {
   "cell_type": "code",
   "execution_count": 2,
   "metadata": {},
   "outputs": [
    {
     "data": {
      "text/plain": [
       "True"
      ]
     },
     "execution_count": 2,
     "metadata": {},
     "output_type": "execute_result"
    }
   ],
   "source": [
    "# Let's check if function works properly\n",
    "is_prime(524287)"
   ]
  },
  {
   "cell_type": "markdown",
   "metadata": {},
   "source": [
    "---"
   ]
  },
  {
   "cell_type": "markdown",
   "metadata": {},
   "source": [
    "## Exercise 1\n",
    "\n",
    "[Prime number theorem](https://en.wikipedia.org/wiki/Prime_number_theorem) postulates that number of prime numbers smaller than $N$ is approximated by $\\frac{N}{ln(N)}$ . For 1 million, the estimation is 72,382 prime numbers. Let's check if we can prove it with our `is_prime()` function. **Count** how many prime numbers are found smaller than 1000000. Write your function below:"
   ]
  },
  {
   "cell_type": "code",
   "execution_count": null,
   "metadata": {},
   "outputs": [],
   "source": [
    "# Answer 1"
   ]
  },
  {
   "cell_type": "markdown",
   "metadata": {},
   "source": [
    "## Exercise 2\n",
    "\n",
    "For a given sequence of numbers between 1 and 100, what is the sum of their inverses? The formula is shown below:\n",
    "\n",
    "$\\sum_{n=1}^{100}\\frac{1}{n}=1+\\frac{1}{2}+\\frac{1}{3}+\\frac{1}{4}+...$ \n",
    "\n",
    "Write the code below:"
   ]
  },
  {
   "cell_type": "code",
   "execution_count": null,
   "metadata": {},
   "outputs": [],
   "source": [
    "# Answer2\n",
    "\n",
    "for n in range(1,100):\n",
    "    # your code goes below here\n",
    "    \n",
    "    \n",
    "print(sum)"
   ]
  },
  {
   "cell_type": "markdown",
   "metadata": {},
   "source": [
    "Please put necessary statements in cell to calculate sum."
   ]
  },
  {
   "cell_type": "markdown",
   "metadata": {},
   "source": [
    "## Exercise 3\n",
    "\n",
    "What is the average of odd numbers between 1 and 1000 (both included). "
   ]
  },
  {
   "cell_type": "code",
   "execution_count": null,
   "metadata": {},
   "outputs": [],
   "source": [
    "# initialize count and sum\n",
    "\n",
    "for n in range(1,1000):\n",
    "    # add numbers to sum\n",
    "    # increment count\n",
    "print(sum/count)    "
   ]
  },
  {
   "cell_type": "markdown",
   "metadata": {},
   "source": [
    "## Exercise 4\n",
    "\n",
    "Please read the definition of [Mersenne primes](https://en.wikipedia.org/wiki/Mersenne_prime). Is $2^{31}-1$ a Mersenne prime? Write your code below: (**Note**: Please search and find how to calculate power in Python)"
   ]
  },
  {
   "cell_type": "code",
   "execution_count": null,
   "metadata": {},
   "outputs": [],
   "source": [
    "# Answer 4a"
   ]
  },
  {
   "cell_type": "markdown",
   "metadata": {},
   "source": [
    "How long does it take to prove it?"
   ]
  },
  {
   "cell_type": "code",
   "execution_count": null,
   "metadata": {},
   "outputs": [],
   "source": [
    "# Answer 4b"
   ]
  },
  {
   "cell_type": "markdown",
   "metadata": {},
   "source": [
    "## Exercise 5\n",
    "\n",
    "Let's compare speed of our function with another one. The function below, `is_prime_b()`, is taken and modified from [this](https://stackoverflow.com/a/4114189/4579196) Stackoverflow post.\n",
    "\n",
    "The function is defined below:"
   ]
  },
  {
   "cell_type": "code",
   "execution_count": 3,
   "metadata": {},
   "outputs": [],
   "source": [
    "def is_prime_b(a):\n",
    "    x = True \n",
    "    for i in range(2, a):\n",
    "        if a%i == 0:\n",
    "            x = False\n",
    "            break \n",
    "        if i*i > a:\n",
    "            break\n",
    "    return x"
   ]
  },
  {
   "cell_type": "markdown",
   "metadata": {},
   "source": [
    "Please benchmark both `is_prime()` and `is_prime_b()` functions using 8191 as prime number. Write the code below"
   ]
  },
  {
   "cell_type": "code",
   "execution_count": null,
   "metadata": {},
   "outputs": [],
   "source": [
    "# answer 5a, bencmark for is_prime"
   ]
  },
  {
   "cell_type": "code",
   "execution_count": null,
   "metadata": {},
   "outputs": [],
   "source": [
    "# answer 5b, bencmark for is_prime_b"
   ]
  },
  {
   "cell_type": "markdown",
   "metadata": {},
   "source": [
    "## When finished\n",
    "\n",
    "* Export this notebook as HTML by `File -> Export Notebook As... -> HTML` and save it to your computer\n",
    "* Name the html file with your student number as in `STUDENTNO.html`, e.g. 1805A000.html\n",
    "* Upload the html file to [bit.ly/rmd-upload](http://bitly.com/rmd-upload)\n",
    "* If you see your filename on screen, then you're all set\n"
   ]
  }
 ],
 "metadata": {
  "kernelspec": {
   "display_name": "Python 3",
   "language": "python",
   "name": "python3"
  },
  "language_info": {
   "codemirror_mode": {
    "name": "ipython",
    "version": 3
   },
   "file_extension": ".py",
   "mimetype": "text/x-python",
   "name": "python",
   "nbconvert_exporter": "python",
   "pygments_lexer": "ipython3",
   "version": "3.6.5"
  }
 },
 "nbformat": 4,
 "nbformat_minor": 2
}

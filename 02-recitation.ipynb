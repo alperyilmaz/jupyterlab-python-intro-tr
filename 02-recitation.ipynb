{
 "cells": [
  {
   "cell_type": "markdown",
   "metadata": {},
   "source": [
    "# Week 2 -  Recitation"
   ]
  },
  {
   "cell_type": "markdown",
   "metadata": {},
   "source": [
    "## Variables are changing!\n",
    "\n",
    "During the lecture, we went over the fact that \"variables\" hold data but they are `mutable` (i.e, mutate-able). Please turn on the variable inspector and follow along the cells and observe the changes in variable values. The image below demonstrates how you can turn on variable inspector.\n",
    "\n",
    "> **Note**: Currently variable inspector plugin is not working thus we'll be using the http://pythontutor.com to illustrate how a script proceeds\n",
    "\n",
    "![Variable inspector](images/variable-inspector-demo.gif)"
   ]
  },
  {
   "cell_type": "markdown",
   "metadata": {},
   "source": [
    "Let's assign initial values to `x` , `y` and `name` variables. Then follow along by pressing `Forward` button for each line where content of x or y are updated."
   ]
  },
  {
   "cell_type": "code",
   "execution_count": 5,
   "metadata": {},
   "outputs": [
    {
     "data": {
      "text/html": [
       "<iframe width=\"900\" height=\"450\" frameborder=\"0\" src=\"http://pythontutor.com/iframe-embed.html#\n",
       "code=x%20%3D%202%20%0Ay%20%3D%207%0Aname%20%3D%20%22John%22%0A%0Ax%20%3D%20y%20*%203%0Ay%20%3D\n",
       "%20y%20%2B%201%0Ay%20%2B%3D%201%0A%0Ay%20%3D%20x%20-%2019%0Aname%20%3D%20%22answer%20to%20\n",
       "ultimate%20question%22%0Az%20%3D%20x%20*%20y&codeDivHeight=800&codeDivWidth=350&cumulative=\n",
       "false&curInstr=0&heapPrimitives=nevernest&origin=opt-frontend.js&py=3&rawInputLstJSON=%5B%5D\n",
       "&textReferences=false\"> </iframe>"
      ],
      "text/plain": [
       "<IPython.core.display.HTML object>"
      ]
     },
     "metadata": {},
     "output_type": "display_data"
    }
   ],
   "source": [
    "%%HTML\n",
    "<iframe width=\"900\" height=\"450\" frameborder=\"0\" src=\"http://pythontutor.com/iframe-embed.html#\n",
    "code=x%20%3D%202%20%0Ay%20%3D%207%0Aname%20%3D%20%22John%22%0A%0Ax%20%3D%20y%20*%203%0Ay%20%3D\n",
    "%20y%20%2B%201%0Ay%20%2B%3D%201%0A%0Ay%20%3D%20x%20-%2019%0Aname%20%3D%20%22answer%20to%20\n",
    "ultimate%20question%22%0Az%20%3D%20x%20*%20y&codeDivHeight=800&codeDivWidth=350&cumulative=\n",
    "false&curInstr=0&heapPrimitives=nevernest&origin=opt-frontend.js&py=3&rawInputLstJSON=%5B%5D\n",
    "&textReferences=false\"> </iframe>"
   ]
  },
  {
   "cell_type": "markdown",
   "metadata": {},
   "source": [
    "`y = y + 1` is a very common expression meaning that increment the value in `y` variable by one. This expression can be written as `y += 1`\n",
    "\n",
    "> In other programming languages this expression is written in even shorter form, `y++`, but Python does not support that format."
   ]
  },
  {
   "cell_type": "markdown",
   "metadata": {},
   "source": [
    "## Logical operators\n",
    "\n",
    "During the lecture we went over logical operators `AND`, `OR` and `NOT` which can be used to construct complex statements.\n",
    "\n",
    "For the expressions below, please guess the outcome of the statement."
   ]
  },
  {
   "cell_type": "code",
   "execution_count": null,
   "metadata": {},
   "outputs": [],
   "source": [
    "not((-0.2 > 1.4) and ((0.8 < 3.1) or (0.1 == 0.1)))"
   ]
  },
  {
   "cell_type": "code",
   "execution_count": null,
   "metadata": {},
   "outputs": [],
   "source": [
    "(3 * 4 > 10) and (5 + 5 >= 10) and (4 * 4 > 15) and (5 + 4 < 10)"
   ]
  },
  {
   "cell_type": "markdown",
   "metadata": {},
   "source": [
    "Now, it's your turn, what is the result of the following expressions\n",
    "\n",
    "`(3 * 4 > 10) or (5 + 5 > 10) and (4 * 4 > 15) or (5 + 4 > 10)`\n",
    "\n",
    "`not (1 != 10 or 3 == 4)`\n",
    "\n",
    "`3 == 3 and not (\"testing\" == \"testing\" or \"Python\" == \"Fun\")`"
   ]
  },
  {
   "cell_type": "markdown",
   "metadata": {},
   "source": [
    "### Note about `is` comparison operator\n",
    "\n",
    "During the lecture we mentioned that `is` is identity test and `==` is equality testing. Please observe output of two commands below:"
   ]
  },
  {
   "cell_type": "code",
   "execution_count": null,
   "metadata": {},
   "outputs": [],
   "source": [
    "1 is True"
   ]
  },
  {
   "cell_type": "code",
   "execution_count": null,
   "metadata": {},
   "outputs": [],
   "source": [
    "1 == True"
   ]
  },
  {
   "cell_type": "markdown",
   "metadata": {},
   "source": [
    "## Write a function\n",
    "\n",
    "This is just the second week but let's write a very simple function which will add two numbers. The function will accept two inputs and then **return** a result.\n",
    "\n",
    "The instructor already wrote down the first line for you, please **fill in the next lines**."
   ]
  },
  {
   "cell_type": "code",
   "execution_count": null,
   "metadata": {},
   "outputs": [],
   "source": [
    "def my_first_function(a,b):\n",
    "\n",
    "## end of function"
   ]
  },
  {
   "cell_type": "markdown",
   "metadata": {},
   "source": [
    "Let's run the function and see if it works"
   ]
  },
  {
   "cell_type": "code",
   "execution_count": null,
   "metadata": {},
   "outputs": [],
   "source": [
    "my_first_function(5,8)"
   ]
  },
  {
   "cell_type": "markdown",
   "metadata": {},
   "source": [
    "Did the cell above print 13?"
   ]
  },
  {
   "cell_type": "code",
   "execution_count": null,
   "metadata": {},
   "outputs": [],
   "source": [
    "my_first_function(15,25)"
   ]
  },
  {
   "cell_type": "markdown",
   "metadata": {},
   "source": [
    "Did the cell above print 40?"
   ]
  },
  {
   "cell_type": "code",
   "execution_count": null,
   "metadata": {},
   "outputs": [],
   "source": [
    "my_first_function(50)"
   ]
  },
  {
   "cell_type": "markdown",
   "metadata": {},
   "source": [
    "What is the error message when you run the cell above?"
   ]
  },
  {
   "cell_type": "markdown",
   "metadata": {},
   "source": [
    "### What does actually `return` mean\n",
    "\n",
    "During the lecture, we always mentioned that functions can \"return\" a value. We went over examples where a function can just `print()` a statement or `return` a value within function. Let's see if your first function properly returns a value."
   ]
  },
  {
   "cell_type": "code",
   "execution_count": null,
   "metadata": {},
   "outputs": [],
   "source": [
    "my_sum = my_first_function(13,8)\n",
    "print(2*my_sum)"
   ]
  },
  {
   "cell_type": "markdown",
   "metadata": {},
   "source": [
    "The cell above should print 42. `return` allows collecting output of a function and use it. On the other hand, `print` prints out the result on screen within the function and the result is not accessible by the main program."
   ]
  },
  {
   "cell_type": "markdown",
   "metadata": {},
   "source": [
    "## Use an existing function"
   ]
  },
  {
   "cell_type": "markdown",
   "metadata": {},
   "source": [
    "Let's assume `is_divisible()` function is defined, using this function please calculate;\n",
    "1. 1000001 is divisible by 101 or not\n",
    "2. 9876543 is divisible by 7 or not"
   ]
  },
  {
   "cell_type": "code",
   "execution_count": null,
   "metadata": {},
   "outputs": [],
   "source": [
    "# do not change the contents of this cell, just run it\n",
    "def is_divisible(left, right):\n",
    "    return left % right is 0"
   ]
  },
  {
   "cell_type": "code",
   "execution_count": null,
   "metadata": {},
   "outputs": [],
   "source": [
    "# write your code here\n",
    "\n",
    "# is 1000001 is divisible by 101?\n",
    "\n",
    "# is 9876543 divisible by 7?"
   ]
  }
 ],
 "metadata": {
  "kernelspec": {
   "display_name": "Python 3",
   "language": "python",
   "name": "python3"
  },
  "language_info": {
   "codemirror_mode": {
    "name": "ipython",
    "version": 3
   },
   "file_extension": ".py",
   "mimetype": "text/x-python",
   "name": "python",
   "nbconvert_exporter": "python",
   "pygments_lexer": "ipython3",
   "version": "3.6.5"
  },
  "toc": {
   "base_numbering": 1,
   "nav_menu": {},
   "number_sections": true,
   "sideBar": true,
   "skip_h1_title": false,
   "title_cell": "Table of Contents",
   "title_sidebar": "Contents",
   "toc_cell": false,
   "toc_position": {},
   "toc_section_display": true,
   "toc_window_display": false
  },
  "varInspector": {
   "cols": {
    "lenName": 16,
    "lenType": 16,
    "lenVar": 40
   },
   "kernels_config": {
    "python": {
     "delete_cmd_postfix": "",
     "delete_cmd_prefix": "del ",
     "library": "var_list.py",
     "varRefreshCmd": "print(var_dic_list())"
    },
    "r": {
     "delete_cmd_postfix": ") ",
     "delete_cmd_prefix": "rm(",
     "library": "var_list.r",
     "varRefreshCmd": "cat(var_dic_list()) "
    }
   },
   "position": {
    "height": "173.85px",
    "left": "1019px",
    "right": "20px",
    "top": "120px",
    "width": "350px"
   },
   "types_to_exclude": [
    "module",
    "function",
    "builtin_function_or_method",
    "instance",
    "_Feature"
   ],
   "window_display": false
  }
 },
 "nbformat": 4,
 "nbformat_minor": 2
}

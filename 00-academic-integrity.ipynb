{
 "cells": [
  {
   "cell_type": "markdown",
   "metadata": {},
   "source": [
    "# Lack of personal and academic integrity\n",
    "\n",
    "You might be bored during lecture, or you might be wondering why you are taught computer programming but this **does not** give you any right to cheat during the lecture.\n",
    "\n",
    "The instructor clearly and repeatedly emphasized that you have to practice by writing code from scratch. In case you don't practice at home/dorm, there's good opportunity for you to practice during recitation. But, some of you choose to cheat during practice. \n",
    "\n",
    "Lack of academic (and personal) integrity in some students is a major problem. The instructor has the responsibility to grade students fairly, so a cheating student is a problem concerning whole class. \n",
    "\n",
    "Due to lack of academic and personal ethics, I was not giving homework due to probable cheaters, but I have the responsibility to distinguish hard-working and lazy students.\n",
    "\n",
    "## Questions to think about\n",
    "\n",
    "* If you owned a company, would you employ an engineer who was cheating during his undergraduate years?\n",
    "* If a student is cheating even during recitation, how far can s/he go for exams, homeworks, etc?\n",
    "* Does a student who cheats in his/her exams, homeworks have any right to complain about other people cheating in the society?"
   ]
  },
  {
   "cell_type": "markdown",
   "metadata": {},
   "source": [
    "## Adverse Effects of Academic Cheating on Students\n",
    "\n",
    "> Please read the following. Information below is taken from [this blog post](http://www.assignmentbay.co.uk/7-adverse-effects-of-academic-cheating-on-students)\n",
    "\n",
    "\n",
    "Cheating  isn't a solution to any problem. It takes you nowhere. You can enjoy  timely success by cheating but in the longer run, it has many adverse  effects on your personality.\n",
    "\n",
    "None of us wants to fail in life. All  of us think only about success all the time. This is why we are ready  to do everything it takes to get successful. But, this doesn't justify  the act of cheating. Cheating is a bad thing and should be avoided at  all costs.\n",
    "\n",
    "Children  going to schools or attending colleges often fall prey to the bad habit  of cheating in exams. This isn't a solution to anything. As a student,  you should be upright and get what you deserve.\n",
    "\n",
    "In this article, we have mentioned some of the adverse effects which students face when they cheat their ways into education.\n",
    "\n",
    "**Lose Upright Behavior** \n",
    "\n",
    "The  most important thing which students should learn at their schools is  truth and uprightness. When you cheat at something, exams particularly,  you let go the upright facet of your personality. Resultantly, you try  to cheat in other walks of life too. You tend to lie to your parent and  cheat at sports as well. This makes others lose all the respect they had  for you.\n",
    "\n",
    "**Face Legal Punishments** \n",
    "\n",
    "You could  be facing legal punishments if caught cheating in exams. This could  easily get you expelled from school and ruin your career.\n",
    "\n",
    "**Lose Self-Respect** \n",
    "\n",
    "To  lead a content life, one needs to have the optimum amount of  self-respect. It is important that you respect yourself. When you cheat  you lose self-respect. Once you lose that respect it becomes hard to  regain it.\n",
    "\n",
    "**Don't Learn Anything** \n",
    "\n",
    "The  purpose of going to school and taking exams is to learn something. If you cheat your way through school, then you aren't actually learning  anything. You could pass the exam and get success for the time being but  you wouldn't know a thing if inquired in future. This won't help you  become a good professional.\n",
    "\n",
    "**Cheat Rest of Your Life** \n",
    "\n",
    "Once  you know your ways through easy means, i.e. cheating, you tend to pursue that path for the rest of your life. You don’t look out work your  way to success. This is not preferred in a professional workplace. When  you adopt short routes to success, your success doesn't last very long.\n",
    "\n",
    "**Become Negative** \n",
    "\n",
    "You  are the one individual affected the most from cheating. Your whole personality changes when you cheat in school. Cheating in exams means  you are cheating with yourself. When you cheat, you believe that others  do so too. With time you see everyone with a certain lens of negativity  which destroys your personality and disturbs your social relations.\n",
    "\n",
    "**Don't Respect Rule and Law** \n",
    "\n",
    "By  cheating, you aren't respecting exams, you aren't respecting the teachers, and you aren't respecting your institution as well. You go out  of respect for everyone and everything that's important. Ultimately,  you lose respect for law as well.\n",
    "\n",
    "These along with many others are  the negative aspects which students face when they cheat at school. It  is a duty of teachers and parents alike to ensure that the children try  to avoid cheating and adopt upright means of success."
   ]
  }
 ],
 "metadata": {
  "kernelspec": {
   "display_name": "Python 3",
   "language": "python",
   "name": "python3"
  },
  "language_info": {
   "codemirror_mode": {
    "name": "ipython",
    "version": 3
   },
   "file_extension": ".py",
   "mimetype": "text/x-python",
   "name": "python",
   "nbconvert_exporter": "python",
   "pygments_lexer": "ipython3",
   "version": "3.6.5"
  }
 },
 "nbformat": 4,
 "nbformat_minor": 2
}

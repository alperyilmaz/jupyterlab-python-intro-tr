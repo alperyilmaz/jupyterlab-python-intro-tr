{
 "cells": [
  {
   "cell_type": "markdown",
   "metadata": {},
   "source": [
    "# Hanoi, number guessing and output\n",
    "\n",
    "## Solution to Hanoi\n",
    "\n",
    "The code below is taken from Chapter 2 of the book \"Learning Scientific Programming with Python\" and here's the [link](https://scipython.com/book/chapter-2-the-core-python-language-i/examples/the-tower-of-hanoi/) for the source code.\n",
    "\n",
    "The problem can be solved using the following recursive algorithm. Label the discs $D_i$ with $D_1$ the smallest disc and $D_n$ the largest.\n",
    "\n",
    "* Move discs $D_1$,$D_2$,$\\ldots$,$D_{n−1}$ from A to B;\n",
    "* Move disc $D_n$ from A to C;\n",
    "* Move discs $D_1$,$D_2$,$\\ldots$,$D_{n−1}$ from B to C."
   ]
  },
  {
   "cell_type": "markdown",
   "metadata": {},
   "source": [
    "### Resource 1\n",
    "\n",
    "From the book \"Learning Scientific Programming with Python\""
   ]
  },
  {
   "cell_type": "code",
   "execution_count": 2,
   "metadata": {},
   "outputs": [],
   "source": [
    "def hanoi(n, P1, P2, P3):\n",
    "    \"\"\" Move n discs from pole P1 to pole P3. \"\"\"\n",
    "    if n == 0:\n",
    "        # No more discs to move in this step\n",
    "        return\n",
    "\n",
    "    global count\n",
    "    count += 1\n",
    "\n",
    "    # move n-1 discs from P1 to P2\n",
    "    hanoi(n-1, P1, P3, P2)\n",
    "\n",
    "    if P1:\n",
    "        # move disc from P1 to P3\n",
    "        P3.append(P1.pop())\n",
    "        print(A, \"\\t\\t\", B, \"\\t\\t\", C)\n",
    "\n",
    "    # move n-1 discs from P2 to P3\n",
    "    hanoi(n-1, P2, P1, P3)"
   ]
  },
  {
   "cell_type": "code",
   "execution_count": 3,
   "metadata": {},
   "outputs": [
    {
     "name": "stdout",
     "output_type": "stream",
     "text": [
      "[4, 3, 2, 1] \t\t [] \t\t []\n"
     ]
    }
   ],
   "source": [
    "# Initialize the poles: all n discs are on pole A.\n",
    "n = 4\n",
    "A = list(range(n,0,-1))\n",
    "B, C = [], []\n",
    "print(A, \"\\t\\t\",B,\"\\t\\t\", C)"
   ]
  },
  {
   "cell_type": "code",
   "execution_count": 4,
   "metadata": {},
   "outputs": [
    {
     "name": "stdout",
     "output_type": "stream",
     "text": [
      "[4, 3, 2] \t\t [1] \t\t []\n",
      "[4, 3] \t\t [1] \t\t [2]\n",
      "[4, 3] \t\t [] \t\t [2, 1]\n",
      "[4] \t\t [3] \t\t [2, 1]\n",
      "[4, 1] \t\t [3] \t\t [2]\n",
      "[4, 1] \t\t [3, 2] \t\t []\n",
      "[4] \t\t [3, 2, 1] \t\t []\n",
      "[] \t\t [3, 2, 1] \t\t [4]\n",
      "[] \t\t [3, 2] \t\t [4, 1]\n",
      "[2] \t\t [3] \t\t [4, 1]\n",
      "[2, 1] \t\t [3] \t\t [4]\n",
      "[2, 1] \t\t [] \t\t [4, 3]\n",
      "[2] \t\t [1] \t\t [4, 3]\n",
      "[] \t\t [1] \t\t [4, 3, 2]\n",
      "[] \t\t [] \t\t [4, 3, 2, 1]\n",
      "15\n"
     ]
    }
   ],
   "source": [
    "count = 0\n",
    "hanoi(n, A, B, C)\n",
    "print(count)"
   ]
  },
  {
   "cell_type": "markdown",
   "metadata": {},
   "source": [
    "Here's the visualization for 3-disc Towers of Hanoi solution. Please compare with the output of the code.\n",
    "\n",
    "![Hanoi 3disc](https://www.python-course.eu/images/towers_of_hanoi_3_disks.jpg)\n",
    "\n",
    "*[image source](https://www.python-course.eu/towers_of_hanoi.php)*"
   ]
  },
  {
   "cell_type": "markdown",
   "metadata": {},
   "source": [
    "### Resource 2\n",
    "\n",
    "[Python Course website](https://www.python-course.eu/towers_of_hanoi.php)"
   ]
  },
  {
   "cell_type": "code",
   "execution_count": 5,
   "metadata": {},
   "outputs": [],
   "source": [
    "def hanoi2(n, source, helper, target):\n",
    "    global count2\n",
    "    if n > 0:\n",
    "        count2 += 1\n",
    "        # move tower of size n - 1 to helper:\n",
    "        hanoi2(n - 1, source, target, helper)\n",
    "        # move disk from source peg to target peg\n",
    "        if source:\n",
    "            target.append(source.pop())\n",
    "            #print(source, helper, target)\n",
    "        # move tower of size n-1 from helper to target\n",
    "        hanoi2(n - 1, helper, source, target)"
   ]
  },
  {
   "cell_type": "code",
   "execution_count": 6,
   "metadata": {},
   "outputs": [
    {
     "name": "stdout",
     "output_type": "stream",
     "text": [
      "[3, 2, 1] [] []\n",
      "[] [] [3, 2, 1]\n",
      "7\n"
     ]
    }
   ],
   "source": [
    "source = [3,2,1]\n",
    "target = []\n",
    "helper = []\n",
    "\n",
    "print(source, helper, target)\n",
    "count2=0\n",
    "hanoi2(len(source),source,helper,target)\n",
    "print(source, helper, target)\n",
    "print(count2)"
   ]
  },
  {
   "cell_type": "markdown",
   "metadata": {},
   "source": [
    "## Number guessing game\n",
    "\n",
    "This game illustrates an interesting use of `while` loop. We continuously get input from the user and inform about the result."
   ]
  },
  {
   "cell_type": "code",
   "execution_count": null,
   "metadata": {},
   "outputs": [],
   "source": [
    "import random\n",
    "\n",
    "random_number = random.randrange(1, 10)\n",
    "\n",
    "while True:\n",
    "    guess = int(input(\"What could it be? > \"))  # ask as long as answer is not correct\n",
    "    if guess == random_number:\n",
    "        print(\"CONGRATS YOU GOT IT\")\n",
    "        break\n",
    "    elif guess > random_number:\n",
    "        print(\"TOO HIGH\")\n",
    "    elif guess < random_number:\n",
    "        print(\"TOO LOW\")\n",
    "    else:\n",
    "        print(\"Try something else\")"
   ]
  },
  {
   "cell_type": "code",
   "execution_count": 7,
   "metadata": {},
   "outputs": [
    {
     "name": "stdout",
     "output_type": "stream",
     "text": [
      "6\n"
     ]
    }
   ],
   "source": [
    "import random\n",
    "random_number = random.randrange(1, 10)\n",
    "print(random_number)"
   ]
  },
  {
   "cell_type": "markdown",
   "metadata": {},
   "source": [
    "## Output to files\n",
    "\n",
    "Open file for writing. \n",
    "\n",
    "> Be aware, `w` mode will overwrite existing file!"
   ]
  },
  {
   "cell_type": "code",
   "execution_count": 8,
   "metadata": {},
   "outputs": [],
   "source": [
    "f = open('data/test.txt', 'w')"
   ]
  },
  {
   "cell_type": "markdown",
   "metadata": {},
   "source": [
    "A file named `test.txt` has been opened under `data` folder. `f` is the file object. There are various ways to access and write to file."
   ]
  },
  {
   "cell_type": "code",
   "execution_count": 9,
   "metadata": {},
   "outputs": [
    {
     "data": {
      "text/plain": [
       "11"
      ]
     },
     "execution_count": 9,
     "metadata": {},
     "output_type": "execute_result"
    }
   ],
   "source": [
    "f.write(\"Hello World\")"
   ]
  },
  {
   "cell_type": "markdown",
   "metadata": {},
   "source": [
    "Let's check and see the contents of the file.\n",
    "\n",
    "Why is it empty?"
   ]
  },
  {
   "cell_type": "code",
   "execution_count": 10,
   "metadata": {},
   "outputs": [],
   "source": [
    "f.close()"
   ]
  },
  {
   "cell_type": "markdown",
   "metadata": {},
   "source": [
    "> We discussed this last week. The contents to files are not written/saved imediately to file on disk."
   ]
  },
  {
   "cell_type": "markdown",
   "metadata": {},
   "source": [
    "You can also write to a file by `print` function, with `file=` argument within."
   ]
  },
  {
   "cell_type": "code",
   "execution_count": 11,
   "metadata": {},
   "outputs": [],
   "source": [
    "f = open('data/test2.txt', 'w')\n",
    "print(\"Second hello..\", file=f)\n",
    "f.close()"
   ]
  },
  {
   "cell_type": "markdown",
   "metadata": {},
   "source": [
    "Now, more serious example:"
   ]
  },
  {
   "cell_type": "code",
   "execution_count": 12,
   "metadata": {},
   "outputs": [],
   "source": [
    "# source: https://scipython.com/book/chapter-2-the-core-python-language-i/examples/writing-numbers-to-a-file/\n",
    "f = open('data/powers.txt', 'w')\n",
    "for i in range(1,1001):\n",
    "    print(i, i**2, i**3, i**4, sep=', ', file=f)\n",
    "f.close()"
   ]
  },
  {
   "cell_type": "markdown",
   "metadata": {},
   "source": [
    "Other modes for reading/writing files:\n",
    "\n",
    "* **w** : Write mode. If file does not exist, it creates a new file. *But*, if file exists it truncates the file.\n",
    "* **a** : Append mode, add lines to file (If file does not exist, it creates a new file)\n",
    "* **x** : Creates a new file. If file already exists, the operation fails.\n",
    "* **r** : Read mode\n",
    "\n",
    "Let's read the cubes data from the file."
   ]
  },
  {
   "cell_type": "code",
   "execution_count": 13,
   "metadata": {},
   "outputs": [
    {
     "name": "stdout",
     "output_type": "stream",
     "text": [
      "500 cubed is 125000000\n"
     ]
    }
   ],
   "source": [
    "f = open('data/powers.txt', 'r')\n",
    "cubes= []\n",
    "for line in f.readlines():\n",
    "    fields = line.split(',')\n",
    "    cubes.append(int(fields[2]))\n",
    "f.close()\n",
    "n = 500\n",
    "print(n, 'cubed is', cubes[n-1])"
   ]
  },
  {
   "cell_type": "code",
   "execution_count": 14,
   "metadata": {},
   "outputs": [
    {
     "data": {
      "text/plain": [
       "1000"
      ]
     },
     "execution_count": 14,
     "metadata": {},
     "output_type": "execute_result"
    }
   ],
   "source": [
    "len(cubes)"
   ]
  },
  {
   "cell_type": "code",
   "execution_count": 15,
   "metadata": {},
   "outputs": [
    {
     "data": {
      "text/plain": [
       "[8, 27, 64, 125]"
      ]
     },
     "execution_count": 15,
     "metadata": {},
     "output_type": "execute_result"
    }
   ],
   "source": [
    "cubes[1:5]"
   ]
  },
  {
   "cell_type": "markdown",
   "metadata": {},
   "source": [
    "## Bonus : Memoized Fibonacci\n",
    "\n",
    "Last week we mentioned that recursive Fibonacci calculation is redundant, because smaller Fibonacci numbers are calculated for each branch. And then we mentioned that memoization can make the calculation faster.\n",
    "\n",
    "The main concept here is; if a Fibonacci number is calculated, then keep it in dictionary and use dictionary to extract results for already calculated Fibonacci numbers to avoid recursive branching unnecessarily."
   ]
  },
  {
   "cell_type": "code",
   "execution_count": 16,
   "metadata": {},
   "outputs": [],
   "source": [
    "#https://stackoverflow.com/q/35026477/4579196\n",
    "memo = {}\n",
    "def Fib(n):\n",
    "    if (n < 2):\n",
    "        return 1\n",
    "    if not n in memo:\n",
    "        memo[n] = Fib(n-1) + Fib(n-2)\n",
    "    return memo[n]"
   ]
  },
  {
   "cell_type": "code",
   "execution_count": 17,
   "metadata": {},
   "outputs": [
    {
     "data": {
      "text/plain": [
       "573147844013817084101"
      ]
     },
     "execution_count": 17,
     "metadata": {},
     "output_type": "execute_result"
    }
   ],
   "source": [
    "Fib(100)"
   ]
  },
  {
   "cell_type": "markdown",
   "metadata": {},
   "source": [
    "`memo` is a dictionary."
   ]
  },
  {
   "cell_type": "code",
   "execution_count": 18,
   "metadata": {},
   "outputs": [
    {
     "data": {
      "text/plain": [
       "dict"
      ]
     },
     "execution_count": 18,
     "metadata": {},
     "output_type": "execute_result"
    }
   ],
   "source": [
    "type(memo)"
   ]
  },
  {
   "cell_type": "markdown",
   "metadata": {},
   "source": [
    "and contains `n` as key and `Fib(n)` as value.For example, 10th Fibonacci number is `Fib(10)`, which is 89. Let's the whole contens of the `memo` dictionary."
   ]
  },
  {
   "cell_type": "code",
   "execution_count": 19,
   "metadata": {},
   "outputs": [
    {
     "name": "stdout",
     "output_type": "stream",
     "text": [
      "{2: 2, 3: 3, 4: 5, 5: 8, 6: 13, 7: 21, 8: 34, 9: 55, 10: 89, 11: 144, 12: 233, 13: 377, 14: 610, 15: 987, 16: 1597, 17: 2584, 18: 4181, 19: 6765, 20: 10946, 21: 17711, 22: 28657, 23: 46368, 24: 75025, 25: 121393, 26: 196418, 27: 317811, 28: 514229, 29: 832040, 30: 1346269, 31: 2178309, 32: 3524578, 33: 5702887, 34: 9227465, 35: 14930352, 36: 24157817, 37: 39088169, 38: 63245986, 39: 102334155, 40: 165580141, 41: 267914296, 42: 433494437, 43: 701408733, 44: 1134903170, 45: 1836311903, 46: 2971215073, 47: 4807526976, 48: 7778742049, 49: 12586269025, 50: 20365011074, 51: 32951280099, 52: 53316291173, 53: 86267571272, 54: 139583862445, 55: 225851433717, 56: 365435296162, 57: 591286729879, 58: 956722026041, 59: 1548008755920, 60: 2504730781961, 61: 4052739537881, 62: 6557470319842, 63: 10610209857723, 64: 17167680177565, 65: 27777890035288, 66: 44945570212853, 67: 72723460248141, 68: 117669030460994, 69: 190392490709135, 70: 308061521170129, 71: 498454011879264, 72: 806515533049393, 73: 1304969544928657, 74: 2111485077978050, 75: 3416454622906707, 76: 5527939700884757, 77: 8944394323791464, 78: 14472334024676221, 79: 23416728348467685, 80: 37889062373143906, 81: 61305790721611591, 82: 99194853094755497, 83: 160500643816367088, 84: 259695496911122585, 85: 420196140727489673, 86: 679891637638612258, 87: 1100087778366101931, 88: 1779979416004714189, 89: 2880067194370816120, 90: 4660046610375530309, 91: 7540113804746346429, 92: 12200160415121876738, 93: 19740274219868223167, 94: 31940434634990099905, 95: 51680708854858323072, 96: 83621143489848422977, 97: 135301852344706746049, 98: 218922995834555169026, 99: 354224848179261915075, 100: 573147844013817084101}\n"
     ]
    }
   ],
   "source": [
    "print(memo)"
   ]
  }
 ],
 "metadata": {
  "kernelspec": {
   "display_name": "Python 3",
   "language": "python",
   "name": "python3"
  },
  "language_info": {
   "codemirror_mode": {
    "name": "ipython",
    "version": 3
   },
   "file_extension": ".py",
   "mimetype": "text/x-python",
   "name": "python",
   "nbconvert_exporter": "python",
   "pygments_lexer": "ipython3",
   "version": "3.6.5"
  }
 },
 "nbformat": 4,
 "nbformat_minor": 2
}

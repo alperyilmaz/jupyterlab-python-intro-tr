{
 "cells": [
  {
   "cell_type": "markdown",
   "metadata": {},
   "source": [
    "# Recitation 7 - Second group"
   ]
  },
  {
   "cell_type": "markdown",
   "metadata": {},
   "source": [
    "## Exercise 1\n",
    "\n",
    "Please write a program which will get a number from user and then print *True* or *False* after checking if the number is prime or not.\n",
    "\n",
    "Please use the template below, and carry `is_prime()` function contents from earlier lecture materials."
   ]
  },
  {
   "cell_type": "code",
   "execution_count": null,
   "metadata": {},
   "outputs": [],
   "source": [
    "# Answer 1\n",
    "\n",
    "number=input(\"Please enter an integer: \")\n",
    "# your code here\n",
    "\n",
    "def is_prime(number):\n",
    "    # your code here\n",
    "\n",
    "# call the function is_prime(number) here\n"
   ]
  },
  {
   "cell_type": "markdown",
   "metadata": {},
   "source": [
    "## Exercise 2\n",
    "\n",
    "Please ask user to type a sentence and print character counts in return. (Don't forget to lowercase all letters, don't count `H` and `h` separately)\n",
    "\n",
    "For example, if user types \"Hello World\", you should return: `{'h': 1, 'e': 1, 'l': 3, 'o': 2, 'w': 1, 'r':1, 'd':1}`\n",
    "\n"
   ]
  },
  {
   "cell_type": "code",
   "execution_count": null,
   "metadata": {},
   "outputs": [],
   "source": [
    "# Answer 2\n"
   ]
  },
  {
   "cell_type": "markdown",
   "metadata": {},
   "source": [
    "## Exercise 3\n",
    "\n",
    "Write a function which will calculate sum of Fibonacci numbers smaller than `n`. For example:\n",
    "\n",
    "```python\n",
    ">>> fib_total(20)\n",
    "33\n",
    "```\n",
    "\n",
    "**Note**: Calculate Fibonacci recursively and please ignore memoization from today's lecture.\n",
    "\n"
   ]
  },
  {
   "cell_type": "code",
   "execution_count": null,
   "metadata": {},
   "outputs": [],
   "source": [
    "# Answer 3\n",
    "\n"
   ]
  },
  {
   "cell_type": "markdown",
   "metadata": {},
   "source": [
    "## Exercise 4\n",
    "\n",
    "Let's try to comprehend list comprehension. Given the lists:\n",
    "\n",
    "```python\n",
    "a = ['A', 'B', 'C', 'D', 'E', 'F', 'G']\n",
    "b = [4, 2, 6, 1, 5, 0, 3]\n",
    "```\n",
    "\n",
    "Predict and explain the output of the following statements:\n",
    "\n",
    "1. `[a[x] for x in b]`\n",
    "\n",
    "2. `[a[x] for x in sorted(b)]`\n",
    "\n",
    "3. `[a[b[x]] for x in b]`\n",
    "\n",
    "4. `[x for (y,x) in sorted(zip(b,a))]`\n"
   ]
  },
  {
   "cell_type": "code",
   "execution_count": null,
   "metadata": {},
   "outputs": [],
   "source": [
    "# Answer 4\n",
    "\n",
    "# just run and try to understand the list comprehension examples from above"
   ]
  },
  {
   "cell_type": "markdown",
   "metadata": {},
   "source": [
    "## When finished\n",
    "\n",
    "* Export this notebook as HTML by `File -> Export Notebook As... -> HTML` and save it to your computer\n",
    "* Name the **html** file with your student number as in `STUDENTNO.html`, e.g. 1805A000.html\n",
    "* Upload the **html** file to [bit.ly/rmd-upload](http://bitly.com/rmd-upload)\n",
    "* If you see your filename on screen, then you're all set"
   ]
  }
 ],
 "metadata": {
  "kernelspec": {
   "display_name": "Python 3",
   "language": "python",
   "name": "python3"
  },
  "language_info": {
   "codemirror_mode": {
    "name": "ipython",
    "version": 3
   },
   "file_extension": ".py",
   "mimetype": "text/x-python",
   "name": "python",
   "nbconvert_exporter": "python",
   "pygments_lexer": "ipython3",
   "version": "3.6.5"
  }
 },
 "nbformat": 4,
 "nbformat_minor": 2
}

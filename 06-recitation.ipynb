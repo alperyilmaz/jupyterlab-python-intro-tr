{
 "cells": [
  {
   "cell_type": "markdown",
   "id": "54699f32-e18f-4747-9ae6-882f15e85fed",
   "metadata": {},
   "source": [
    "# Recitation for Lecture 6\n",
    "\n",
    "*Nov 17th, 2021 : Gr2* and *Nov 18th, 2021 : Gr1*"
   ]
  },
  {
   "cell_type": "markdown",
   "id": "fa67e133-54ff-4cfb-b67c-1c2755fc9443",
   "metadata": {},
   "source": [
    "## Exercise 1\n",
    "\n",
    "Please ask user to type a sentence and print character counts in return. (Don't forget to lowercase all letters, don't count `H` and `h` separately)\n",
    "\n",
    "For example, if user types \"Hello World\", you should return: `{'h': 1, 'e': 1, 'l': 3, 'o': 2, 'w': 1, 'r':1, 'd':1}`\n",
    "\n"
   ]
  },
  {
   "cell_type": "code",
   "execution_count": null,
   "id": "00ffcdc4-81ef-4676-9f3d-9135708c1124",
   "metadata": {},
   "outputs": [],
   "source": [
    "# Answer 1\n",
    "\n"
   ]
  },
  {
   "cell_type": "markdown",
   "id": "3362b3a2-6359-4842-82c0-d602bf8f8db3",
   "metadata": {},
   "source": [
    "## Exercise 2\n",
    "\n",
    "Please read the contents of file \"*data/jane-austen-emma.txt*\" and count frequency of \"**letters**\" using dictionary. (Don't forget to lowercase all letters, don't count `H` and `h` separately)\n",
    "\n",
    "For example, you should return: `{'a': 1000, 'e': 2000, 'z': 30, 'd': 20, ...}` (**note**: numbers are for demo purposes, not accurate)\n"
   ]
  },
  {
   "cell_type": "code",
   "execution_count": null,
   "id": "1103fecd-6076-44a2-85d0-60d77acf2544",
   "metadata": {
    "tags": []
   },
   "outputs": [],
   "source": [
    "# Answer 2\n"
   ]
  },
  {
   "cell_type": "markdown",
   "id": "3101f02c-e0b6-4f81-9202-b5e9ae091295",
   "metadata": {},
   "source": [
    "## Exercise 3\n",
    "\n",
    "Given a DNA sequence, please calculate translations in 3 different frames. Use the codon table provided in a file in data folder `data/codon_table.csv` and prepare a codon table dictionary using 1st and 3rd columns after splitting with `,`.\n",
    "\n",
    "For instance, the DNA sequence \"ATGCAATGTCGATCCTAG\" will make up codons \"ATG CAA TGT CGA TCC TAG\" in **frame 1** which will translate into MQCRS* (Met Gln Cys Arg Stop)\n",
    "\n",
    "Please use the DNA sequence below and fill in `...` parts in dictionary generating code. \n",
    "\n",
    "Can you find the secret message in frame 2?"
   ]
  },
  {
   "cell_type": "code",
   "execution_count": null,
   "id": "f2de18ff-eb21-4bab-b157-95114ed61b08",
   "metadata": {
    "tags": []
   },
   "outputs": [],
   "source": [
    "# Answer 3\n",
    "\n",
    "dna = \"AGTCATGGCCAGGAAGAACAACTGGGCCTCAGCCAGCCACGAGCGTGAAAAC\"\n",
    "\n",
    "## codon table dictionary\n",
    "codon_tbl={}\n",
    "f=open(\"...\")\n",
    "for line in ...:\n",
    "    data = line.split(...)\n",
    "    codon_tbl[...]=...\n",
    "\n",
    "# get codons of dna and print aa for each codon using the dictionary\n"
   ]
  },
  {
   "cell_type": "markdown",
   "id": "fb40175a-b75e-4760-b543-0ee3c25a134e",
   "metadata": {},
   "source": [
    "<div class=\"alert alert-block alert-warning\">\n",
    "    <i class=\"fas fa-fw fa-question-circle mr-3 align-self-center\"></i>\n",
    "    <b>Notice:</b> If you have written separate codes for three different frames, you could easily write a function which can get dna sequence and frame number which can prevent repetetion.<br>\n",
    "</div>"
   ]
  },
  {
   "cell_type": "markdown",
   "id": "4812cade-b4e6-41b6-b962-afb20f4a7cf0",
   "metadata": {},
   "source": [
    "## Exercise 4\n",
    "\n",
    "In hangman or other letter based games, it will be wise to use common letters of the language. Or, in cryptography letter frequencies are important for decoding a cryptic text. Most common letters in English are e, t, a, i, o, n, s, h, and r. Let's find out most common letters in Turkish language. The file `data/turkish_texts.csv` contains large Turkish text. Count frequencies of letters and get the most common 5 letters (*hint*: use **sorted()**).  "
   ]
  },
  {
   "cell_type": "code",
   "execution_count": null,
   "id": "bde89d7f-04d5-4016-9ec2-bfa30635509c",
   "metadata": {},
   "outputs": [],
   "source": [
    "# Answer 4\n"
   ]
  },
  {
   "cell_type": "markdown",
   "id": "fe3205b9-e184-4d99-9175-2e6488099943",
   "metadata": {},
   "source": [
    "## Exercise 5\n",
    "\n",
    "Let's try to comprehend list comprehension. Given the lists:\n",
    "\n",
    "```python\n",
    "a = ['A', 'B', 'C', 'D', 'E', 'F', 'G']\n",
    "b = [4, 2, 6, 1, 5, 0, 3]\n",
    "```\n",
    "\n",
    "Predict and explain the output of the following statements:\n",
    "\n",
    "1. `[a[x] for x in b]`\n",
    "\n",
    "2. `[a[x] for x in sorted(b)]`\n",
    "\n",
    "3. `[a[b[x]] for x in b]`\n",
    "\n",
    "4. `[x for (y,x) in sorted(zip(b,a))]`\n"
   ]
  },
  {
   "cell_type": "code",
   "execution_count": null,
   "id": "3f8bf88d-90d9-4f54-88f0-1b4feb49319b",
   "metadata": {},
   "outputs": [],
   "source": [
    "# Answer 5\n",
    "\n",
    "# just run and try to understand the list comprehension examples from above\n"
   ]
  }
 ],
 "metadata": {
  "kernelspec": {
   "display_name": "Python 3",
   "language": "python",
   "name": "python3"
  },
  "language_info": {
   "codemirror_mode": {
    "name": "ipython",
    "version": 3
   },
   "file_extension": ".py",
   "mimetype": "text/x-python",
   "name": "python",
   "nbconvert_exporter": "python",
   "pygments_lexer": "ipython3",
   "version": "3.7.10"
  }
 },
 "nbformat": 4,
 "nbformat_minor": 5
}

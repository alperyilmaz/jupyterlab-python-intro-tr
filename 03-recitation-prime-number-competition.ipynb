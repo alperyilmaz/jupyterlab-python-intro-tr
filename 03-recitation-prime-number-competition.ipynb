{
 "cells": [
  {
   "cell_type": "markdown",
   "id": "0c441cc6-d9ef-4893-99ed-1382ebdf2c96",
   "metadata": {},
   "source": [
    "## Fastest prime number competition\n",
    "\n",
    "Let's find the fastest algoritm online\n",
    "\n",
    "| Student No | Website | Time |\n",
    "|------------|----------|-----|\n",
    "| function from lecture |     | 248 µs ± 1.42 µs |\n"
   ]
  },
  {
   "cell_type": "markdown",
   "id": "e823a767-173d-4c50-b794-7bf1024ca990",
   "metadata": {},
   "source": [
    "Let's use \"7919\" as prime number."
   ]
  },
  {
   "cell_type": "code",
   "execution_count": 1,
   "id": "aa5b123a-14cb-455c-914e-c9302f3c2588",
   "metadata": {},
   "outputs": [],
   "source": [
    "# here's the template\n",
    "\n",
    "# def yourfunction(...)\n",
    "#     your copy pasted function goes here\n",
    "\n",
    "# then benchmark it\n",
    "\n",
    "# %timeit yourfunction(7919)"
   ]
  },
  {
   "cell_type": "code",
   "execution_count": 2,
   "id": "08dd33c2-0c5a-4d2c-a5b2-880b615da805",
   "metadata": {},
   "outputs": [],
   "source": [
    "# send your result in chat.. privately.. and then we'll update the table above"
   ]
  },
  {
   "cell_type": "code",
   "execution_count": 3,
   "id": "497f5b5e-a0ce-41c6-8f4d-d3ea3514b438",
   "metadata": {},
   "outputs": [],
   "source": [
    "def example_function_from_lecture(n):\n",
    "    if n < 2:\n",
    "        return False\n",
    "    if n == 2:\n",
    "        return True\n",
    "    right_numbers = range(3, n // 2, 2)\n",
    "    for right in right_numbers:\n",
    "        result = n % right\n",
    "        if result is 0:         \n",
    "            return False\n",
    "    return True"
   ]
  },
  {
   "cell_type": "code",
   "execution_count": 4,
   "id": "51516a8f-0949-4223-a9e1-af46d9612b7c",
   "metadata": {},
   "outputs": [
    {
     "name": "stdout",
     "output_type": "stream",
     "text": [
      "248 µs ± 1.42 µs per loop (mean ± std. dev. of 7 runs, 1000 loops each)\n"
     ]
    }
   ],
   "source": [
    "%timeit example_function_from_lecture(7919)"
   ]
  }
 ],
 "metadata": {
  "kernelspec": {
   "display_name": "Python 3",
   "language": "python",
   "name": "python3"
  },
  "language_info": {
   "codemirror_mode": {
    "name": "ipython",
    "version": 3
   },
   "file_extension": ".py",
   "mimetype": "text/x-python",
   "name": "python",
   "nbconvert_exporter": "python",
   "pygments_lexer": "ipython3",
   "version": "3.7.10"
  }
 },
 "nbformat": 4,
 "nbformat_minor": 5
}

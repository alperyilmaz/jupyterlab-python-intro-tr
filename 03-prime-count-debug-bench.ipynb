{
 "cells": [
  {
   "cell_type": "markdown",
   "metadata": {},
   "source": [
    "# Lecture 3 - *is_prime()* , debugging, benchmarking and counting\n",
    "\n",
    "## `is_prime` - continued from last week\n",
    "We can achieve faster processing times by not processing what we don't have to.\n",
    "\n",
    "* 1 should be always skipped because all numbers are divisible by 1\n",
    "* the number itself should be skipped because all numbers are divisible by itself\n",
    "* all numbers that are greater than half of the value should be skipped\n",
    "* early termination, if a number is divisible by 3, there's no need to check against following numbers, this will not be faster to find if a number prime or not instead it will be quicker to eliminate if a number is prime or not\n",
    "\n",
    "Let's use the latest function we had written in previous notebook and name it as `is_prime_v1()`"
   ]
  },
  {
   "cell_type": "code",
   "execution_count": 1,
   "metadata": {},
   "outputs": [],
   "source": [
    "def is_prime_v1(left):  \n",
    "    right_numbers = range(2, left - 1)\n",
    "    output = 0\n",
    "    for right in right_numbers:\n",
    "        result = left % right\n",
    "\n",
    "        if result is 0:         \n",
    "            output += 1\n",
    "            \n",
    "    return output is 0"
   ]
  },
  {
   "cell_type": "code",
   "execution_count": 2,
   "metadata": {},
   "outputs": [
    {
     "data": {
      "text/plain": [
       "True"
      ]
     },
     "execution_count": 2,
     "metadata": {},
     "output_type": "execute_result"
    }
   ],
   "source": [
    "is_prime_v1(15485863)"
   ]
  },
  {
   "cell_type": "markdown",
   "metadata": {},
   "source": [
    "Let's start improving the function"
   ]
  },
  {
   "cell_type": "code",
   "execution_count": 3,
   "metadata": {},
   "outputs": [],
   "source": [
    "def is_prime_v2(left):\n",
    "    left_half  = left // 2 # <-- changed, integer division\n",
    "\n",
    "    right_numbers = range(2, left_half) # <-- changed, test divisibility up to half of the numbers\n",
    "    output = 0\n",
    "    \n",
    "    for right in right_numbers:\n",
    "        result = left % right\n",
    "\n",
    "        if result is 0:         \n",
    "            output += 1\n",
    "            \n",
    "    return output is 0\n"
   ]
  },
  {
   "cell_type": "code",
   "execution_count": 4,
   "metadata": {},
   "outputs": [
    {
     "data": {
      "text/plain": [
       "True"
      ]
     },
     "execution_count": 4,
     "metadata": {},
     "output_type": "execute_result"
    }
   ],
   "source": [
    "is_prime_v2(15485863)"
   ]
  },
  {
   "cell_type": "markdown",
   "metadata": {},
   "source": [
    "Let's do one more improvement. We can skip even numbers while generating the numbers. The `range()` function accepts `step` argument as third argument."
   ]
  },
  {
   "cell_type": "code",
   "execution_count": 5,
   "metadata": {},
   "outputs": [
    {
     "data": {
      "text/plain": [
       "[3, 5, 7, 9]"
      ]
     },
     "execution_count": 5,
     "metadata": {},
     "output_type": "execute_result"
    }
   ],
   "source": [
    "list(range(3,10,2))"
   ]
  },
  {
   "cell_type": "code",
   "execution_count": 6,
   "metadata": {},
   "outputs": [],
   "source": [
    "def is_prime_v3(left):\n",
    "    left_half  = left // 2\n",
    "\n",
    "    right_numbers = range(3, left_half, 2) # <-- changed, generate odd numbers only (minor problem about 2)\n",
    "    output = 0\n",
    "    \n",
    "    for right in right_numbers:\n",
    "        result = left % right\n",
    "\n",
    "        if result is 0:         \n",
    "            output += 1\n",
    "            \n",
    "    return output is 0"
   ]
  },
  {
   "cell_type": "code",
   "execution_count": 7,
   "metadata": {},
   "outputs": [
    {
     "name": "stdout",
     "output_type": "stream",
     "text": [
      "CPU times: user 314 ms, sys: 0 ns, total: 314 ms\n",
      "Wall time: 313 ms\n"
     ]
    },
    {
     "data": {
      "text/plain": [
       "True"
      ]
     },
     "execution_count": 7,
     "metadata": {},
     "output_type": "execute_result"
    }
   ],
   "source": [
    "%time is_prime_v3(15485863)"
   ]
  },
  {
   "cell_type": "code",
   "execution_count": 8,
   "metadata": {},
   "outputs": [
    {
     "data": {
      "text/plain": [
       "True"
      ]
     },
     "execution_count": 8,
     "metadata": {},
     "output_type": "execute_result"
    }
   ],
   "source": [
    "is_prime_v3(15485863)"
   ]
  },
  {
   "cell_type": "code",
   "execution_count": 9,
   "metadata": {},
   "outputs": [],
   "source": [
    "def is_prime_v3_1(left):\n",
    "    left_half  = left // 2\n",
    "\n",
    "    right_numbers = range(3, left_half, 2) \n",
    "    output = 0\n",
    "    \n",
    "    for right in right_numbers:\n",
    "        result = left % right\n",
    "\n",
    "        if result is 0:         \n",
    "            output += 1\n",
    "        \n",
    "        if output > 0:  #\n",
    "            break       # <-- changed, if output is above 0, then stop the for loop\n",
    "            \n",
    "    return output is 0"
   ]
  },
  {
   "cell_type": "code",
   "execution_count": 10,
   "metadata": {},
   "outputs": [
    {
     "name": "stdout",
     "output_type": "stream",
     "text": [
      "CPU times: user 7 µs, sys: 1 µs, total: 8 µs\n",
      "Wall time: 9.78 µs\n"
     ]
    },
    {
     "data": {
      "text/plain": [
       "False"
      ]
     },
     "execution_count": 10,
     "metadata": {},
     "output_type": "execute_result"
    }
   ],
   "source": [
    "%time is_prime_v3_1(15485869)"
   ]
  },
  {
   "cell_type": "code",
   "execution_count": 11,
   "metadata": {},
   "outputs": [],
   "source": [
    "def is_prime_v3_2(left):\n",
    "    left_half  = left // 2\n",
    "\n",
    "    right_numbers = range(3, left_half, 2) \n",
    "    output = 0\n",
    "    \n",
    "    for right in right_numbers:\n",
    "        result = left % right\n",
    "\n",
    "        if result is 0:         \n",
    "            output += 1\n",
    "        \n",
    "        if output > 0:  \n",
    "            return False       # <-- changed, if output is above 0, then \n",
    "                               # return False and ignore rest of the steps in function\n",
    "    return output is 0"
   ]
  },
  {
   "cell_type": "code",
   "execution_count": 12,
   "metadata": {},
   "outputs": [
    {
     "name": "stdout",
     "output_type": "stream",
     "text": [
      "CPU times: user 10 µs, sys: 0 ns, total: 10 µs\n",
      "Wall time: 14.5 µs\n"
     ]
    },
    {
     "data": {
      "text/plain": [
       "False"
      ]
     },
     "execution_count": 12,
     "metadata": {},
     "output_type": "execute_result"
    }
   ],
   "source": [
    "%time is_prime_v3_2(15485869)"
   ]
  },
  {
   "cell_type": "code",
   "execution_count": 13,
   "metadata": {},
   "outputs": [
    {
     "data": {
      "text/plain": [
       "True"
      ]
     },
     "execution_count": 13,
     "metadata": {},
     "output_type": "execute_result"
    }
   ],
   "source": [
    "is_prime_v3_1(1)"
   ]
  },
  {
   "cell_type": "markdown",
   "metadata": {},
   "source": [
    "How can you fix the minor problem about 2? Let's use similar approach as in early termination. If the number to be checked is 2, then function should return `True` and exit."
   ]
  },
  {
   "cell_type": "code",
   "execution_count": 14,
   "metadata": {},
   "outputs": [],
   "source": [
    "def is_prime_v4(left):\n",
    "    if left is 2:           # <-- changed, if number to be checked is 2 \n",
    "        return True         # then return True and ignore rest of the steps in function\n",
    "    left_half  = left // 2\n",
    "\n",
    "    right_numbers = range(3, left_half, 2) \n",
    "    output = 0\n",
    "    \n",
    "    for right in right_numbers:\n",
    "        result = left % right\n",
    "\n",
    "        if result is 0:         \n",
    "            output += 1\n",
    "        \n",
    "        if output > 0:  \n",
    "            return False       \n",
    "                               \n",
    "    return output is 0"
   ]
  },
  {
   "cell_type": "markdown",
   "metadata": {},
   "source": [
    "> Adding one more `if` statement for gaining speed might be used with caution. Because, adding one more `if` into the function will slow down the function overall because now the interpreter needs to check the result of that `if` statement. For long loops that will introduce a huge penalty."
   ]
  },
  {
   "cell_type": "markdown",
   "metadata": {},
   "source": [
    "## Benchmarking\n",
    "\n",
    "We already used `%time` magic to calculate how long a statement takes to run. If a function is running too quick, i.e nanoseconds (`ns`) scale, `%time` won't help us measure run time. Thus, there's another magic command, `%timeit`, which runs a statement 100-1000 times and then provides the average runtime, along with other info. "
   ]
  },
  {
   "cell_type": "code",
   "execution_count": 15,
   "metadata": {},
   "outputs": [
    {
     "name": "stdout",
     "output_type": "stream",
     "text": [
      "36.2 µs ± 684 ns per loop (mean ± std. dev. of 7 runs, 10000 loops each)\n"
     ]
    }
   ],
   "source": [
    "%timeit is_prime_v1(511)"
   ]
  },
  {
   "cell_type": "code",
   "execution_count": 16,
   "metadata": {},
   "outputs": [
    {
     "name": "stdout",
     "output_type": "stream",
     "text": [
      "16.3 µs ± 70.8 ns per loop (mean ± std. dev. of 7 runs, 100000 loops each)\n"
     ]
    }
   ],
   "source": [
    "%timeit is_prime_v2(511)"
   ]
  },
  {
   "cell_type": "code",
   "execution_count": 17,
   "metadata": {},
   "outputs": [
    {
     "name": "stdout",
     "output_type": "stream",
     "text": [
      "8.68 µs ± 43.6 ns per loop (mean ± std. dev. of 7 runs, 100000 loops each)\n"
     ]
    }
   ],
   "source": [
    "%timeit is_prime_v3(511)"
   ]
  },
  {
   "cell_type": "code",
   "execution_count": 18,
   "metadata": {},
   "outputs": [
    {
     "name": "stdout",
     "output_type": "stream",
     "text": [
      "792 ns ± 13 ns per loop (mean ± std. dev. of 7 runs, 1000000 loops each)\n"
     ]
    }
   ],
   "source": [
    "%timeit is_prime_v4(511)"
   ]
  },
  {
   "cell_type": "markdown",
   "metadata": {},
   "source": [
    "## Debugging\n",
    "\n",
    "This is an essential and inevitable part of coding. When we make syntax errors, the interpreter will tell us line number and type of error. But, apart from those mistakes, we can make logical mistakes which will not generate error message, they will generate an unexpected result. Even worse, they might fail silently without any indicator.\n",
    "\n",
    "In those cases, we have a \"bug\" in our code and we have to debug it.  \n",
    "\n",
    "There are couple ways to debug code. A simple approach would be adding `print()` statements into the code to check if the variable has the expected value at certain step.\n",
    "\n",
    "Another way would be using \"variable inspector\" which will print about current status at each step of the code. For that purpose http://pythontutor.com can be used. We'll be using that site to debug a function."
   ]
  },
  {
   "cell_type": "markdown",
   "metadata": {},
   "source": [
    "## Counting\n",
    "\n",
    "When there's a loop, there's usually a counter. A counter is usually used to direct the flow of program. For example, \"when a certain number is reached exit the loop\" is achievable by a counter.\n",
    "\n",
    "In many languages you'll see such lines:\n",
    "\n",
    "```\n",
    "counter++\n",
    "```\n",
    "\n",
    "Which is the short form of `counter = counter + 1`. Python does not support that notation and short form of increment operation is `counter += 1`\n",
    "\n",
    "Let's count how many prime numbers are found smaller than 20:"
   ]
  },
  {
   "cell_type": "code",
   "execution_count": 19,
   "metadata": {},
   "outputs": [
    {
     "name": "stdout",
     "output_type": "stream",
     "text": [
      "14\n"
     ]
    }
   ],
   "source": [
    "counter = 0\n",
    "for i in range(2,20):\n",
    "    if is_prime_v4(i):\n",
    "        counter+=1\n",
    "print(counter)"
   ]
  },
  {
   "cell_type": "markdown",
   "metadata": {},
   "source": [
    "That's way too many than expected. Let's see what is going on. Let's see what the function says for each number up to 20."
   ]
  },
  {
   "cell_type": "code",
   "execution_count": 20,
   "metadata": {},
   "outputs": [
    {
     "name": "stdout",
     "output_type": "stream",
     "text": [
      "2 True\n",
      "3 True\n",
      "4 True\n",
      "5 True\n",
      "6 True\n",
      "7 True\n",
      "8 True\n",
      "9 False\n",
      "10 True\n",
      "11 True\n",
      "12 False\n",
      "13 True\n",
      "14 True\n",
      "15 False\n",
      "16 True\n",
      "17 True\n",
      "18 False\n",
      "19 True\n"
     ]
    }
   ],
   "source": [
    "for i in range(2,20):\n",
    "    print(i,is_prime_v4(i))"
   ]
  },
  {
   "cell_type": "code",
   "execution_count": 21,
   "metadata": {},
   "outputs": [
    {
     "data": {
      "text/plain": [
       "False"
      ]
     },
     "execution_count": 21,
     "metadata": {},
     "output_type": "execute_result"
    }
   ],
   "source": [
    "is_prime_v1(4)"
   ]
  },
  {
   "cell_type": "markdown",
   "metadata": {},
   "source": [
    "It is time for debugging. Please head over to http://pythontutor.com and debug the `is_prime_v4()` function."
   ]
  }
 ],
 "metadata": {
  "kernelspec": {
   "display_name": "Python 3",
   "language": "python",
   "name": "python3"
  },
  "language_info": {
   "codemirror_mode": {
    "name": "ipython",
    "version": 3
   },
   "file_extension": ".py",
   "mimetype": "text/x-python",
   "name": "python",
   "nbconvert_exporter": "python",
   "pygments_lexer": "ipython3",
   "version": "3.6.5"
  }
 },
 "nbformat": 4,
 "nbformat_minor": 2
}

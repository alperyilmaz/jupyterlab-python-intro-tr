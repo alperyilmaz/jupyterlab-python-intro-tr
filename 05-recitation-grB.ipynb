{
 "cells": [
  {
   "cell_type": "markdown",
   "metadata": {},
   "source": [
    "# Recitation 5 - Second group"
   ]
  },
  {
   "cell_type": "markdown",
   "metadata": {},
   "source": [
    "## Exercise 1\n",
    "\n",
    "During the lecture we generated word counts for a paragraph. The dictionary is given below. Please search online and find a code to sort keys according to values and print top 10 most occurring words. (hint: top 10 would be `list[:9]` slice)"
   ]
  },
  {
   "cell_type": "code",
   "execution_count": 4,
   "metadata": {},
   "outputs": [],
   "source": [
    "### JUST RUN THIS CELL.. DO NOT MODIFY.. DO NOT RE-WRITE THE CODE.. JUST RUN THIS CELL.. PLEASE, JUST RUN THIS\n",
    "### CELL ONLY.. DO NOT CREATE A NEW DICTIONARY.. PLEASE, JUST RUN THIS CELL\n",
    "\n",
    "paragraph=\"\"\"One morning, when Gregor Samsa woke from troubled dreams, he found himself transformed in his bed \n",
    "into a horrible vermin. He lay on his armour-like back, and if he lifted his head a little he could see his \n",
    "brown belly, slightly domed and divided by arches into stiff sections. The bedding was hardly able to cover it \n",
    "and seemed ready to slide off any moment. His many legs, pitifully thin compared with the size of the rest of \n",
    "him, waved about helplessly as he looked. \"What's happened to me?\" he thought. It wasn't a dream. His room, a \n",
    "proper human room although a little too small, lay peacefully between its four familiar walls. A collection of \n",
    "textile samples lay spread out on the table - Samsa was a travelling salesman - and above it there hung a picture \n",
    "that he had recently cut out of an illustrated magazine and housed in a nice, gilded frame. It showed a lady \n",
    "fitted out with a fur hat and fur boa who sat upright, raising a heavy fur muff that covered the whole of her \n",
    "lower arm towards the viewer. Gregor then turned to look out the window at the dull weather.\"\"\"\n",
    "\n",
    "words = paragraph.replace(\",\",\"\").lower().split()\n",
    "wcounts={}\n",
    "for word in words: \n",
    "    wcounts[word] = wcounts.get(word, 0) + 1"
   ]
  },
  {
   "cell_type": "markdown",
   "metadata": {},
   "source": [
    "Please write your solution below, the output should look like this: `{'a': 12, 'the': 8, 'he': 7, ...}`"
   ]
  },
  {
   "cell_type": "code",
   "execution_count": 5,
   "metadata": {},
   "outputs": [],
   "source": [
    "# Answer 1"
   ]
  },
  {
   "cell_type": "markdown",
   "metadata": {},
   "source": [
    "## Exercise 2\n",
    "\n",
    "Write Python program to find those numbers which are divisible by 9 and multiple of 7, between 1000 and 3600 (both included)"
   ]
  },
  {
   "cell_type": "code",
   "execution_count": 9,
   "metadata": {},
   "outputs": [],
   "source": [
    "# Answer 2"
   ]
  },
  {
   "cell_type": "markdown",
   "metadata": {},
   "source": [
    "## Exercise 3\n",
    "\n",
    "Write a Python program to count the number of even and odd numbers from a series of numbers.\n",
    "\n",
    "Sample: `numbers=(1,2,3,4,5,6,7,8,9)`\n",
    "\n",
    "Expected output: \n",
    "```\n",
    "Number of even numbers: 5\n",
    "Number of odd numbers: 4\n",
    "```"
   ]
  },
  {
   "cell_type": "code",
   "execution_count": 10,
   "metadata": {},
   "outputs": [],
   "source": [
    "# Answer 3"
   ]
  },
  {
   "cell_type": "markdown",
   "metadata": {},
   "source": [
    "## Exercise 4\n",
    "\n",
    "Below is a function to check if a number is prime:"
   ]
  },
  {
   "cell_type": "code",
   "execution_count": 7,
   "metadata": {},
   "outputs": [],
   "source": [
    "# JUST RUN THE CELL\n",
    "def is_prime(a):\n",
    "    return a > 1 and all(a % i for i in range(2, int(a**0.5) + 1))"
   ]
  },
  {
   "cell_type": "markdown",
   "metadata": {},
   "source": [
    "And here's the function we defined in earlier lectures:"
   ]
  },
  {
   "cell_type": "code",
   "execution_count": 8,
   "metadata": {},
   "outputs": [],
   "source": [
    "# DONT CHANGE CODE IN THIS CELL.. JUST RUN IT\n",
    "# DO NOT DEFINE THIS FUNCTION IT IS ALREADY DEFINED\n",
    "# JUST RUN THE CELL\n",
    "def is_prime_ours(n):\n",
    "    n_half  = n // 2\n",
    "    divisors = range(3, n_half, 2) \n",
    "    output = 0\n",
    "    for divisor in divisors:\n",
    "        result = n % divisor\n",
    "        if result is 0:         \n",
    "            output += 1      \n",
    "        if output > 0:  \n",
    "            return False                  \n",
    "    return output is 0"
   ]
  },
  {
   "cell_type": "markdown",
   "metadata": {},
   "source": [
    "Please benchmark both `is_prime()` and `is_prime_ours()` functions using 8191 as prime number. Write the code below"
   ]
  },
  {
   "cell_type": "code",
   "execution_count": null,
   "metadata": {},
   "outputs": [],
   "source": [
    "# answer 4a, bencmark for is_prime"
   ]
  },
  {
   "cell_type": "code",
   "execution_count": null,
   "metadata": {},
   "outputs": [],
   "source": [
    "# answer 4b, bencmark for is_prime_b"
   ]
  },
  {
   "cell_type": "markdown",
   "metadata": {},
   "source": [
    "## When finished\n",
    "\n",
    "* Export this notebook as HTML by `File -> Export Notebook As... -> HTML` and save it to your computer\n",
    "* Name the html file with your student number as in `STUDENTNO.html`, e.g. 1805A000.html\n",
    "* Upload the html file to [bit.ly/rmd-upload](http://bitly.com/rmd-upload)\n",
    "* If you see your filename on screen, then you're all set"
   ]
  }
 ],
 "metadata": {
  "kernelspec": {
   "display_name": "Python 3",
   "language": "python",
   "name": "python3"
  },
  "language_info": {
   "codemirror_mode": {
    "name": "ipython",
    "version": 3
   },
   "file_extension": ".py",
   "mimetype": "text/x-python",
   "name": "python",
   "nbconvert_exporter": "python",
   "pygments_lexer": "ipython3",
   "version": "3.6.5"
  }
 },
 "nbformat": 4,
 "nbformat_minor": 2
}

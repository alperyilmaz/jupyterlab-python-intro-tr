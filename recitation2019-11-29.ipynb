{
 "cells": [
  {
   "cell_type": "markdown",
   "metadata": {},
   "source": [
    "# Recitation on 2019-11-29\n",
    "\n",
    "To be solved by first group of ENF1170 Gr5 and Gr4 students\n",
    "\n",
    "Questions are compiled from: 09-recitation:example2, example4 08-recitation:example2\n",
    "\n",
    "## Question 1\n",
    "\n",
    "Please use the \"data/cal_housing.data\" file and plot age vs. population(log) scatter plot. Here's some info:\n",
    "* house ages is at index 7, population is at index 4\n",
    "* prepare two lists and use them with matplotlib\n",
    "* please use `yscale('log')` for scaling y axis\n",
    "* please remember readline provides string as input\n",
    "\n",
    "The output should like this:\n",
    "\n",
    "![recitation house age and population](images/recitation-house-age-pop.png)\n"
   ]
  },
  {
   "cell_type": "code",
   "execution_count": 1,
   "metadata": {},
   "outputs": [],
   "source": [
    "%matplotlib inline\n",
    "\n",
    "# Answer 1\n",
    "\n"
   ]
  },
  {
   "cell_type": "markdown",
   "metadata": {},
   "source": [
    "# Question 2\n",
    "\n",
    "Please plot $x$, $x^2$ and $x^3$ while generating data using `numpy`. Generate  x data and limit y so that graph looks like:\n",
    "\n",
    "![x squared and cubed](images/recitation-xcubed.png)"
   ]
  },
  {
   "cell_type": "code",
   "execution_count": 2,
   "metadata": {},
   "outputs": [],
   "source": [
    "# Answer 2\n",
    "\n"
   ]
  },
  {
   "cell_type": "markdown",
   "metadata": {},
   "source": [
    "# Question 3\n",
    "\n",
    "Please plot $sin(x)$ and $cos(x)$ as two subplots stacked on top of each other. "
   ]
  },
  {
   "cell_type": "code",
   "execution_count": 3,
   "metadata": {},
   "outputs": [],
   "source": [
    "# Answer 3\n",
    "\n"
   ]
  },
  {
   "cell_type": "markdown",
   "metadata": {},
   "source": [
    "# Question 4\n",
    "\n",
    "In an earlier lecture we counted words in *Emma* by Jane Austen. The novel is available under data folder. Please draw a bargraph showing top 10 words with highest frequency.\n",
    "The code below generates the dictionary to count words and selects top ten words. Use the dictionary to plot the following figure:\n",
    "\n",
    "![Top ten words in Emma](images/emma-top-ten-bar.png)\n"
   ]
  },
  {
   "cell_type": "code",
   "execution_count": 4,
   "metadata": {},
   "outputs": [],
   "source": [
    "f=open(\"data/jane-austen-emma.txt\")\n",
    "word_counts = {}\n",
    "for line in f: \n",
    "    for word in line.split():\n",
    "            word_counts[word.lower()] = word_counts.get(word.lower(),0)+1\n",
    "f.close()\n",
    "top_ten = sorted(word_counts.items(), key=lambda x: x[1], reverse=True)[:10]"
   ]
  },
  {
   "cell_type": "code",
   "execution_count": 5,
   "metadata": {},
   "outputs": [],
   "source": [
    "# plotting commands here\n",
    "\n"
   ]
  }
 ],
 "metadata": {
  "kernelspec": {
   "display_name": "Python 3",
   "language": "python",
   "name": "python3"
  },
  "language_info": {
   "codemirror_mode": {
    "name": "ipython",
    "version": 3
   },
   "file_extension": ".py",
   "mimetype": "text/x-python",
   "name": "python",
   "nbconvert_exporter": "python",
   "pygments_lexer": "ipython3",
   "version": "3.7.3"
  }
 },
 "nbformat": 4,
 "nbformat_minor": 4
}

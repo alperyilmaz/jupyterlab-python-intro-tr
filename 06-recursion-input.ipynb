{
 "cells": [
  {
   "cell_type": "markdown",
   "metadata": {},
   "source": [
    "# Recursion and input"
   ]
  },
  {
   "cell_type": "markdown",
   "metadata": {},
   "source": [
    "## Recursion\n",
    "\n",
    "![recursion](https://cdn-images-1.medium.com/max/1600/1*appBwh6_RtvocVxwqpplHA.jpeg)\n",
    "\n",
    "*[image source](https://medium.freecodecamp.org/learn-recursion-in-10-minutes-e3262ac08a1)*"
   ]
  },
  {
   "cell_type": "markdown",
   "metadata": {},
   "source": [
    "Recursion might a challenging topic. It's much different from loops. \n",
    "\n",
    "An iterative function is one that loops to repeat some part of the code, and a recursive function is one that calls itself again to repeat the code.\n",
    "\n",
    "Let's try to calculate Fibonacci sequence iteratively and with a recursive function."
   ]
  },
  {
   "cell_type": "markdown",
   "metadata": {},
   "source": [
    "Fibonacci sequence is:\n",
    "\n",
    "0, 1, 1, 2, 3, 5, 8, 13, 21, 34, 55, 89, 144, 233, 377, 610, 987, 1597, 2584, 4181, 6765, 10946, 17711, 28657, 46368, 75025, 121393, 196418, 317811, ..."
   ]
  },
  {
   "cell_type": "code",
   "execution_count": 1,
   "metadata": {},
   "outputs": [],
   "source": [
    "# First implementation, https://stackoverflow.com/a/52133289/4579196\n",
    "def fib(n):\n",
    "    i = 1\n",
    "    present = 1\n",
    "    previous = 0\n",
    "\n",
    "    while i < n:\n",
    "        nextterm = present + previous\n",
    "        previous = present\n",
    "        present = nextterm\n",
    "        i = i + 1\n",
    "        #print nextterm\n",
    "\n",
    "    return nextterm"
   ]
  },
  {
   "cell_type": "code",
   "execution_count": 2,
   "metadata": {},
   "outputs": [
    {
     "data": {
      "text/plain": [
       "75025"
      ]
     },
     "execution_count": 2,
     "metadata": {},
     "output_type": "execute_result"
    }
   ],
   "source": [
    "fib(25)"
   ]
  },
  {
   "cell_type": "code",
   "execution_count": 3,
   "metadata": {},
   "outputs": [],
   "source": [
    "# Second implementation, using array, https://stackoverflow.com/a/15047402/4579196\n",
    "def fib_ar(n):                                                                                                 \n",
    "    fibs = [0, 1, 1]                                                                                           \n",
    "    for f in range(2, n):                                                                                      \n",
    "        fibs.append(fibs[-1] + fibs[-2])                                                                         \n",
    "    return fibs[n]"
   ]
  },
  {
   "cell_type": "code",
   "execution_count": 4,
   "metadata": {},
   "outputs": [
    {
     "data": {
      "text/plain": [
       "75025"
      ]
     },
     "execution_count": 4,
     "metadata": {},
     "output_type": "execute_result"
    }
   ],
   "source": [
    "fib_ar(25)"
   ]
  },
  {
   "cell_type": "markdown",
   "metadata": {},
   "source": [
    "Recursive approach will be slightly different. The function will call itself with different inputs.\n",
    "\n",
    "![Fibonacci - recursive](https://upload.wikimedia.org/wikipedia/commons/thumb/5/5f/FibbonacciRecurisive.png/800px-FibbonacciRecurisive.png)\n",
    "\n",
    "*[image source](https://gl.wikipedia.org/wiki/Ficheiro:FibbonacciRecurisive.png)*"
   ]
  },
  {
   "cell_type": "code",
   "execution_count": 5,
   "metadata": {},
   "outputs": [],
   "source": [
    "def fibonacci(number):\n",
    "    if number <2 :\n",
    "        return number\n",
    "    else:\n",
    "        return fibonacci(number - 1) + fibonacci(number - 2)"
   ]
  },
  {
   "cell_type": "code",
   "execution_count": 6,
   "metadata": {},
   "outputs": [
    {
     "data": {
      "text/plain": [
       "75025"
      ]
     },
     "execution_count": 6,
     "metadata": {},
     "output_type": "execute_result"
    }
   ],
   "source": [
    "fibonacci(25)"
   ]
  },
  {
   "cell_type": "markdown",
   "metadata": {},
   "source": [
    "Please use PythonTutor and follow the steps for `fibonacci(5)` which is comprised of 62 steps!"
   ]
  },
  {
   "cell_type": "markdown",
   "metadata": {},
   "source": [
    "## More about recursion\n",
    "\n",
    "* Please search for \"Memoized recursion\", which is more efficient method. As you might have noticed, in `fibonacci()` function we calculate, for instance, `fibonacci(3)` many times.\n",
    "* Functions such as factorial or fibonacci are not truly recursive. They can be calculated in iterative fashion. Please check out \"[Ackermann function](https://en.wikipedia.org/wiki/Ackermann_function)\" which is truly recursive."
   ]
  },
  {
   "cell_type": "markdown",
   "metadata": {},
   "source": [
    "# User input"
   ]
  },
  {
   "cell_type": "markdown",
   "metadata": {},
   "source": [
    "The code can have input from console (user) or from filesystem (file) and use it within the code.\n",
    "\n",
    "Let's first see how to get input from user/console.\n",
    "\n",
    "The function for getting input from user is `input()`"
   ]
  },
  {
   "cell_type": "code",
   "execution_count": 7,
   "metadata": {},
   "outputs": [
    {
     "name": "stdin",
     "output_type": "stream",
     "text": [
      "Write something:  HI\n"
     ]
    }
   ],
   "source": [
    "my_input = input(\"Write something: \")"
   ]
  },
  {
   "cell_type": "code",
   "execution_count": 8,
   "metadata": {},
   "outputs": [
    {
     "name": "stdout",
     "output_type": "stream",
     "text": [
      "HI\n"
     ]
    }
   ],
   "source": [
    "print(my_input)"
   ]
  },
  {
   "cell_type": "markdown",
   "metadata": {},
   "source": [
    "Let's ask user which Fibonacci number should be calculated."
   ]
  },
  {
   "cell_type": "code",
   "execution_count": 9,
   "metadata": {},
   "outputs": [
    {
     "name": "stdin",
     "output_type": "stream",
     "text": [
      "Please enter value to calculate nth Fibonacci number 25\n"
     ]
    },
    {
     "ename": "TypeError",
     "evalue": "'<' not supported between instances of 'str' and 'int'",
     "output_type": "error",
     "traceback": [
      "\u001b[0;31m---------------------------------------------------------------------------\u001b[0m",
      "\u001b[0;31mTypeError\u001b[0m                                 Traceback (most recent call last)",
      "\u001b[0;32m<ipython-input-9-06ff82dff263>\u001b[0m in \u001b[0;36m<module>\u001b[0;34m\u001b[0m\n\u001b[1;32m      1\u001b[0m \u001b[0mf_input\u001b[0m \u001b[0;34m=\u001b[0m \u001b[0minput\u001b[0m\u001b[0;34m(\u001b[0m\u001b[0;34m\"Please enter value to calculate nth Fibonacci number\"\u001b[0m\u001b[0;34m)\u001b[0m\u001b[0;34m\u001b[0m\u001b[0;34m\u001b[0m\u001b[0m\n\u001b[0;32m----> 2\u001b[0;31m \u001b[0mprint\u001b[0m\u001b[0;34m(\u001b[0m\u001b[0mfibonacci\u001b[0m\u001b[0;34m(\u001b[0m\u001b[0mf_input\u001b[0m\u001b[0;34m)\u001b[0m\u001b[0;34m)\u001b[0m\u001b[0;34m\u001b[0m\u001b[0;34m\u001b[0m\u001b[0m\n\u001b[0m\u001b[1;32m      3\u001b[0m \u001b[0;31m#type(f_input)\u001b[0m\u001b[0;34m\u001b[0m\u001b[0;34m\u001b[0m\u001b[0;34m\u001b[0m\u001b[0m\n",
      "\u001b[0;32m<ipython-input-5-c51213c87edb>\u001b[0m in \u001b[0;36mfibonacci\u001b[0;34m(number)\u001b[0m\n\u001b[1;32m      1\u001b[0m \u001b[0;32mdef\u001b[0m \u001b[0mfibonacci\u001b[0m\u001b[0;34m(\u001b[0m\u001b[0mnumber\u001b[0m\u001b[0;34m)\u001b[0m\u001b[0;34m:\u001b[0m\u001b[0;34m\u001b[0m\u001b[0;34m\u001b[0m\u001b[0m\n\u001b[0;32m----> 2\u001b[0;31m     \u001b[0;32mif\u001b[0m \u001b[0mnumber\u001b[0m \u001b[0;34m<\u001b[0m\u001b[0;36m2\u001b[0m \u001b[0;34m:\u001b[0m\u001b[0;34m\u001b[0m\u001b[0;34m\u001b[0m\u001b[0m\n\u001b[0m\u001b[1;32m      3\u001b[0m         \u001b[0;32mreturn\u001b[0m \u001b[0mnumber\u001b[0m\u001b[0;34m\u001b[0m\u001b[0;34m\u001b[0m\u001b[0m\n\u001b[1;32m      4\u001b[0m     \u001b[0;32melse\u001b[0m\u001b[0;34m:\u001b[0m\u001b[0;34m\u001b[0m\u001b[0;34m\u001b[0m\u001b[0m\n\u001b[1;32m      5\u001b[0m         \u001b[0;32mreturn\u001b[0m \u001b[0mfibonacci\u001b[0m\u001b[0;34m(\u001b[0m\u001b[0mnumber\u001b[0m \u001b[0;34m-\u001b[0m \u001b[0;36m1\u001b[0m\u001b[0;34m)\u001b[0m \u001b[0;34m+\u001b[0m \u001b[0mfibonacci\u001b[0m\u001b[0;34m(\u001b[0m\u001b[0mnumber\u001b[0m \u001b[0;34m-\u001b[0m \u001b[0;36m2\u001b[0m\u001b[0;34m)\u001b[0m\u001b[0;34m\u001b[0m\u001b[0;34m\u001b[0m\u001b[0m\n",
      "\u001b[0;31mTypeError\u001b[0m: '<' not supported between instances of 'str' and 'int'"
     ]
    }
   ],
   "source": [
    "f_input = input(\"Please enter value to calculate nth Fibonacci number\")\n",
    "print(fibonacci(f_input))\n",
    "#type(f_input)"
   ]
  },
  {
   "cell_type": "markdown",
   "metadata": {},
   "source": [
    "Uh oh! What just happened?\n",
    "\n",
    "`input()` function assigns the value as string and our function uses integer value. Let's try again:"
   ]
  },
  {
   "cell_type": "code",
   "execution_count": 10,
   "metadata": {},
   "outputs": [
    {
     "name": "stdin",
     "output_type": "stream",
     "text": [
      "Please enter value to calculate nth Fibonacci number 25\n"
     ]
    },
    {
     "name": "stdout",
     "output_type": "stream",
     "text": [
      "75025\n"
     ]
    }
   ],
   "source": [
    "f_input = input(\"Please enter value to calculate nth Fibonacci number\")\n",
    "print(fibonacci(int(f_input)))"
   ]
  },
  {
   "cell_type": "markdown",
   "metadata": {},
   "source": [
    "Being able to get input from user allows us dynamically computing results tailored for the user.\n",
    "\n",
    "We can process list of numbers or do word count for a text input by user\n",
    "\n",
    "### Example 1\n",
    "\n",
    "Take squares of odd numbers in a list provided by user (comma separated)"
   ]
  },
  {
   "cell_type": "code",
   "execution_count": 11,
   "metadata": {},
   "outputs": [
    {
     "name": "stdin",
     "output_type": "stream",
     "text": [
      " 1,2,9,8,7,6,5\n"
     ]
    },
    {
     "name": "stdout",
     "output_type": "stream",
     "text": [
      "[1, 81, 49, 25]\n"
     ]
    }
   ],
   "source": [
    "values = input()\n",
    "\n",
    "# numbers = values.split(\",\")\n",
    "# for number in numbers:\n",
    "#    if int(number) % 2 != 0:\n",
    "#        print(int(number) ** 2)\n",
    "\n",
    "# is equivalent to\n",
    "\n",
    "numbers = [int(x)**2 for x in values.split(\",\") if int(x)%2!=0]\n",
    "print(numbers)\n",
    "\n",
    "# input: 1,2,9,8,7,6,5\n",
    "# will print [1, 81, 49, 25]"
   ]
  },
  {
   "cell_type": "markdown",
   "metadata": {},
   "source": [
    "### Example 2\n",
    "\n",
    "Get a sentence from user and do word count."
   ]
  },
  {
   "cell_type": "code",
   "execution_count": 12,
   "metadata": {},
   "outputs": [
    {
     "name": "stdin",
     "output_type": "stream",
     "text": [
      "Please type a sentence:  hi this is a short sentence and is being count\n"
     ]
    },
    {
     "name": "stdout",
     "output_type": "stream",
     "text": [
      "hi:1\n",
      "this:1\n",
      "is:2\n",
      "a:1\n",
      "short:1\n",
      "sentence:1\n",
      "and:1\n",
      "being:1\n",
      "count:1\n"
     ]
    }
   ],
   "source": [
    "freq = {}   # frequency of words in text\n",
    "line = input(\"Please type a sentence: \")\n",
    "for word in line.split():\n",
    "    freq[word] = freq.get(word,0)+1\n",
    "words = list(freq.keys())\n",
    "for w in words:\n",
    "    print(\"%s:%d\" % (w,freq[w]))\n",
    "# try the sentence: hi this is a short sentence and is being count"
   ]
  },
  {
   "cell_type": "markdown",
   "metadata": {},
   "source": [
    "# File input\n",
    "\n",
    "The `open()` function is used to open files. When you open a file, you assign handle or placeholder for that filename to a variable which can be referred to when file related functions or methods needed. For example, to read a line from a file, you open the file, assign a variable with handle and then call read line method on that handle.\n",
    "\n",
    "`f.read(size)` reads some quantity of data and returns it as a string where size is an optional numeric argument. When size is omitted or negative, the entire contents of the file will be read and returned."
   ]
  },
  {
   "cell_type": "code",
   "execution_count": 13,
   "metadata": {},
   "outputs": [
    {
     "data": {
      "text/plain": [
       "'The Project Gutenberg EBook of Emma, by Jane Austen\\n'"
      ]
     },
     "execution_count": 13,
     "metadata": {},
     "output_type": "execute_result"
    }
   ],
   "source": [
    "f=open(\"data/jane-austen-emma.txt\")\n",
    "# file.read() function will print whole book\n",
    "f.readline()"
   ]
  },
  {
   "cell_type": "markdown",
   "metadata": {},
   "source": [
    "As noted above, `read()` method will retrieve the contents of the whole file at once. For large files, that might be problematic. Thus `readline()` method can be used to retrieve single line. We printed the first line of the file."
   ]
  },
  {
   "cell_type": "code",
   "execution_count": 14,
   "metadata": {},
   "outputs": [
    {
     "data": {
      "text/plain": [
       "'\\n'"
      ]
     },
     "execution_count": 14,
     "metadata": {},
     "output_type": "execute_result"
    }
   ],
   "source": [
    "f.readline()"
   ]
  },
  {
   "cell_type": "markdown",
   "metadata": {},
   "source": [
    "Did you notice that second call to `readline()` printed second line in the file? `readline()` retrieves the line that is next in line. The file object tracks a position in the file and `readline()` call will push the object position to next line in the file.\n",
    "\n",
    "One way to access all the content of a file is to loop over the lines and that is the most memory efficient approach. Because, at each iteration, single line is retrieved and processed. In the example below, a large file is read line by line, instead of printing contents (and filling up the screen) we are counting number of lines."
   ]
  },
  {
   "cell_type": "code",
   "execution_count": 15,
   "metadata": {},
   "outputs": [
    {
     "name": "stdout",
     "output_type": "stream",
     "text": [
      "16633\n"
     ]
    }
   ],
   "source": [
    "# first approach\n",
    "f=open(\"data/jane-austen-emma.txt\")\n",
    "count=0\n",
    "for line in f:\n",
    "    # print line\n",
    "    count += 1\n",
    "print(count)\n",
    "f.close()"
   ]
  },
  {
   "cell_type": "markdown",
   "metadata": {},
   "source": [
    "Second approach is to use `readlines()` method which will retrieve each line from the file and assign it to a list. The advantage is that, you can access any line via index (even after file is closed). However, there's a disadvantage in this approach, if the file is big, then the list will take up too much space in the memory."
   ]
  },
  {
   "cell_type": "code",
   "execution_count": 16,
   "metadata": {},
   "outputs": [],
   "source": [
    "# second approach\n",
    "f=open(\"data/jane-austen-emma.txt\")\n",
    "lines = f.readlines()\n",
    "f.close()"
   ]
  },
  {
   "cell_type": "markdown",
   "metadata": {},
   "source": [
    "When you're done with a file, call `f.close()` to close it and free up any system resources taken up by the open file.\n",
    "\n",
    "As mentioned above, with `readlines()` you can keep the contents of a file in a list which is accessible via index (or slice) even after the file is closed."
   ]
  },
  {
   "cell_type": "code",
   "execution_count": 17,
   "metadata": {},
   "outputs": [
    {
     "data": {
      "text/plain": [
       "['The Project Gutenberg EBook of Emma, by Jane Austen\\n',\n",
       " '\\n',\n",
       " 'This eBook is for the use of anyone anywhere at no cost and with\\n',\n",
       " 'almost no restrictions whatsoever.  You may copy it, give it away or\\n',\n",
       " 're-use it under the terms of the Project Gutenberg License included\\n',\n",
       " 'with this eBook or online at www.gutenberg.org\\n',\n",
       " '\\n',\n",
       " '\\n',\n",
       " 'Title: Emma\\n']"
      ]
     },
     "execution_count": 17,
     "metadata": {},
     "output_type": "execute_result"
    }
   ],
   "source": [
    "lines[0:9]"
   ]
  },
  {
   "cell_type": "markdown",
   "metadata": {},
   "source": [
    "Let's do a word count using the list of lines. Results for only 10 words are shown."
   ]
  },
  {
   "cell_type": "code",
   "execution_count": 18,
   "metadata": {},
   "outputs": [
    {
     "name": "stdout",
     "output_type": "stream",
     "text": [
      "hi:1\n",
      "this:408\n",
      "is:1162\n",
      "a:3006\n",
      "short:28\n",
      "sentence:4\n",
      "and:4308\n",
      "being:353\n",
      "count:2\n"
     ]
    }
   ],
   "source": [
    "for line in lines: \n",
    "    for word in line.split():\n",
    "        freq[word] = freq.get(word,0)+1\n",
    "words = list(freq.keys())[0:9]\n",
    "for w in words:\n",
    "    print(\"%s:%d\" % (w,freq[w]))"
   ]
  }
 ],
 "metadata": {
  "kernelspec": {
   "display_name": "Python 3",
   "language": "python",
   "name": "python3"
  },
  "language_info": {
   "codemirror_mode": {
    "name": "ipython",
    "version": 3
   },
   "file_extension": ".py",
   "mimetype": "text/x-python",
   "name": "python",
   "nbconvert_exporter": "python",
   "pygments_lexer": "ipython3",
   "version": "3.7.3"
  }
 },
 "nbformat": 4,
 "nbformat_minor": 4
}

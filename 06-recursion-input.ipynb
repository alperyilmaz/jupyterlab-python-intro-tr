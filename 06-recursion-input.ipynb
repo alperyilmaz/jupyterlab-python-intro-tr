{
 "cells": [
  {
   "cell_type": "markdown",
   "metadata": {},
   "source": [
    "# Recursion and input"
   ]
  },
  {
   "cell_type": "markdown",
   "metadata": {},
   "source": [
    "## Recursion\n",
    "\n",
    "![recursion](https://cdn-images-1.medium.com/max/1600/1*appBwh6_RtvocVxwqpplHA.jpeg)\n",
    "\n",
    "*[image source](https://medium.freecodecamp.org/learn-recursion-in-10-minutes-e3262ac08a1)*"
   ]
  },
  {
   "cell_type": "markdown",
   "metadata": {},
   "source": [
    "Recursion might a challenging topic. It's much different from loops. \n",
    "\n",
    "An iterative function is one that loops to repeat some part of the code, and a recursive function is one that calls itself again to repeat the code.\n",
    "\n",
    "Let's try to calculate Fibonacci sequence iteratively and with a recursive function."
   ]
  },
  {
   "cell_type": "markdown",
   "metadata": {},
   "source": [
    "Fibonacci sequence is:\n",
    "\n",
    "0, 1, 1, 2, 3, 5, 8, 13, 21, 34, 55, 89, 144, 233, 377, 610, 987, 1597, 2584, 4181, 6765, 10946, 17711, 28657, 46368, 75025, 121393, 196418, 317811, ..."
   ]
  },
  {
   "cell_type": "code",
   "execution_count": 1,
   "metadata": {},
   "outputs": [],
   "source": [
    "# First implementation, https://stackoverflow.com/a/52133289/4579196\n",
    "def fib(n):\n",
    "    i = 1\n",
    "    present = 1\n",
    "    previous = 0\n",
    "\n",
    "    while i < n:\n",
    "        nextterm = present + previous\n",
    "        previous = present\n",
    "        present = nextterm\n",
    "        i = i + 1\n",
    "        #print nextterm\n",
    "\n",
    "    return nextterm"
   ]
  },
  {
   "cell_type": "code",
   "execution_count": 2,
   "metadata": {},
   "outputs": [
    {
     "data": {
      "text/plain": [
       "75025"
      ]
     },
     "execution_count": 2,
     "metadata": {},
     "output_type": "execute_result"
    }
   ],
   "source": [
    "fib(25)"
   ]
  },
  {
   "cell_type": "code",
   "execution_count": 3,
   "metadata": {},
   "outputs": [],
   "source": [
    "# Second implementation, using array, https://stackoverflow.com/a/15047402/4579196\n",
    "def fib_ar(n):                                                                                                 \n",
    "    fibs = [0, 1, 1]                                                                                           \n",
    "    for f in range(2, n):                                                                                      \n",
    "        fibs.append(fibs[-1] + fibs[-2])                                                                         \n",
    "    return fibs[n]"
   ]
  },
  {
   "cell_type": "code",
   "execution_count": 4,
   "metadata": {},
   "outputs": [
    {
     "data": {
      "text/plain": [
       "75025"
      ]
     },
     "execution_count": 4,
     "metadata": {},
     "output_type": "execute_result"
    }
   ],
   "source": [
    "fib_ar(25)"
   ]
  },
  {
   "cell_type": "markdown",
   "metadata": {},
   "source": [
    "Recursive approach will be slightly different. The function will call itself with different inputs.\n",
    "\n",
    "![Fibonacci - recursive](https://upload.wikimedia.org/wikipedia/commons/thumb/5/5f/FibbonacciRecurisive.png/800px-FibbonacciRecurisive.png)\n",
    "\n",
    "*[image source](https://gl.wikipedia.org/wiki/Ficheiro:FibbonacciRecurisive.png)*"
   ]
  },
  {
   "cell_type": "code",
   "execution_count": 5,
   "metadata": {},
   "outputs": [],
   "source": [
    "def fibonacci(number):\n",
    "    if number <2 :\n",
    "        return number\n",
    "    else:\n",
    "        return fibonacci(number - 1) + fibonacci(number - 2)"
   ]
  },
  {
   "cell_type": "code",
   "execution_count": 6,
   "metadata": {},
   "outputs": [
    {
     "data": {
      "text/plain": [
       "75025"
      ]
     },
     "execution_count": 6,
     "metadata": {},
     "output_type": "execute_result"
    }
   ],
   "source": [
    "fibonacci(25)"
   ]
  },
  {
   "cell_type": "markdown",
   "metadata": {},
   "source": [
    "Please use PythonTutor and follow the steps for `fibonacci(5)` which is comprised of 62 steps!"
   ]
  },
  {
   "cell_type": "markdown",
   "metadata": {},
   "source": [
    "## More about recursion\n",
    "\n",
    "* Please search for \"Memoized recursion\", which is more efficient method. As you might have noticed, in `fibonacci()` function we calculate, for instance, `fibonacci(3)` many times.\n",
    "* Functions such as factorial or fibonacci are not truly recursive. They can be calculated in iterative fashion. Please check out \"[Ackermann function](https://en.wikipedia.org/wiki/Ackermann_function)\" which is truly recursive."
   ]
  },
  {
   "cell_type": "markdown",
   "metadata": {},
   "source": [
    "## Solve Towers of Hanoi with recursion"
   ]
  },
  {
   "cell_type": "markdown",
   "metadata": {},
   "source": [
    "\n",
    "The code below is taken from Chapter 2 of the book \"Learning Scientific Programming with Python\" and here's the [link](https://scipython.com/book/chapter-2-the-core-python-language-i/examples/the-tower-of-hanoi/) for the source code.\n",
    "\n",
    "The problem can be solved using the following recursive algorithm. Label the discs $D_i$ with $D_1$ the smallest disc and $D_n$ the largest.\n",
    "\n",
    "* Move discs $D_1$,$D_2$,$\\ldots$,$D_{n−1}$ from A to B;\n",
    "* Move disc $D_n$ from A to C;\n",
    "* Move discs $D_1$,$D_2$,$\\ldots$,$D_{n−1}$ from B to C."
   ]
  },
  {
   "cell_type": "markdown",
   "metadata": {},
   "source": [
    "### Resource 1\n",
    "\n",
    "From the book \"Learning Scientific Programming with Python\""
   ]
  },
  {
   "cell_type": "code",
   "execution_count": 7,
   "metadata": {},
   "outputs": [],
   "source": [
    "def hanoi(n, P1, P2, P3):\n",
    "    \"\"\" Move n discs from pole P1 to pole P3. \"\"\"\n",
    "    if n == 0:\n",
    "        # No more discs to move in this step\n",
    "        return\n",
    "\n",
    "    global count\n",
    "    count += 1\n",
    "\n",
    "    # move n-1 discs from P1 to P2\n",
    "    hanoi(n-1, P1, P3, P2)\n",
    "\n",
    "    if P1:\n",
    "        # move disc from P1 to P3\n",
    "        P3.append(P1.pop())\n",
    "        print(A, \"\\t\\t\", B, \"\\t\\t\", C)\n",
    "\n",
    "    # move n-1 discs from P2 to P3\n",
    "    hanoi(n-1, P2, P1, P3)"
   ]
  },
  {
   "cell_type": "code",
   "execution_count": 8,
   "metadata": {},
   "outputs": [
    {
     "name": "stdout",
     "output_type": "stream",
     "text": [
      "[4, 3, 2, 1] \t\t [] \t\t []\n"
     ]
    }
   ],
   "source": [
    "# Initialize the poles: all n discs are on pole A.\n",
    "n = 4\n",
    "A = list(range(n,0,-1))\n",
    "B, C = [], []\n",
    "print(A, \"\\t\\t\",B,\"\\t\\t\", C)"
   ]
  },
  {
   "cell_type": "code",
   "execution_count": 9,
   "metadata": {},
   "outputs": [
    {
     "name": "stdout",
     "output_type": "stream",
     "text": [
      "[4, 3, 2] \t\t [1] \t\t []\n",
      "[4, 3] \t\t [1] \t\t [2]\n",
      "[4, 3] \t\t [] \t\t [2, 1]\n",
      "[4] \t\t [3] \t\t [2, 1]\n",
      "[4, 1] \t\t [3] \t\t [2]\n",
      "[4, 1] \t\t [3, 2] \t\t []\n",
      "[4] \t\t [3, 2, 1] \t\t []\n",
      "[] \t\t [3, 2, 1] \t\t [4]\n",
      "[] \t\t [3, 2] \t\t [4, 1]\n",
      "[2] \t\t [3] \t\t [4, 1]\n",
      "[2, 1] \t\t [3] \t\t [4]\n",
      "[2, 1] \t\t [] \t\t [4, 3]\n",
      "[2] \t\t [1] \t\t [4, 3]\n",
      "[] \t\t [1] \t\t [4, 3, 2]\n",
      "[] \t\t [] \t\t [4, 3, 2, 1]\n",
      "15\n"
     ]
    }
   ],
   "source": [
    "count = 0\n",
    "hanoi(n, A, B, C)\n",
    "print(count)"
   ]
  },
  {
   "cell_type": "markdown",
   "metadata": {},
   "source": [
    "Here's the visualization for 3-disc Towers of Hanoi solution. Please compare with the output of the code.\n",
    "\n",
    "![Hanoi 3disc](https://www.python-course.eu/images/towers_of_hanoi_3_disks.jpg)\n",
    "\n",
    "*[image source](https://www.python-course.eu/towers_of_hanoi.php)*"
   ]
  },
  {
   "cell_type": "markdown",
   "metadata": {},
   "source": [
    "### Resource 2\n",
    "\n",
    "[Python Course website](https://www.python-course.eu/towers_of_hanoi.php)"
   ]
  },
  {
   "cell_type": "code",
   "execution_count": 10,
   "metadata": {},
   "outputs": [],
   "source": [
    "def hanoi2(n, source, helper, target):\n",
    "    global count2\n",
    "    if n > 0:\n",
    "        count2 += 1\n",
    "        # move tower of size n - 1 to helper:\n",
    "        hanoi2(n - 1, source, target, helper)\n",
    "        # move disk from source peg to target peg\n",
    "        if source:\n",
    "            target.append(source.pop())\n",
    "            #print(source, helper, target)\n",
    "        # move tower of size n-1 from helper to target\n",
    "        hanoi2(n - 1, helper, source, target)"
   ]
  },
  {
   "cell_type": "code",
   "execution_count": 11,
   "metadata": {},
   "outputs": [
    {
     "name": "stdout",
     "output_type": "stream",
     "text": [
      "[3, 2, 1] [] []\n",
      "[] [] [3, 2, 1]\n",
      "7\n"
     ]
    }
   ],
   "source": [
    "source = [3,2,1]\n",
    "target = []\n",
    "helper = []\n",
    "\n",
    "print(source, helper, target)\n",
    "count2=0\n",
    "hanoi2(len(source),source,helper,target)\n",
    "print(source, helper, target)\n",
    "print(count2)"
   ]
  },
  {
   "cell_type": "markdown",
   "metadata": {},
   "source": [
    "## Bonus : Memoized Fibonacci\n",
    "\n",
    "Last week we mentioned that recursive Fibonacci calculation is redundant, because smaller Fibonacci numbers are calculated for each branch. And then we mentioned that memoization can make the calculation faster.\n",
    "\n",
    "The main concept here is; if a Fibonacci number is calculated, then keep it in dictionary and use dictionary to extract results for already calculated Fibonacci numbers to avoid recursive branching unnecessarily."
   ]
  },
  {
   "cell_type": "code",
   "execution_count": 12,
   "metadata": {},
   "outputs": [],
   "source": [
    "#https://stackoverflow.com/q/35026477/4579196\n",
    "memo = {}\n",
    "def Fib(n):\n",
    "    if (n < 2):\n",
    "        return 1\n",
    "    if not n in memo:\n",
    "        memo[n] = Fib(n-1) + Fib(n-2)\n",
    "    return memo[n]"
   ]
  },
  {
   "cell_type": "code",
   "execution_count": 13,
   "metadata": {},
   "outputs": [
    {
     "data": {
      "text/plain": [
       "573147844013817084101"
      ]
     },
     "execution_count": 13,
     "metadata": {},
     "output_type": "execute_result"
    }
   ],
   "source": [
    "Fib(100)"
   ]
  },
  {
   "cell_type": "markdown",
   "metadata": {},
   "source": [
    "`memo` is a dictionary."
   ]
  },
  {
   "cell_type": "code",
   "execution_count": 14,
   "metadata": {},
   "outputs": [
    {
     "data": {
      "text/plain": [
       "dict"
      ]
     },
     "execution_count": 14,
     "metadata": {},
     "output_type": "execute_result"
    }
   ],
   "source": [
    "type(memo)"
   ]
  },
  {
   "cell_type": "markdown",
   "metadata": {},
   "source": [
    "and contains `n` as key and `Fib(n)` as value.For example, 10th Fibonacci number is `Fib(10)`, which is 89. Let's the whole contens of the `memo` dictionary."
   ]
  },
  {
   "cell_type": "code",
   "execution_count": 15,
   "metadata": {},
   "outputs": [
    {
     "name": "stdout",
     "output_type": "stream",
     "text": [
      "{2: 2, 3: 3, 4: 5, 5: 8, 6: 13, 7: 21, 8: 34, 9: 55, 10: 89, 11: 144, 12: 233, 13: 377, 14: 610, 15: 987, 16: 1597, 17: 2584, 18: 4181, 19: 6765, 20: 10946, 21: 17711, 22: 28657, 23: 46368, 24: 75025, 25: 121393, 26: 196418, 27: 317811, 28: 514229, 29: 832040, 30: 1346269, 31: 2178309, 32: 3524578, 33: 5702887, 34: 9227465, 35: 14930352, 36: 24157817, 37: 39088169, 38: 63245986, 39: 102334155, 40: 165580141, 41: 267914296, 42: 433494437, 43: 701408733, 44: 1134903170, 45: 1836311903, 46: 2971215073, 47: 4807526976, 48: 7778742049, 49: 12586269025, 50: 20365011074, 51: 32951280099, 52: 53316291173, 53: 86267571272, 54: 139583862445, 55: 225851433717, 56: 365435296162, 57: 591286729879, 58: 956722026041, 59: 1548008755920, 60: 2504730781961, 61: 4052739537881, 62: 6557470319842, 63: 10610209857723, 64: 17167680177565, 65: 27777890035288, 66: 44945570212853, 67: 72723460248141, 68: 117669030460994, 69: 190392490709135, 70: 308061521170129, 71: 498454011879264, 72: 806515533049393, 73: 1304969544928657, 74: 2111485077978050, 75: 3416454622906707, 76: 5527939700884757, 77: 8944394323791464, 78: 14472334024676221, 79: 23416728348467685, 80: 37889062373143906, 81: 61305790721611591, 82: 99194853094755497, 83: 160500643816367088, 84: 259695496911122585, 85: 420196140727489673, 86: 679891637638612258, 87: 1100087778366101931, 88: 1779979416004714189, 89: 2880067194370816120, 90: 4660046610375530309, 91: 7540113804746346429, 92: 12200160415121876738, 93: 19740274219868223167, 94: 31940434634990099905, 95: 51680708854858323072, 96: 83621143489848422977, 97: 135301852344706746049, 98: 218922995834555169026, 99: 354224848179261915075, 100: 573147844013817084101}\n"
     ]
    }
   ],
   "source": [
    "print(memo)"
   ]
  },
  {
   "cell_type": "markdown",
   "metadata": {},
   "source": [
    "# User input"
   ]
  },
  {
   "cell_type": "markdown",
   "metadata": {},
   "source": [
    "The code can have input from console (user) or from filesystem (file) and use it within the code.\n",
    "\n",
    "Let's first see how to get input from user/console.\n",
    "\n",
    "The function for getting input from user is `input()`"
   ]
  },
  {
   "cell_type": "code",
   "execution_count": 16,
   "metadata": {},
   "outputs": [
    {
     "name": "stdin",
     "output_type": "stream",
     "text": [
      "Write something:  hello\n"
     ]
    }
   ],
   "source": [
    "my_input = input(\"Write something: \")"
   ]
  },
  {
   "cell_type": "code",
   "execution_count": 17,
   "metadata": {},
   "outputs": [
    {
     "name": "stdout",
     "output_type": "stream",
     "text": [
      "hello\n"
     ]
    }
   ],
   "source": [
    "print(my_input)"
   ]
  },
  {
   "cell_type": "markdown",
   "metadata": {},
   "source": [
    "Let's ask user which Fibonacci number should be calculated."
   ]
  },
  {
   "cell_type": "code",
   "execution_count": 18,
   "metadata": {},
   "outputs": [
    {
     "name": "stdin",
     "output_type": "stream",
     "text": [
      "Please enter value to calculate nth Fibonacci number 10\n"
     ]
    },
    {
     "ename": "TypeError",
     "evalue": "'<' not supported between instances of 'str' and 'int'",
     "output_type": "error",
     "traceback": [
      "\u001b[0;31m---------------------------------------------------------------------------\u001b[0m",
      "\u001b[0;31mTypeError\u001b[0m                                 Traceback (most recent call last)",
      "\u001b[0;32m<ipython-input-18-a2cdd0724383>\u001b[0m in \u001b[0;36m<module>\u001b[0;34m\u001b[0m\n\u001b[1;32m      1\u001b[0m \u001b[0mf_input\u001b[0m \u001b[0;34m=\u001b[0m \u001b[0minput\u001b[0m\u001b[0;34m(\u001b[0m\u001b[0;34m\"Please enter value to calculate nth Fibonacci number\"\u001b[0m\u001b[0;34m)\u001b[0m\u001b[0;34m\u001b[0m\u001b[0;34m\u001b[0m\u001b[0m\n\u001b[1;32m      2\u001b[0m \u001b[0;31m#type(f_input)\u001b[0m\u001b[0;34m\u001b[0m\u001b[0;34m\u001b[0m\u001b[0;34m\u001b[0m\u001b[0m\n\u001b[0;32m----> 3\u001b[0;31m \u001b[0mprint\u001b[0m\u001b[0;34m(\u001b[0m\u001b[0mfibonacci\u001b[0m\u001b[0;34m(\u001b[0m\u001b[0mf_input\u001b[0m\u001b[0;34m)\u001b[0m\u001b[0;34m)\u001b[0m\u001b[0;34m\u001b[0m\u001b[0;34m\u001b[0m\u001b[0m\n\u001b[0m",
      "\u001b[0;32m<ipython-input-5-c51213c87edb>\u001b[0m in \u001b[0;36mfibonacci\u001b[0;34m(number)\u001b[0m\n\u001b[1;32m      1\u001b[0m \u001b[0;32mdef\u001b[0m \u001b[0mfibonacci\u001b[0m\u001b[0;34m(\u001b[0m\u001b[0mnumber\u001b[0m\u001b[0;34m)\u001b[0m\u001b[0;34m:\u001b[0m\u001b[0;34m\u001b[0m\u001b[0;34m\u001b[0m\u001b[0m\n\u001b[0;32m----> 2\u001b[0;31m     \u001b[0;32mif\u001b[0m \u001b[0mnumber\u001b[0m \u001b[0;34m<\u001b[0m\u001b[0;36m2\u001b[0m \u001b[0;34m:\u001b[0m\u001b[0;34m\u001b[0m\u001b[0;34m\u001b[0m\u001b[0m\n\u001b[0m\u001b[1;32m      3\u001b[0m         \u001b[0;32mreturn\u001b[0m \u001b[0mnumber\u001b[0m\u001b[0;34m\u001b[0m\u001b[0;34m\u001b[0m\u001b[0m\n\u001b[1;32m      4\u001b[0m     \u001b[0;32melse\u001b[0m\u001b[0;34m:\u001b[0m\u001b[0;34m\u001b[0m\u001b[0;34m\u001b[0m\u001b[0m\n\u001b[1;32m      5\u001b[0m         \u001b[0;32mreturn\u001b[0m \u001b[0mfibonacci\u001b[0m\u001b[0;34m(\u001b[0m\u001b[0mnumber\u001b[0m \u001b[0;34m-\u001b[0m \u001b[0;36m1\u001b[0m\u001b[0;34m)\u001b[0m \u001b[0;34m+\u001b[0m \u001b[0mfibonacci\u001b[0m\u001b[0;34m(\u001b[0m\u001b[0mnumber\u001b[0m \u001b[0;34m-\u001b[0m \u001b[0;36m2\u001b[0m\u001b[0;34m)\u001b[0m\u001b[0;34m\u001b[0m\u001b[0;34m\u001b[0m\u001b[0m\n",
      "\u001b[0;31mTypeError\u001b[0m: '<' not supported between instances of 'str' and 'int'"
     ]
    }
   ],
   "source": [
    "f_input = input(\"Please enter value to calculate nth Fibonacci number\")\n",
    "#type(f_input)\n",
    "print(fibonacci(f_input))"
   ]
  },
  {
   "cell_type": "markdown",
   "metadata": {},
   "source": [
    "Uh oh! What just happened?\n",
    "\n",
    "`input()` function assigns the value as string and our function uses integer value. Let's try again:"
   ]
  },
  {
   "cell_type": "code",
   "execution_count": 19,
   "metadata": {},
   "outputs": [
    {
     "name": "stdin",
     "output_type": "stream",
     "text": [
      "Please enter value to calculate nth Fibonacci number 10\n"
     ]
    },
    {
     "name": "stdout",
     "output_type": "stream",
     "text": [
      "55\n"
     ]
    }
   ],
   "source": [
    "f_input = input(\"Please enter value to calculate nth Fibonacci number\")\n",
    "print(fibonacci(int(f_input)))"
   ]
  },
  {
   "cell_type": "markdown",
   "metadata": {},
   "source": [
    "Being able to get input from user allows us dynamically computing results tailored for the user.\n",
    "\n",
    "We can process list of numbers or do word count for a text input by user\n",
    "\n",
    "### Example 1\n",
    "\n",
    "Take squares of odd numbers in a list provided by user (comma separated)"
   ]
  },
  {
   "cell_type": "code",
   "execution_count": 20,
   "metadata": {},
   "outputs": [
    {
     "name": "stdin",
     "output_type": "stream",
     "text": [
      " 1,2,9,8,7,6,5\n"
     ]
    },
    {
     "name": "stdout",
     "output_type": "stream",
     "text": [
      "[1, 81, 49, 25]\n"
     ]
    }
   ],
   "source": [
    "values = input()\n",
    "\n",
    "# numbers = values.split(\",\")\n",
    "# for number in numbers:\n",
    "#    if int(number) % 2 != 0:\n",
    "#        print(int(number) ** 2)\n",
    "\n",
    "# is equivalent to\n",
    "\n",
    "numbers = [int(x)**2 for x in values.split(\",\") if int(x)%2!=0]\n",
    "print(numbers)\n",
    "\n",
    "# input: 1,2,9,8,7,6,5\n",
    "# will print [1, 81, 49, 25]"
   ]
  },
  {
   "cell_type": "markdown",
   "metadata": {},
   "source": [
    "### Example 2\n",
    "\n",
    "Get a sentence from user and do word count."
   ]
  },
  {
   "cell_type": "code",
   "execution_count": 21,
   "metadata": {},
   "outputs": [
    {
     "name": "stdin",
     "output_type": "stream",
     "text": [
      "Please type a sentence:  to be or not to be\n"
     ]
    },
    {
     "name": "stdout",
     "output_type": "stream",
     "text": [
      "to: 2\n",
      "be: 2\n",
      "or: 1\n",
      "not: 1\n"
     ]
    }
   ],
   "source": [
    "freq = {}   # frequency of words in text\n",
    "line = input(\"Please type a sentence: \")\n",
    "for word in line.split():\n",
    "    freq[word] = freq.get(word,0)+1\n",
    "words = list(freq.keys())\n",
    "for w in words:\n",
    "    print(\"%s: %d\" % (w,freq[w]))\n",
    "# try the sentence: to be or not to be"
   ]
  },
  {
   "cell_type": "markdown",
   "metadata": {},
   "source": [
    "### Example 3 Number guessing game"
   ]
  },
  {
   "cell_type": "markdown",
   "metadata": {},
   "source": [
    "This game illustrates an interesting use of `while` loop. We continuously get input from the user and inform about the result."
   ]
  },
  {
   "cell_type": "code",
   "execution_count": 22,
   "metadata": {},
   "outputs": [
    {
     "name": "stdin",
     "output_type": "stream",
     "text": [
      "What could it be? >  5\n"
     ]
    },
    {
     "name": "stdout",
     "output_type": "stream",
     "text": [
      "TOO HIGH\n"
     ]
    },
    {
     "name": "stdin",
     "output_type": "stream",
     "text": [
      "What could it be? >  3\n"
     ]
    },
    {
     "name": "stdout",
     "output_type": "stream",
     "text": [
      "TOO LOW\n"
     ]
    },
    {
     "name": "stdin",
     "output_type": "stream",
     "text": [
      "What could it be? >  4\n"
     ]
    },
    {
     "name": "stdout",
     "output_type": "stream",
     "text": [
      "CONGRATS YOU GOT IT\n"
     ]
    }
   ],
   "source": [
    "import random\n",
    "\n",
    "random_number = random.randrange(1, 10)\n",
    "\n",
    "while True:\n",
    "    guess = int(input(\"What could it be? > \"))  # ask as long as answer is not correct\n",
    "    if guess == random_number:\n",
    "        print(\"CONGRATS YOU GOT IT\")\n",
    "        break\n",
    "    elif guess > random_number:\n",
    "        print(\"TOO HIGH\")\n",
    "    elif guess < random_number:\n",
    "        print(\"TOO LOW\")\n",
    "    else:\n",
    "        print(\"Try something else\")"
   ]
  },
  {
   "cell_type": "code",
   "execution_count": 23,
   "metadata": {},
   "outputs": [
    {
     "name": "stdout",
     "output_type": "stream",
     "text": [
      "5\n"
     ]
    }
   ],
   "source": [
    "import random\n",
    "random_number = random.randrange(1, 10)\n",
    "print(random_number)"
   ]
  }
 ],
 "metadata": {
  "kernelspec": {
   "display_name": "Python 3",
   "language": "python",
   "name": "python3"
  },
  "language_info": {
   "codemirror_mode": {
    "name": "ipython",
    "version": 3
   },
   "file_extension": ".py",
   "mimetype": "text/x-python",
   "name": "python",
   "nbconvert_exporter": "python",
   "pygments_lexer": "ipython3",
   "version": "3.7.3"
  }
 },
 "nbformat": 4,
 "nbformat_minor": 4
}
